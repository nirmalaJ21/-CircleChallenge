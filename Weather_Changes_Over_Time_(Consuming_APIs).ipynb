{
  "cells": [
    {
      "cell_type": "markdown",
      "metadata": {
        "id": "view-in-github",
        "colab_type": "text"
      },
      "source": [
        "<a href=\"https://colab.research.google.com/github/nirmalaJ21/-CircleChallenge/blob/main/Weather_Changes_Over_Time_(Consuming_APIs).ipynb\" target=\"_parent\"><img src=\"https://colab.research.google.com/assets/colab-badge.svg\" alt=\"Open In Colab\"/></a>"
      ]
    },
    {
      "cell_type": "markdown",
      "id": "ec7397bf",
      "metadata": {
        "id": "ec7397bf"
      },
      "source": [
        "# Weather Changes Over Time (Consuming APIs)\n",
        "\n",
        "## Task\n",
        "Utilize the following two APIs to evaluate the changes in temperature for your birthday and city you were born in:\n",
        "* [geocode.xyz](geocode.xyz)\n",
        "* [open-meteo.com](open-meteo.com)\n"
      ]
    },
    {
      "cell_type": "code",
      "execution_count": null,
      "id": "b25836d9",
      "metadata": {
        "ExecuteTime": {
          "end_time": "2023-02-28T00:37:36.649033Z",
          "start_time": "2023-02-28T00:37:35.420371Z"
        },
        "id": "b25836d9"
      },
      "outputs": [],
      "source": [
        "from datetime import date, datetime, timedelta\n",
        "\n",
        "import requests\n",
        "import pandas as pd\n",
        "import numpy as np\n",
        "\n",
        "import seaborn as sns\n",
        "from matplotlib import pyplot as plt\n",
        "from matplotlib.ticker import FormatStrFormatter\n",
        "\n",
        "%matplotlib inline\n",
        "\n",
        "sns.set_palette('muted')\n",
        "sns.set_style('white')"
      ]
    },
    {
      "cell_type": "markdown",
      "id": "cd30d0c3",
      "metadata": {
        "ExecuteTime": {
          "end_time": "2023-02-27T20:30:03.112450Z",
          "start_time": "2023-02-27T20:30:03.106139Z"
        },
        "id": "cd30d0c3"
      },
      "source": [
        "## Question 1: Geocoding A Location\n",
        "Write a function that utilizes the [geocode.xyz](geocode.xyz) API to take in a city and country and return the latitude and longitude of that location\n",
        "\n",
        "```\n",
        "def geocode_location(city, country):\n",
        "    # your code\n",
        "    return latitude, longitude\n",
        "```\n",
        "\n",
        "For example:\n",
        "```\n",
        "geocode_location(\"london\", \"united kingdom\")\n",
        "```\n",
        "should return\n",
        "```\n",
        "(-0.11534, 51.49742)\n",
        "```"
      ]
    },
    {
      "cell_type": "code",
      "execution_count": null,
      "id": "e70660d3",
      "metadata": {
        "ExecuteTime": {
          "end_time": "2023-02-27T22:31:12.769895Z",
          "start_time": "2023-02-27T22:31:12.752767Z"
        },
        "id": "e70660d3"
      },
      "outputs": [],
      "source": [
        "# write your solution here\n",
        "def geocode_location(city, country):\n",
        "    pass # remove this line once you start adding code to your function"
      ]
    },
    {
      "cell_type": "markdown",
      "id": "2f15ce09",
      "metadata": {
        "id": "2f15ce09"
      },
      "source": [
        "## Question 2: Determining Weather Using Date and Location\n",
        "Write a function that utilizes the [open-meteo.com](https://open-meteo.com/) API to take in a date and location and return the 15-day average high and low for the following measurements from the years 1960 to 2022:\n",
        "* `precipitation_sum` (mm): Sum of daily precipitation (including rain, showers and snowfall)\n",
        "* `temperature_2m_max` (°F): Maximum daily air temperature at 2 meters above ground\n",
        "* `temperature_2m_min` (°F): Minimum daily air temperature at 2 meters above ground\n",
        "* `apparent_temperature_max` (°F): Maximum daily apparent temperature\n",
        "* `apparent_temperature_min` (°F): Min daily apparent temperature\n",
        "\n",
        "The function should return the above measurements in a dictionary object with the keys being `\"precipitation_sum\"`, `\"temperature_2m_max\"`, etc. and the values being the 15-day average of the measurements. The 15-day average should be the 7 days preceeding the input date, the input date, and the 7 days following the input date. This will give the results more statistical validity by increasing the number of samples for each measurement.\n",
        "\n",
        "The `get_historical_weather_measurements()` function will include a few different sub-tasks:\n",
        "\n",
        "### Create API Request in Postman/Insomnia\n",
        "Use the following [API Documentation](https://open-meteo.com/en/docs/historical-weather-api#api-documentation) page to create an API request that responds with a JSON object of the measurements listed above. Make sure the response object meets the following:\n",
        "* Temperatue measurements are in Fahrenheit\n",
        "* Precipitation measurements are in inches\n",
        "* Measurements are daily aggregations\n",
        "* 15 day range of weather\n",
        "* JSON format\n",
        "\n",
        "\n",
        "Before writing any code, use Postman/Insomnia to create the API request and take a screenshot of the request/response.\n",
        "\n",
        "### Create API Request Function\n",
        "Convert the request above into a function. The function should take in `latitude`, `longitude`, and `date` as its arguments and return the API response, if successful.\n",
        "\n",
        "```\n",
        "def get_api_response(latitude, longitude, date):\n",
        "    # your code\n",
        "\n",
        "```\n",
        "\n",
        "Use the helper function below for creating a 15-day date range "
      ]
    },
    {
      "cell_type": "code",
      "execution_count": null,
      "id": "847c1b60",
      "metadata": {
        "ExecuteTime": {
          "end_time": "2023-02-28T00:37:52.984619Z",
          "start_time": "2023-02-28T00:37:52.975626Z"
        },
        "id": "847c1b60"
      },
      "outputs": [],
      "source": [
        "# helper function for 15-day date range\n",
        "def get_date_range(birthday):\n",
        "    return {'start_date': birthday - timedelta(days=7),\n",
        "            'end_date': birthday + timedelta(days=7)\n",
        "           }"
      ]
    },
    {
      "cell_type": "code",
      "execution_count": null,
      "id": "fec1e201",
      "metadata": {
        "ExecuteTime": {
          "end_time": "2023-02-28T00:37:55.391271Z",
          "start_time": "2023-02-28T00:37:55.379302Z"
        },
        "id": "fec1e201"
      },
      "outputs": [],
      "source": [
        "# write your solution here\n",
        "def get_api_response(latitude, longitude, date):\n",
        "    pass # remove this line once you start adding code to your function"
      ]
    },
    {
      "cell_type": "markdown",
      "id": "e1a83014",
      "metadata": {
        "id": "e1a83014"
      },
      "source": [
        "### Iterating Over Each Year\n",
        "Write a function that iterates through each year between 1960 and 2022 and returns the corresponding JSON response objects containing weather data for each year in a python list.\n",
        "\n",
        "```\n",
        "def get_all_response_objects(start_year, end_year):\n",
        "    # your code\n",
        "```\n"
      ]
    },
    {
      "cell_type": "code",
      "execution_count": null,
      "id": "0f7dd9ff",
      "metadata": {
        "ExecuteTime": {
          "end_time": "2023-02-28T00:37:55.921045Z",
          "start_time": "2023-02-28T00:37:55.917896Z"
        },
        "id": "0f7dd9ff"
      },
      "outputs": [],
      "source": [
        "# write your solution here\n",
        "def get_all_response_objects(latitude, longitude, date):\n",
        "    pass # remove this line once you start adding code to your function"
      ]
    },
    {
      "cell_type": "markdown",
      "id": "dd77748a",
      "metadata": {
        "id": "dd77748a"
      },
      "source": [
        "### Parse JSON Responses & Aggregate Data\n",
        "Write a function that takes the list of JSON response objects from the previous function in as a parameter and returns a pandas DataFrame containing the original input date, the measurements, and the average across the 15 days.\n",
        "```\n",
        "def parse_json_response(responses):\n",
        "    # your code\n",
        "```\n"
      ]
    },
    {
      "cell_type": "code",
      "execution_count": null,
      "id": "756e607e",
      "metadata": {
        "ExecuteTime": {
          "end_time": "2023-02-28T00:58:30.331208Z",
          "start_time": "2023-02-28T00:58:30.320011Z"
        },
        "id": "756e607e"
      },
      "outputs": [],
      "source": [
        "# write your solution here\n",
        "def parse_json_response(responses):\n",
        "    pass # remove this line once you start adding code to your function"
      ]
    },
    {
      "cell_type": "markdown",
      "id": "e96e3981",
      "metadata": {
        "id": "e96e3981"
      },
      "source": [
        "### Combining the Functions\n",
        "Write a function that combines all the above functions into one, where the user inputs their birthday and location and the function returns the pandas DataFrame containing the summary of measurements.\n",
        "\n",
        "```\n",
        "def get_data():\n",
        "    birthday = get_user_birthday()\n",
        "    location = get_user_city_of_birth()\n",
        "    # your code here\n",
        "```\n",
        "\n",
        "The helper functions below can be used for birthday and location input information:"
      ]
    },
    {
      "cell_type": "code",
      "execution_count": null,
      "id": "554d19ad",
      "metadata": {
        "ExecuteTime": {
          "end_time": "2023-02-28T00:37:56.448620Z",
          "start_time": "2023-02-28T00:37:56.443554Z"
        },
        "id": "554d19ad"
      },
      "outputs": [],
      "source": [
        "# helper functions\n",
        "def get_user_birthday():\n",
        "    birthday = input('Enter your birthday (MM/DD/YYYY): ')\n",
        "    return datetime.strptime(birthday, \"%m/%d/%Y\")\n",
        "\n",
        "def get_user_city_of_birth():\n",
        "    city = input('Enter the city you were born in: ')\n",
        "    country = input('Enter the country you were born in: ')\n",
        "    return city , country"
      ]
    },
    {
      "cell_type": "code",
      "execution_count": null,
      "id": "a7cd8c53",
      "metadata": {
        "ExecuteTime": {
          "end_time": "2023-02-28T00:37:56.588922Z",
          "start_time": "2023-02-28T00:37:56.585684Z"
        },
        "id": "a7cd8c53"
      },
      "outputs": [],
      "source": [
        "# write your solution here\n",
        "def get_data():\n",
        "    pass # remove this line once you start adding code to your function"
      ]
    },
    {
      "cell_type": "markdown",
      "id": "caebdcff",
      "metadata": {
        "id": "caebdcff"
      },
      "source": [
        "Run your function and set it equal to `df`:"
      ]
    },
    {
      "cell_type": "code",
      "execution_count": null,
      "id": "e430b5df",
      "metadata": {
        "ExecuteTime": {
          "end_time": "2023-02-28T00:37:57.411326Z",
          "start_time": "2023-02-28T00:37:56.840425Z"
        },
        "scrolled": true,
        "id": "e430b5df"
      },
      "outputs": [],
      "source": [
        "df = get_data()\n",
        "\n",
        "df.head()"
      ]
    },
    {
      "cell_type": "markdown",
      "id": "242a871e",
      "metadata": {
        "id": "242a871e"
      },
      "source": [
        "## Question 3: Visualizing The Data\n",
        "Plot the DataFrame using `matplotlib`/`seaborn` and write a short summary of your results."
      ]
    },
    {
      "cell_type": "code",
      "execution_count": null,
      "id": "43e099dd",
      "metadata": {
        "ExecuteTime": {
          "end_time": "2023-02-28T00:38:07.414648Z",
          "start_time": "2023-02-28T00:38:07.408238Z"
        },
        "id": "43e099dd"
      },
      "outputs": [],
      "source": [
        "# enter your code here"
      ]
    },
    {
      "cell_type": "markdown",
      "id": "eb6e5a2a",
      "metadata": {
        "id": "eb6e5a2a"
      },
      "source": [
        "### Results Summary:"
      ]
    },
    {
      "cell_type": "code",
      "execution_count": null,
      "id": "5597b0c9",
      "metadata": {
        "id": "5597b0c9"
      },
      "outputs": [],
      "source": []
    }
  ],
  "metadata": {
    "kernelspec": {
      "display_name": "week_1",
      "language": "python",
      "name": "week_1"
    },
    "language_info": {
      "codemirror_mode": {
        "name": "ipython",
        "version": 3
      },
      "file_extension": ".py",
      "mimetype": "text/x-python",
      "name": "python",
      "nbconvert_exporter": "python",
      "pygments_lexer": "ipython3",
      "version": "3.9.16"
    },
    "colab": {
      "provenance": [],
      "include_colab_link": true
    }
  },
  "nbformat": 4,
  "nbformat_minor": 5
}