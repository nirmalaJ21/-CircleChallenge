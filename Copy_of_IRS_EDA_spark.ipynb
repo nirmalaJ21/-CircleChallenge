{
  "cells": [
    {
      "cell_type": "markdown",
      "metadata": {
        "id": "view-in-github",
        "colab_type": "text"
      },
      "source": [
        "<a href=\"https://colab.research.google.com/github/nirmalaJ21/-CircleChallenge/blob/main/Copy_of_IRS_EDA_spark.ipynb\" target=\"_parent\"><img src=\"https://colab.research.google.com/assets/colab-badge.svg\" alt=\"Open In Colab\"/></a>"
      ]
    },
    {
      "cell_type": "markdown",
      "metadata": {
        "id": "kvD4HBMi0ohY"
      },
      "source": [
        "# Install Java, Spark, and Findspark\n",
        "This installs Apache Spark, Java 8, and [Findspark](https://github.com/minrk/findspark), a library that makes it easy for Python to find Spark."
      ]
    },
    {
      "cell_type": "code",
      "execution_count": null,
      "metadata": {
        "id": "fUhBhrGmyAvs"
      },
      "outputs": [],
      "source": [
        "%%bash\n",
        "sudo apt-get update\n",
        "apt-get install openjdk-8-jdk-headless -qq > /dev/null\n",
        "[ ! -e \"$(basename spark-3.4.1-bin-hadoop3.tgz)\" ] && wget  http://apache.osuosl.org/spark/spark-3.4.1/spark-3.4.1-bin-hadoop3.tgz\n",
        "tar xf spark-3.4.1-bin-hadoop3.tgz\n",
        "pip install -q findspark"
      ]
    },
    {
      "cell_type": "markdown",
      "metadata": {
        "id": "b4Kjvk_h1AHl"
      },
      "source": [
        "# Set Environment Variables\n",
        "Set the locations where Spark and Java are installed."
      ]
    },
    {
      "cell_type": "code",
      "execution_count": null,
      "metadata": {
        "id": "8Xnb_ePUyQIL"
      },
      "outputs": [],
      "source": [
        "import os\n",
        "os.environ[\"JAVA_HOME\"] = \"/usr/lib/jvm/java-8-openjdk-amd64\"\n",
        "os.environ[\"SPARK_HOME\"] = \"/content/spark-3.4.1-bin-hadoop3\""
      ]
    },
    {
      "cell_type": "markdown",
      "metadata": {
        "id": "NwU28K5f1H3P"
      },
      "source": [
        "# Start a SparkSession\n",
        "This will start a local Spark session.\n"
      ]
    },
    {
      "cell_type": "code",
      "execution_count": null,
      "metadata": {
        "id": "zgReRGl0y23D",
        "colab": {
          "base_uri": "https://localhost:8080/"
        },
        "outputId": "b8243f19-f8c8-4876-a779-bed0ee65ca91"
      },
      "outputs": [
        {
          "output_type": "execute_result",
          "data": {
            "text/plain": [
              "pyspark.sql.session.SparkSession"
            ]
          },
          "metadata": {},
          "execution_count": 4
        }
      ],
      "source": [
        "import findspark\n",
        "findspark.init()\n",
        "from pyspark.sql import SparkSession\n",
        "\n",
        "# get a spark session.\n",
        "spark = SparkSession.builder.master(\"local[*]\").getOrCreate()\n",
        "type(spark)"
      ]
    },
    {
      "cell_type": "code",
      "source": [
        "spark"
      ],
      "metadata": {
        "id": "nq91HKA5yLJU",
        "colab": {
          "base_uri": "https://localhost:8080/",
          "height": 219
        },
        "outputId": "f77ad0ba-e273-4d52-cd7e-a633c83ec6f8"
      },
      "execution_count": null,
      "outputs": [
        {
          "output_type": "execute_result",
          "data": {
            "text/plain": [
              "<pyspark.sql.session.SparkSession at 0x7e78541b5000>"
            ],
            "text/html": [
              "\n",
              "            <div>\n",
              "                <p><b>SparkSession - in-memory</b></p>\n",
              "                \n",
              "        <div>\n",
              "            <p><b>SparkContext</b></p>\n",
              "\n",
              "            <p><a href=\"http://ce2e35f7704b:4040\">Spark UI</a></p>\n",
              "\n",
              "            <dl>\n",
              "              <dt>Version</dt>\n",
              "                <dd><code>v3.4.1</code></dd>\n",
              "              <dt>Master</dt>\n",
              "                <dd><code>local[*]</code></dd>\n",
              "              <dt>AppName</dt>\n",
              "                <dd><code>pyspark-shell</code></dd>\n",
              "            </dl>\n",
              "        </div>\n",
              "        \n",
              "            </div>\n",
              "        "
            ]
          },
          "metadata": {},
          "execution_count": 5
        }
      ]
    },
    {
      "cell_type": "markdown",
      "metadata": {
        "id": "T3ULPx4Y1LiR"
      },
      "source": [
        "# Create Dataframe in Spark!\n",
        "\n",
        "## Dataset\n",
        "https://storage.googleapis.com/files.mobibootcamp.com/2022-datasets/IRSIncomeByZipCode.csv\n",
        "\n",
        "##Reference\n",
        "https://docs.databricks.com/getting-started/spark/dataframes.html#load-sample-data\n",
        "\n",
        "https://docs.databricks.com/data/data-sources/read-csv.html\n",
        "\n",
        "\n"
      ]
    },
    {
      "cell_type": "code",
      "execution_count": null,
      "metadata": {
        "colab": {
          "base_uri": "https://localhost:8080/"
        },
        "id": "XJp8ZI-VzYEz",
        "outputId": "1681fa40-ba1b-4c21-95cc-44e1b46397f7"
      },
      "outputs": [
        {
          "output_type": "stream",
          "name": "stdout",
          "text": [
            "<class 'pyspark.sql.dataframe.DataFrame'>\n"
          ]
        }
      ],
      "source": [
        "! [ ! -e \"$(basename IRSIncomeByZipCode.csv)\" ] && wget  /content/IRSIncomeByZipCode.csv\n",
        "df = spark.read.csv('IRSIncomeByZipCode.csv',\n",
        "                      header = True,\n",
        "                      inferSchema = True)\n",
        "\n",
        "print(type(df))"
      ]
    },
    {
      "cell_type": "code",
      "source": [
        "print(df.columns)"
      ],
      "metadata": {
        "colab": {
          "base_uri": "https://localhost:8080/"
        },
        "id": "1nTAwHTX7dBO",
        "outputId": "72e4560a-b934-4dca-dbcc-73cb641c536f"
      },
      "execution_count": null,
      "outputs": [
        {
          "output_type": "stream",
          "name": "stdout",
          "text": [
            "['STATE', 'ZIPCODE', 'Number of returns', 'Adjusted gross income (AGI)', 'Avg AGI', 'Number of returns with total income', 'Total income amount', 'Avg total income', 'Number of returns with taxable income', 'Taxable income amount', 'Avg taxable income']\n"
          ]
        }
      ]
    },
    {
      "cell_type": "code",
      "execution_count": null,
      "metadata": {
        "colab": {
          "base_uri": "https://localhost:8080/"
        },
        "id": "PZkw_gPEQvId",
        "outputId": "6756c3bd-a954-43f3-d136-c5e993574f01"
      },
      "outputs": [
        {
          "output_type": "stream",
          "name": "stdout",
          "text": [
            "root\n",
            " |-- STATE: string (nullable = true)\n",
            " |-- ZIPCODE: integer (nullable = true)\n",
            " |-- Number of returns: integer (nullable = true)\n",
            " |-- Adjusted gross income (AGI): integer (nullable = true)\n",
            " |-- Avg AGI: double (nullable = true)\n",
            " |-- Number of returns with total income: integer (nullable = true)\n",
            " |-- Total income amount: integer (nullable = true)\n",
            " |-- Avg total income: double (nullable = true)\n",
            " |-- Number of returns with taxable income: integer (nullable = true)\n",
            " |-- Taxable income amount: integer (nullable = true)\n",
            " |-- Avg taxable income: double (nullable = true)\n",
            "\n"
          ]
        }
      ],
      "source": [
        "df.printSchema()"
      ]
    },
    {
      "cell_type": "code",
      "execution_count": null,
      "metadata": {
        "id": "5y4imsGaSIQF",
        "colab": {
          "base_uri": "https://localhost:8080/"
        },
        "outputId": "4d7b28ef-6e6f-40cb-9f92-35cd1cef18d3"
      },
      "outputs": [
        {
          "output_type": "stream",
          "name": "stdout",
          "text": [
            "+-----+-----+-------+-----------------+---------------------------+-----------+-----------------------------------+-------------------+----------------+-------------------------------------+---------------------+------------------+\n",
            "|index|STATE|ZIPCODE|Number of returns|Adjusted gross income (AGI)|    Avg AGI|Number of returns with total income|Total income amount|Avg total income|Number of returns with taxable income|Taxable income amount|Avg taxable income|\n",
            "+-----+-----+-------+-----------------+---------------------------+-----------+-----------------------------------+-------------------+----------------+-------------------------------------+---------------------+------------------+\n",
            "|    0|   AL|      0|          2022380|                  105089761|51.96340994|                            2022380|          106420533|     52.62143267|                              1468370|             67850874|       46.20829491|\n",
            "|    1|   AL|  35004|             4930|                     255534|51.83245436|                               4930|             258024|     52.33752535|                                 4020|               163859|       40.76094527|\n",
            "|    2|   AL|  35005|             3300|                     128387|38.90515152|                               3300|             129390|     39.20909091|                                 2440|                70760|              29.0|\n",
            "|    3|   AL|  35006|             1230|                      58302|       47.4|                               1230|              58585|      47.6300813|                                  940|                36341|        38.6606383|\n",
            "|    4|   AL|  35007|            11990|                     643708|53.68707256|                              11990|             651350|     54.32443703|                                 9280|               414878|       44.70668103|\n",
            "|    5|   AL|  35010|             8320|                     378497|45.49242788|                               8320|             382106|     45.92620192|                                 5610|               226514|       40.37682709|\n",
            "|    6|   AL|  35014|             1610|                      67205|41.74223602|                               1610|              67885|     42.16459627|                                 1180|                38277|       32.43813559|\n",
            "|    7|   AL|  35016|             7030|                     329461|46.86500711|                               7030|             333226|     47.40056899|                                 5080|               204874|       40.32952756|\n",
            "|    8|   AL|  35019|              930|                      34909|37.53655914|                                930|              35392|     38.05591398|                                  650|                19152|       29.46461538|\n",
            "|    9|   AL|  35020|             9970|                     260241|26.10240722|                               9970|             262475|     26.32647944|                                 5520|               110968|       20.10289855|\n",
            "|   10|   AL|  35022|             9490|                     516329|54.40769231|                               9490|             521539|     54.95669125|                                 7400|               327603|       44.27067568|\n",
            "|   11|   AL|  35023|            10230|                     476432|46.57204301|                              10230|             480458|      46.9655914|                                 7960|               291768|       36.65427136|\n",
            "|   12|   AL|  35031|             2970|                     110967|37.36262626|                               2970|             112152|     37.76161616|                                 2000|                59275|           29.6375|\n",
            "|   13|   AL|  35033|             1340|                      66702|49.77761194|                               1340|              67437|      50.3261194|                                 1010|                41766|       41.35247525|\n",
            "|   14|   AL|  35034|             1440|                      51658|35.87361111|                               1440|              52030|     36.13194444|                                  950|                27832|       29.29684211|\n",
            "|   15|   AL|  35035|              550|                      30894|56.17090909|                                550|              31542|     57.34909091|                                  390|                20707|       53.09487179|\n",
            "|   16|   AL|  35040|             7130|                     355685|49.88569425|                               7130|             359868|     50.47237027|                                 5720|               221987|       38.80891608|\n",
            "|   17|   AL|  35042|             2220|                      95692| 43.1045045|                               2220|              96503|     43.46981982|                                 1590|                56177|       35.33144654|\n",
            "|   18|   AL|  35043|             4550|                     359323|78.97208791|                               4550|             363943|     79.98747253|                                 3790|               253356|       66.84854881|\n",
            "|   19|   AL|  35044|             3160|                     123233|38.99778481|                               3160|             124406|     39.36898734|                                 2160|                70753|       32.75601852|\n",
            "+-----+-----+-------+-----------------+---------------------------+-----------+-----------------------------------+-------------------+----------------+-------------------------------------+---------------------+------------------+\n",
            "only showing top 20 rows\n",
            "\n"
          ]
        }
      ],
      "source": [
        "df.show()"
      ]
    },
    {
      "cell_type": "markdown",
      "metadata": {
        "id": "QSeSVu0bHv8D"
      },
      "source": [
        "## Cleaning step -\n",
        "\n",
        "###Change column names\n"
      ]
    },
    {
      "cell_type": "code",
      "source": [
        "df = df.toDF(*[value.lower().replace(' ', '_') for value in df.columns])"
      ],
      "metadata": {
        "id": "LOJdBMr1fm2U"
      },
      "execution_count": null,
      "outputs": []
    },
    {
      "cell_type": "code",
      "source": [
        "df.columns"
      ],
      "metadata": {
        "colab": {
          "base_uri": "https://localhost:8080/"
        },
        "id": "KGMSl2ut7hfp",
        "outputId": "86871125-9798-4a90-b55f-bcb205afdd1e"
      },
      "execution_count": null,
      "outputs": [
        {
          "output_type": "execute_result",
          "data": {
            "text/plain": [
              "['state',\n",
              " 'zipcode',\n",
              " 'number_of_returns',\n",
              " 'adjusted_gross_income_(agi)',\n",
              " 'avg_agi',\n",
              " 'number_of_returns_with_total_income',\n",
              " 'total_income_amount',\n",
              " 'avg_total_income',\n",
              " 'number_of_returns_with_taxable_income',\n",
              " 'taxable_income_amount',\n",
              " 'avg_taxable_income']"
            ]
          },
          "metadata": {},
          "execution_count": 11
        }
      ]
    },
    {
      "cell_type": "code",
      "source": [
        "df = df.withColumnRenamed('adjusted_gross_income_(agi)','agi')"
      ],
      "metadata": {
        "id": "p1Q1aYPk8D4_"
      },
      "execution_count": null,
      "outputs": []
    },
    {
      "cell_type": "code",
      "source": [
        "df.printSchema()"
      ],
      "metadata": {
        "colab": {
          "base_uri": "https://localhost:8080/"
        },
        "id": "1Y11d1ojDZsi",
        "outputId": "5bc3e9cf-b9db-41b7-8b7d-12304b3db480"
      },
      "execution_count": null,
      "outputs": [
        {
          "output_type": "stream",
          "name": "stdout",
          "text": [
            "root\n",
            " |-- state: string (nullable = true)\n",
            " |-- zipcode: integer (nullable = true)\n",
            " |-- number_of_returns: integer (nullable = true)\n",
            " |-- agi: integer (nullable = true)\n",
            " |-- avg_agi: double (nullable = true)\n",
            " |-- number_of_returns_with_total_income: integer (nullable = true)\n",
            " |-- total_income_amount: integer (nullable = true)\n",
            " |-- avg_total_income: double (nullable = true)\n",
            " |-- number_of_returns_with_taxable_income: integer (nullable = true)\n",
            " |-- taxable_income_amount: integer (nullable = true)\n",
            " |-- avg_taxable_income: double (nullable = true)\n",
            "\n"
          ]
        }
      ]
    },
    {
      "cell_type": "code",
      "source": [
        "df = df.withColumnRenamed(\"number_of_returns\",'returns').withColumnRenamed(\"number_of_returns_with_total_income\",\"returns_total_income\").withColumnRenamed(\"number_of_returns_with_taxable_income\",\"returns_taxable_income\")"
      ],
      "metadata": {
        "id": "VIPEz-IoExPz"
      },
      "execution_count": null,
      "outputs": []
    },
    {
      "cell_type": "code",
      "source": [
        "#from pyspark.sql.functions import *\n",
        "\n",
        "#df = df.select(col(\"number_of_returns\").alias(\"returns\"),\n",
        "#  col(\"number_of_returns_with_total_income\").alias(\"returns_total_income\"),\n",
        "#  col(\"number_of_returns_with_taxable_income\").alias(\"returns_taxable_income\"))\n"
      ],
      "metadata": {
        "id": "jHdIJRpnDjWp"
      },
      "execution_count": null,
      "outputs": []
    },
    {
      "cell_type": "code",
      "source": [
        "df.printSchema()"
      ],
      "metadata": {
        "colab": {
          "base_uri": "https://localhost:8080/"
        },
        "id": "Fb0XST5WDjDM",
        "outputId": "cbe58264-e2db-4b7b-a347-6ba7134acb40"
      },
      "execution_count": null,
      "outputs": [
        {
          "output_type": "stream",
          "name": "stdout",
          "text": [
            "root\n",
            " |-- state: string (nullable = true)\n",
            " |-- zipcode: integer (nullable = true)\n",
            " |-- returns: integer (nullable = true)\n",
            " |-- agi: integer (nullable = true)\n",
            " |-- avg_agi: double (nullable = true)\n",
            " |-- returns_total_income: integer (nullable = true)\n",
            " |-- total_income_amount: integer (nullable = true)\n",
            " |-- avg_total_income: double (nullable = true)\n",
            " |-- returns_taxable_income: integer (nullable = true)\n",
            " |-- taxable_income_amount: integer (nullable = true)\n",
            " |-- avg_taxable_income: double (nullable = true)\n",
            "\n"
          ]
        }
      ]
    },
    {
      "cell_type": "code",
      "source": [
        "df.show(5)"
      ],
      "metadata": {
        "colab": {
          "base_uri": "https://localhost:8080/"
        },
        "id": "m-YAC89OEh3c",
        "outputId": "f9575272-f7b0-4f8b-e6f6-f2dd39ee124c"
      },
      "execution_count": null,
      "outputs": [
        {
          "output_type": "stream",
          "name": "stdout",
          "text": [
            "+-----+-------+-------+---------+-----------+--------------------+-------------------+----------------+----------------------+---------------------+------------------+\n",
            "|state|zipcode|returns|      agi|    avg_agi|returns_total_income|total_income_amount|avg_total_income|returns_taxable_income|taxable_income_amount|avg_taxable_income|\n",
            "+-----+-------+-------+---------+-----------+--------------------+-------------------+----------------+----------------------+---------------------+------------------+\n",
            "|   AL|      0|2022380|105089761|51.96340994|             2022380|          106420533|     52.62143267|               1468370|             67850874|       46.20829491|\n",
            "|   AL|  35004|   4930|   255534|51.83245436|                4930|             258024|     52.33752535|                  4020|               163859|       40.76094527|\n",
            "|   AL|  35005|   3300|   128387|38.90515152|                3300|             129390|     39.20909091|                  2440|                70760|              29.0|\n",
            "|   AL|  35006|   1230|    58302|       47.4|                1230|              58585|      47.6300813|                   940|                36341|        38.6606383|\n",
            "|   AL|  35007|  11990|   643708|53.68707256|               11990|             651350|     54.32443703|                  9280|               414878|       44.70668103|\n",
            "+-----+-------+-------+---------+-----------+--------------------+-------------------+----------------+----------------------+---------------------+------------------+\n",
            "only showing top 5 rows\n",
            "\n"
          ]
        }
      ]
    },
    {
      "cell_type": "markdown",
      "metadata": {
        "id": "FXiTgBneL5yn"
      },
      "source": [
        "# Statistics on columns"
      ]
    },
    {
      "cell_type": "code",
      "execution_count": null,
      "metadata": {
        "colab": {
          "base_uri": "https://localhost:8080/"
        },
        "id": "sOshBIZoLkHs",
        "outputId": "f18cf86d-6034-4f89-e214-ad7b9d93b640"
      },
      "outputs": [
        {
          "output_type": "stream",
          "name": "stdout",
          "text": [
            "+-------+------------------+------------------+--------------------+--------------------+--------------------+----------------------+---------------------+\n",
            "|summary|           zipcode|           returns|                 agi|returns_total_income| total_income_amount|returns_taxable_income|taxable_income_amount|\n",
            "+-------+------------------+------------------+--------------------+--------------------+--------------------+----------------------+---------------------+\n",
            "|  count|             27790|             27790|               27790|               27790|               27790|                 27790|                27790|\n",
            "|   mean|48853.603274559195|10346.201151493344|   657743.3184598776|  10346.191795609931|   667443.1108312343|     7882.510975170925|    451150.8901763224|\n",
            "| stddev|27140.437868919653| 180653.3663797637|1.2085373416129865E7|  180653.18933603962|1.2262993235964034E7|     136768.3061582784|    8310008.520543394|\n",
            "|    min|                 0|                90|                1482|                  90|                1503|                    30|                  274|\n",
            "|    max|             99999|          16861400|          1209190396|            16861370|          1228344911|              12832810|            812473081|\n",
            "+-------+------------------+------------------+--------------------+--------------------+--------------------+----------------------+---------------------+\n",
            "\n"
          ]
        }
      ],
      "source": [
        "# Run statistics on price column\n",
        "result = df.select(['zipcode','returns','agi','returns_total_income','total_income_amount','returns_taxable_income','taxable_income_amount']).describe()\n",
        "result.show()"
      ]
    },
    {
      "cell_type": "markdown",
      "metadata": {
        "id": "hnFwiBlc4y1c"
      },
      "source": [
        "## More Analysis"
      ]
    },
    {
      "cell_type": "code",
      "execution_count": null,
      "metadata": {
        "colab": {
          "base_uri": "https://localhost:8080/"
        },
        "id": "Cnr9JU4BCYeS",
        "outputId": "6228448b-d40c-40d1-8118-18293256fffc"
      },
      "outputs": [
        {
          "output_type": "stream",
          "name": "stdout",
          "text": [
            " The IRS dataframe has 27790 records\n"
          ]
        }
      ],
      "source": [
        "print(\" The IRS dataframe has {} records\".format(df.count()))"
      ]
    },
    {
      "cell_type": "code",
      "source": [
        "df1 = df.drop('index','zipcode','avg_agi','avg_total_income','avg_taxable_income')\n",
        "df1.printSchema()"
      ],
      "metadata": {
        "colab": {
          "base_uri": "https://localhost:8080/"
        },
        "id": "uv1rRjHrdJOV",
        "outputId": "76e035eb-56cb-403c-9b1d-fae82a6ffea6"
      },
      "execution_count": null,
      "outputs": [
        {
          "output_type": "stream",
          "name": "stdout",
          "text": [
            "root\n",
            " |-- state: string (nullable = true)\n",
            " |-- returns: integer (nullable = true)\n",
            " |-- agi: integer (nullable = true)\n",
            " |-- returns_total_income: integer (nullable = true)\n",
            " |-- total_income_amount: integer (nullable = true)\n",
            " |-- returns_taxable_income: integer (nullable = true)\n",
            " |-- taxable_income_amount: integer (nullable = true)\n",
            "\n"
          ]
        }
      ]
    },
    {
      "cell_type": "code",
      "execution_count": null,
      "metadata": {
        "colab": {
          "base_uri": "https://localhost:8080/"
        },
        "id": "lCwmOB5h5MKu",
        "outputId": "f793e7d9-4378-41e3-bb2d-50baa464c634"
      },
      "outputs": [
        {
          "output_type": "stream",
          "name": "stdout",
          "text": [
            "+-----+------------+----------+-------------------------+------------------------+---------------------------+--------------------------+\n",
            "|state|sum(returns)|  sum(agi)|sum(returns_total_income)|sum(total_income_amount)|sum(returns_taxable_income)|sum(taxable_income_amount)|\n",
            "+-----+------------+----------+-------------------------+------------------------+---------------------------+--------------------------+\n",
            "|   AZ|     5530920| 316364406|                  5530910|               320757412|                    4172440|                 209631328|\n",
            "|   SC|     4156340| 215111572|                  4156360|               218070778|                    3058070|                 137769156|\n",
            "|   LA|     3959820| 222866984|                  3959840|               226109894|                    2909800|                 151376140|\n",
            "|   MN|     5245530| 348804760|                  5245540|               355257206|                    4221490|                 242347210|\n",
            "|   NJ|     8540010| 678581630|                  8540040|               689208756|                    6758750|                 482502860|\n",
            "|   DC|      653350|  55013508|                   653340|                56066562|                     538260|                  40767600|\n",
            "|   OR|     3520750| 206161068|                  3520770|               209883646|                    2730210|                 134893136|\n",
            "|   VA|     7584510| 532941512|                  7584480|               540360052|                    6070230|                 371745346|\n",
            "|   RI|     1023850|  61758830|                  1023850|                62666812|                     799390|                  42415304|\n",
            "|   KY|     3720070| 188720000|                  3720040|               191230788|                    2758760|                 121438594|\n",
            "|   WY|      557720|  38997814|                   557720|                39577282|                     446580|                  28652500|\n",
            "|   NH|     1346210|  89089364|                  1346220|                90620216|                    1092510|                  63782472|\n",
            "|   MI|     9186100| 508666492|                  9186140|               515692796|                    6787490|                 345700044|\n",
            "|   NV|     2568170| 151965878|                  2568160|               153758900|                    1979510|                 102516856|\n",
            "|   WI|     5524150| 319576116|                  5524150|               324512920|                    4344820|                 215037612|\n",
            "|   ID|     1355750|  71570808|                  1355760|                72816356|                    1022130|                  44964554|\n",
            "|   CA|    33726920|2418380792|                 33726890|              2456689822|                   25669180|                1624946162|\n",
            "|   CT|     3453600| 311066674|                  3453590|               316442492|                    2787540|                 229260118|\n",
            "|   NE|     1735770| 102143988|                  1735770|               104153020|                    1379180|                  69034528|\n",
            "|   MT|      954110|  50406864|                   954100|                51412620|                     729430|                  33201190|\n",
            "+-----+------------+----------+-------------------------+------------------------+---------------------------+--------------------------+\n",
            "only showing top 20 rows\n",
            "\n"
          ]
        }
      ],
      "source": [
        "result = df1.groupBy('state').sum()\n",
        "result.show()"
      ]
    },
    {
      "cell_type": "code",
      "source": [
        "result.describe().show()"
      ],
      "metadata": {
        "colab": {
          "base_uri": "https://localhost:8080/"
        },
        "id": "7YupWVFySPBv",
        "outputId": "0c2140f6-cb66-4ab8-de5a-ec9546e14fa3"
      },
      "execution_count": null,
      "outputs": [
        {
          "output_type": "stream",
          "name": "stdout",
          "text": [
            "+-------+-----+-----------------+--------------------+-------------------------+------------------------+---------------------------+--------------------------+\n",
            "|summary|state|     sum(returns)|            sum(agi)|sum(returns_total_income)|sum(total_income_amount)|sum(returns_taxable_income)|sum(taxable_income_amount)|\n",
            "+-------+-----+-----------------+--------------------+-------------------------+------------------------+---------------------------+--------------------------+\n",
            "|  count|   51|               51|                  51|                       51|                      51|                         51|                        51|\n",
            "|   mean| null|5637665.294117647|3.5840562392156863E8|        5637660.196078432|     3.636910598039216E8|           4295195.68627451|      2.4583300466666666E8|\n",
            "| stddev| null|6340579.692344021| 4.399834661626695E8|        6340575.484253614|    4.4643344165139616E8|          4776368.896045302|       3.029390305104617E8|\n",
            "|    min|   AK|           557720|            35173134|                   557720|                35912096|                     446580|                  23794848|\n",
            "|    max|   WY|         33726920|          2418380792|                 33726890|              2456689822|                   25669180|                1624946162|\n",
            "+-------+-----+-----------------+--------------------+-------------------------+------------------------+---------------------------+--------------------------+\n",
            "\n"
          ]
        }
      ]
    },
    {
      "cell_type": "code",
      "source": [
        "from pyspark.sql import functions\n",
        "#df.orderBy(['Salary'], ascending = [True]).show()\n",
        "result.orderBy(['sum(agi)'], ascending = [False]).show()"
      ],
      "metadata": {
        "colab": {
          "base_uri": "https://localhost:8080/"
        },
        "id": "9YA653mPoEYp",
        "outputId": "6fa31ff3-033d-4441-eb1b-20f4ad19334d"
      },
      "execution_count": null,
      "outputs": [
        {
          "output_type": "stream",
          "name": "stdout",
          "text": [
            "+-----+------------+----------+-------------------------+------------------------+---------------------------+--------------------------+\n",
            "|state|sum(returns)|  sum(agi)|sum(returns_total_income)|sum(total_income_amount)|sum(returns_taxable_income)|sum(taxable_income_amount)|\n",
            "+-----+------------+----------+-------------------------+------------------------+---------------------------+--------------------------+\n",
            "|   CA|    33726920|2418380792|                 33726890|              2456689822|                   25669180|                1624946162|\n",
            "|   TX|    23465220|1496710822|                 23465190|              1515344430|                   17426140|                1057913480|\n",
            "|   NY|    18624470|1427198432|                 18624450|              1447671582|                   14050890|                 997471116|\n",
            "|   FL|    18263140|1081470238|                 18263140|              1096201886|                   13340580|                 753079248|\n",
            "|   IL|    12047780| 811144188|                 12047750|               822881610|                    9229890|                 568051872|\n",
            "|   PA|    12162230| 741150626|                 12162260|               751842292|                    9377630|                 517255026|\n",
            "|   NJ|     8540010| 678581630|                  8540040|               689208756|                    6758750|                 482502860|\n",
            "|   OH|    10954290| 597508250|                 10954250|               606037262|                    8482180|                 402784646|\n",
            "|   VA|     7584510| 532941512|                  7584480|               540360052|                    6070230|                 371745346|\n",
            "|   MA|     6520440| 529535622|                  6520460|               537608486|                    5292610|                 392167224|\n",
            "|   MI|     9186100| 508666492|                  9186140|               515692796|                    6787490|                 345700044|\n",
            "|   GA|     8585970| 483127450|                  8585980|               489677592|                    6153310|                 313794492|\n",
            "|   NC|     8559160| 470322622|                  8559140|               477056510|                    6333230|                 304780740|\n",
            "|   WA|     6489870| 448825834|                  6489840|               455384468|                    5261880|                 322133664|\n",
            "|   MD|     5820970| 410515586|                  5820970|               416059432|                    4603250|                 279042464|\n",
            "|   MN|     5245530| 348804760|                  5245540|               355257206|                    4221490|                 242347210|\n",
            "|   CO|     4923130| 334613708|                  4923110|               340521032|                    3952190|                 236708068|\n",
            "|   IN|     6027170| 319857986|                  6027150|               324354444|                    4490180|                 213328438|\n",
            "|   WI|     5524150| 319576116|                  5524150|               324512920|                    4344820|                 215037612|\n",
            "|   AZ|     5530920| 316364406|                  5530910|               320757412|                    4172440|                 209631328|\n",
            "+-----+------------+----------+-------------------------+------------------------+---------------------------+--------------------------+\n",
            "only showing top 20 rows\n",
            "\n"
          ]
        }
      ]
    },
    {
      "cell_type": "code",
      "source": [
        "result.orderBy(['sum(agi)'], ascending = [True]).show()"
      ],
      "metadata": {
        "colab": {
          "base_uri": "https://localhost:8080/"
        },
        "id": "OyznMoy7DgiA",
        "outputId": "6e866fe4-4b7b-4969-9a9a-8b892ffd1e87"
      },
      "execution_count": null,
      "outputs": [
        {
          "output_type": "stream",
          "name": "stdout",
          "text": [
            "+-----+------------+---------+-------------------------+------------------------+---------------------------+--------------------------+\n",
            "|state|sum(returns)| sum(agi)|sum(returns_total_income)|sum(total_income_amount)|sum(returns_taxable_income)|sum(taxable_income_amount)|\n",
            "+-----+------------+---------+-------------------------+------------------------+---------------------------+--------------------------+\n",
            "|   VT|      631370| 35173134|                   631370|                35912096|                     497030|                  23794848|\n",
            "|   WY|      557720| 38997814|                   557720|                39577282|                     446580|                  28652500|\n",
            "|   AK|      710340| 46067816|                   710340|                46763164|                     596480|                  33978970|\n",
            "|   SD|      810000| 46405460|                   809990|                47501124|                     637660|                  32830756|\n",
            "|   ND|      714670| 49796360|                   714680|                50898724|                     600680|                  37360828|\n",
            "|   MT|      954110| 50406864|                   954100|                51412620|                     729430|                  33201190|\n",
            "|   DE|      870340| 52888868|                   870340|                53521796|                     690210|                  36162330|\n",
            "|   DC|      653350| 55013508|                   653340|                56066562|                     538260|                  40767600|\n",
            "|   RI|     1023850| 61758830|                  1023850|                62666812|                     799390|                  42415304|\n",
            "|   ME|     1254060| 65854152|                  1254050|                67022886|                     979550|                  43202186|\n",
            "|   ID|     1355750| 71570808|                  1355760|                72816356|                    1022130|                  44964554|\n",
            "|   WV|     1552380| 75665436|                  1552370|                76624912|                    1151540|                  49215440|\n",
            "|   HI|     1325600| 76248650|                  1325600|                77350324|                    1053440|                  50522644|\n",
            "|   NH|     1346210| 89089364|                  1346220|                90620216|                    1092510|                  63782472|\n",
            "|   NM|     1779870| 89362914|                  1779860|                90494486|                    1297590|                  57710222|\n",
            "|   NE|     1735770|102143988|                  1735770|               104153020|                    1379180|                  69034528|\n",
            "|   MS|     2458630|113761856|                  2458610|               115360776|                    1719110|                  69638596|\n",
            "|   AR|     2407010|124241140|                  2407010|               125770108|                    1745260|                  79869088|\n",
            "|   UT|     2361410|141076862|                  2361400|               142986220|                    1830760|                  89236848|\n",
            "|   NV|     2568170|151965878|                  2568160|               153758900|                    1979510|                 102516856|\n",
            "+-----+------------+---------+-------------------------+------------------------+---------------------------+--------------------------+\n",
            "only showing top 20 rows\n",
            "\n"
          ]
        }
      ]
    },
    {
      "cell_type": "code",
      "source": [
        "result.printSchema()"
      ],
      "metadata": {
        "colab": {
          "base_uri": "https://localhost:8080/"
        },
        "id": "8lcLozB2RCEx",
        "outputId": "22fce7ef-479d-4999-c513-089272d3a3d3"
      },
      "execution_count": null,
      "outputs": [
        {
          "output_type": "stream",
          "name": "stdout",
          "text": [
            "root\n",
            " |-- state: string (nullable = true)\n",
            " |-- sum(returns): long (nullable = true)\n",
            " |-- sum(agi): long (nullable = true)\n",
            " |-- sum(returns_total_income): long (nullable = true)\n",
            " |-- sum(total_income_amount): long (nullable = true)\n",
            " |-- sum(returns_taxable_income): long (nullable = true)\n",
            " |-- sum(taxable_income_amount): long (nullable = true)\n",
            "\n"
          ]
        }
      ]
    },
    {
      "cell_type": "code",
      "source": [
        "type(result)"
      ],
      "metadata": {
        "colab": {
          "base_uri": "https://localhost:8080/"
        },
        "id": "uylZCFrOSOlA",
        "outputId": "0c73ce81-dd08-4693-88ed-5871dff9427e"
      },
      "execution_count": null,
      "outputs": [
        {
          "output_type": "execute_result",
          "data": {
            "text/plain": [
              "pyspark.sql.dataframe.DataFrame"
            ]
          },
          "metadata": {},
          "execution_count": 25
        }
      ]
    },
    {
      "cell_type": "markdown",
      "source": [
        "## Top 10 richest states\n",
        "\n"
      ],
      "metadata": {
        "id": "GPPnB55oUK0E"
      }
    },
    {
      "cell_type": "code",
      "source": [
        "#df.select(\"firstname\",\"salary\", lit(df.salary * 0.3).alias(\"bonus_amount\")).show()\n",
        "# import lit function\n",
        "from pyspark.sql.functions import lit\n",
        "result.select(\"state\",\"sum(returns)\" , lit(result[\"sum(agi)\"]/result[\"sum(returns)\"]).alias(\"avg_agi\")).sort([\"avg_agi\"],ascending = [False]).show(10)"
      ],
      "metadata": {
        "colab": {
          "base_uri": "https://localhost:8080/"
        },
        "id": "x86I971mPuWY",
        "outputId": "6d3e78ae-6d5d-466e-e1ed-b06ea6c7de8b"
      },
      "execution_count": null,
      "outputs": [
        {
          "output_type": "stream",
          "name": "stdout",
          "text": [
            "+-----+------------+-----------------+\n",
            "|state|sum(returns)|          avg_agi|\n",
            "+-----+------------+-----------------+\n",
            "|   CT|     3453600|90.07026696780171|\n",
            "|   DC|      653350|84.20220096426111|\n",
            "|   MA|     6520440| 81.2116393985682|\n",
            "|   NJ|     8540010|79.45911421649389|\n",
            "|   NY|    18624470|76.63028435171579|\n",
            "|   CA|    33726920|71.70476260506445|\n",
            "|   MD|     5820970|70.52357012662839|\n",
            "|   VA|     7584510|70.26709859964586|\n",
            "|   WY|      557720|69.92364268808721|\n",
            "|   ND|      714670|69.67741754935845|\n",
            "+-----+------------+-----------------+\n",
            "only showing top 10 rows\n",
            "\n"
          ]
        }
      ]
    },
    {
      "cell_type": "markdown",
      "source": [
        "## 10 poorest states"
      ],
      "metadata": {
        "id": "gWCJn42UVycW"
      }
    },
    {
      "cell_type": "code",
      "source": [
        "result.select(\"state\",\"sum(returns)\" , lit(result[\"sum(agi)\"]/result[\"sum(returns)\"]).alias(\"avg_agi\")).sort([\"avg_agi\"],ascending = [True]).show(10)"
      ],
      "metadata": {
        "colab": {
          "base_uri": "https://localhost:8080/"
        },
        "id": "cG0h_02oVxgL",
        "outputId": "1b737454-aa7c-49d5-8935-c3a080c771d4"
      },
      "execution_count": null,
      "outputs": [
        {
          "output_type": "stream",
          "name": "stdout",
          "text": [
            "+-----+------------+------------------+\n",
            "|state|sum(returns)|           avg_agi|\n",
            "+-----+------------+------------------+\n",
            "|   MS|     2458630| 46.27042539951111|\n",
            "|   WV|     1552380| 48.74156843041008|\n",
            "|   NM|     1779870| 50.20755111328356|\n",
            "|   KY|     3720070| 50.73022819463075|\n",
            "|   AR|     2407010| 51.61637882684326|\n",
            "|   SC|     4156340|51.755046988456186|\n",
            "|   AL|     4046400|51.942349248714905|\n",
            "|   ME|     1254060| 52.51276015501651|\n",
            "|   ID|     1355750| 52.79056463212244|\n",
            "|   MT|      954110| 52.83129198939326|\n",
            "+-----+------------+------------------+\n",
            "only showing top 10 rows\n",
            "\n"
          ]
        }
      ]
    },
    {
      "cell_type": "markdown",
      "source": [
        "## The average AGI ranges between 46 to 90 across all the states in USA"
      ],
      "metadata": {
        "id": "o3jpayS0vlXk"
      }
    },
    {
      "cell_type": "markdown",
      "source": [
        "## showing results for state of Michigan"
      ],
      "metadata": {
        "id": "x4dMkhafWNw_"
      }
    },
    {
      "cell_type": "code",
      "source": [
        "result.filter(result[\"state\"]=='MI').show()"
      ],
      "metadata": {
        "colab": {
          "base_uri": "https://localhost:8080/"
        },
        "id": "cmEBnNG4WL4j",
        "outputId": "c50e5044-814d-4689-bb8b-c4f22b3092b7"
      },
      "execution_count": null,
      "outputs": [
        {
          "output_type": "stream",
          "name": "stdout",
          "text": [
            "+-----+------------+---------+-------------------------+------------------------+---------------------------+--------------------------+\n",
            "|state|sum(returns)| sum(agi)|sum(returns_total_income)|sum(total_income_amount)|sum(returns_taxable_income)|sum(taxable_income_amount)|\n",
            "+-----+------------+---------+-------------------------+------------------------+---------------------------+--------------------------+\n",
            "|   MI|     9186100|508666492|                  9186140|               515692796|                    6787490|                 345700044|\n",
            "+-----+------------+---------+-------------------------+------------------------+---------------------------+--------------------------+\n",
            "\n"
          ]
        }
      ]
    },
    {
      "cell_type": "code",
      "source": [
        "result.filter(result[\"state\"]=='MI').select(\"state\",\"sum(returns)\",\"sum(agi)\",\n",
        "                                            lit(result[\"sum(agi)\"]/result[\"sum(returns)\"]).alias(\"avg_agi\"),\n",
        "                                            lit(result[\"sum(total_income_amount)\"]/result[\"sum(returns_total_income)\"]).alias(\"avg_total_income\"),\n",
        "                                            lit(result[\"sum(taxable_income_amount)\"]/result[\"sum(returns_taxable_income)\"]).alias(\"avg_taxable_income\")).show()"
      ],
      "metadata": {
        "colab": {
          "base_uri": "https://localhost:8080/"
        },
        "id": "6xi9bnxeT9t5",
        "outputId": "7ec4dd2d-c63a-40c3-fee0-f5b9980938bb"
      },
      "execution_count": null,
      "outputs": [
        {
          "output_type": "stream",
          "name": "stdout",
          "text": [
            "+-----+------------+---------+------------------+----------------+------------------+\n",
            "|state|sum(returns)| sum(agi)|           avg_agi|avg_total_income|avg_taxable_income|\n",
            "+-----+------------+---------+------------------+----------------+------------------+\n",
            "|   MI|     9186100|508666492|55.373498220136945|56.1381381080628|50.931941557188296|\n",
            "+-----+------------+---------+------------------+----------------+------------------+\n",
            "\n"
          ]
        }
      ]
    },
    {
      "cell_type": "markdown",
      "metadata": {
        "id": "c0GQ1eJjUoLd"
      },
      "source": [
        "# Analyzing data by zipcodes across USA\n",
        "\n",
        "\n"
      ]
    },
    {
      "cell_type": "code",
      "source": [
        "df.show(5)"
      ],
      "metadata": {
        "colab": {
          "base_uri": "https://localhost:8080/"
        },
        "id": "pWSIymROEeoa",
        "outputId": "6d55bc1d-2f75-4bca-d6eb-3e669a2a88d1"
      },
      "execution_count": null,
      "outputs": [
        {
          "output_type": "stream",
          "name": "stdout",
          "text": [
            "+-----+-------+-------+---------+-----------+--------------------+-------------------+----------------+----------------------+---------------------+------------------+\n",
            "|state|zipcode|returns|      agi|    avg_agi|returns_total_income|total_income_amount|avg_total_income|returns_taxable_income|taxable_income_amount|avg_taxable_income|\n",
            "+-----+-------+-------+---------+-----------+--------------------+-------------------+----------------+----------------------+---------------------+------------------+\n",
            "|   AL|      0|2022380|105089761|51.96340994|             2022380|          106420533|     52.62143267|               1468370|             67850874|       46.20829491|\n",
            "|   AL|  35004|   4930|   255534|51.83245436|                4930|             258024|     52.33752535|                  4020|               163859|       40.76094527|\n",
            "|   AL|  35005|   3300|   128387|38.90515152|                3300|             129390|     39.20909091|                  2440|                70760|              29.0|\n",
            "|   AL|  35006|   1230|    58302|       47.4|                1230|              58585|      47.6300813|                   940|                36341|        38.6606383|\n",
            "|   AL|  35007|  11990|   643708|53.68707256|               11990|             651350|     54.32443703|                  9280|               414878|       44.70668103|\n",
            "+-----+-------+-------+---------+-----------+--------------------+-------------------+----------------+----------------------+---------------------+------------------+\n",
            "only showing top 5 rows\n",
            "\n"
          ]
        }
      ]
    },
    {
      "cell_type": "code",
      "execution_count": null,
      "metadata": {
        "colab": {
          "base_uri": "https://localhost:8080/"
        },
        "id": "JCNkvI-E5c1X",
        "outputId": "56c4444d-537b-47d9-d43d-fd767e5e3ce4"
      },
      "outputs": [
        {
          "output_type": "stream",
          "name": "stderr",
          "text": [
            "/content/spark-3.4.1-bin-hadoop3/python/pyspark/sql/dataframe.py:330: FutureWarning: Deprecated in 2.0, use createOrReplaceTempView instead.\n",
            "  warnings.warn(\"Deprecated in 2.0, use createOrReplaceTempView instead.\", FutureWarning)\n"
          ]
        },
        {
          "output_type": "execute_result",
          "data": {
            "text/plain": [
              "DataFrame[state: string, zipcode: int, returns: int, agi: int, avg_agi: double, returns_total_income: int, total_income_amount: int, avg_total_income: double, returns_taxable_income: int, taxable_income_amount: int, avg_taxable_income: double]"
            ]
          },
          "metadata": {},
          "execution_count": 31
        }
      ],
      "source": [
        "df.registerTempTable(\"mytable\")\n",
        "\n",
        "# create another dataframe 'abc_contractor' with the results of select query on temp\n",
        "spark.sql(\"\"\"\n",
        "    SELECT * FROM mytable\n",
        "\"\"\")"
      ]
    },
    {
      "cell_type": "code",
      "execution_count": null,
      "metadata": {
        "colab": {
          "base_uri": "https://localhost:8080/"
        },
        "id": "pegQOLLoJi2E",
        "outputId": "21073301-80f4-4317-89d7-02ea287e34d9"
      },
      "outputs": [
        {
          "output_type": "stream",
          "name": "stdout",
          "text": [
            "+-------+--------------+\n",
            "|zipcode|count(zipcode)|\n",
            "+-------+--------------+\n",
            "|  99999|            51|\n",
            "|      0|            51|\n",
            "+-------+--------------+\n",
            "\n"
          ]
        }
      ],
      "source": [
        "zipcode_data = spark.sql(\"\"\"\n",
        "    SELECT zipcode, count(zipcode)\n",
        "    FROM mytable\n",
        "    GROUP BY zipcode\n",
        "    HAVING count(zipcode)>1\n",
        "\"\"\")\n",
        "\n",
        "zipcode_data.show()\n"
      ]
    },
    {
      "cell_type": "markdown",
      "source": [
        "### There are rows by  zipcode 0 and 99999 for each state. These are not actual zipcodes but some missing data. So filtering the rows where zipcode equals 0 and 99999."
      ],
      "metadata": {
        "id": "PdeGnh2axH9K"
      }
    },
    {
      "cell_type": "code",
      "source": [
        "zipcode_data = df.drop('index','avg_agi','avg_total_income','avg_taxable_income')"
      ],
      "metadata": {
        "id": "g4fVbkO85xTI"
      },
      "execution_count": null,
      "outputs": []
    },
    {
      "cell_type": "code",
      "source": [
        "zipcode_data = zipcode_data.filter(~((df.zipcode==0) | (df.zipcode == 99999)))"
      ],
      "metadata": {
        "id": "ql5a5MZPOffA"
      },
      "execution_count": null,
      "outputs": []
    },
    {
      "cell_type": "markdown",
      "source": [],
      "metadata": {
        "id": "jB-EF6z3xvrf"
      }
    },
    {
      "cell_type": "code",
      "source": [
        "zipcode_data.registerTempTable(\"mytable\")\n"
      ],
      "metadata": {
        "id": "0sJ-JeDr69hH"
      },
      "execution_count": null,
      "outputs": []
    },
    {
      "cell_type": "code",
      "source": [
        "spark.sql(\"\"\"\n",
        "      SELECT * FROM mytable\n",
        "      \"\"\").show(5)"
      ],
      "metadata": {
        "colab": {
          "base_uri": "https://localhost:8080/"
        },
        "id": "bEBiyhrg6VLz",
        "outputId": "1544fac0-cc4b-46d8-a4f2-ccb367de80e0"
      },
      "execution_count": null,
      "outputs": [
        {
          "output_type": "stream",
          "name": "stdout",
          "text": [
            "+-----+-------+-------+------+--------------------+-------------------+----------------------+---------------------+\n",
            "|state|zipcode|returns|   agi|returns_total_income|total_income_amount|returns_taxable_income|taxable_income_amount|\n",
            "+-----+-------+-------+------+--------------------+-------------------+----------------------+---------------------+\n",
            "|   AL|  35004|   4930|255534|                4930|             258024|                  4020|               163859|\n",
            "|   AL|  35005|   3300|128387|                3300|             129390|                  2440|                70760|\n",
            "|   AL|  35006|   1230| 58302|                1230|              58585|                   940|                36341|\n",
            "|   AL|  35007|  11990|643708|               11990|             651350|                  9280|               414878|\n",
            "|   AL|  35010|   8320|378497|                8320|             382106|                  5610|               226514|\n",
            "+-----+-------+-------+------+--------------------+-------------------+----------------------+---------------------+\n",
            "only showing top 5 rows\n",
            "\n"
          ]
        }
      ]
    },
    {
      "cell_type": "code",
      "source": [
        "spark.sql(\"\"\"\n",
        "    SELECT COUNT(*) FROM mytable\n",
        "    where zipcode=0 OR zipcode = 99999;\n",
        "    \"\"\").show()"
      ],
      "metadata": {
        "colab": {
          "base_uri": "https://localhost:8080/"
        },
        "id": "eoIVyCsIagVc",
        "outputId": "54b9daa9-357f-4d17-ab58-b9912bf83cd5"
      },
      "execution_count": null,
      "outputs": [
        {
          "output_type": "stream",
          "name": "stdout",
          "text": [
            "+--------+\n",
            "|count(1)|\n",
            "+--------+\n",
            "|       0|\n",
            "+--------+\n",
            "\n"
          ]
        }
      ]
    },
    {
      "cell_type": "code",
      "source": [
        "spark.sql(\"\"\"\n",
        "         SELECT * FROM mytable\n",
        "         ORDER BY agi DESC\n",
        "         LIMIT 10\n",
        "         \"\"\").show()"
      ],
      "metadata": {
        "colab": {
          "base_uri": "https://localhost:8080/"
        },
        "id": "4ij-pWnG9zFN",
        "outputId": "452951ad-4452-4886-9092-77c8c863b304"
      },
      "execution_count": null,
      "outputs": [
        {
          "output_type": "stream",
          "name": "stdout",
          "text": [
            "+-----+-------+-------+--------+--------------------+-------------------+----------------------+---------------------+\n",
            "|state|zipcode|returns|     agi|returns_total_income|total_income_amount|returns_taxable_income|taxable_income_amount|\n",
            "+-----+-------+-------+--------+--------------------+-------------------+----------------------+---------------------+\n",
            "|   NY|  10021|  23860|11744436|               23860|           11877178|                 21520|              9137327|\n",
            "|   NY|  10128|  32510|10821609|               32510|           10972659|                 29020|              8375493|\n",
            "|   NY|  10023|  33900|10708893|               33900|           10861855|                 29980|              8628787|\n",
            "|   NY|  10022|  19780|10036729|               19780|           10328745|                 17810|              6750437|\n",
            "|   NY|  10024|  30820| 9152767|               30820|            9317798|                 27140|              7219049|\n",
            "|   NY|  10028|  25370| 8970406|               25370|            9092931|                 22910|              7197520|\n",
            "|   NY|  10016|  30970| 8730077|               30970|            8814856|                 27930|              5085693|\n",
            "|   CA|  94301|   8650| 8704708|                8650|            8748862|                  7680|              6330806|\n",
            "|   TX|  77024|  17450| 7817660|               17450|            7940064|                 15110|              7082590|\n",
            "|   CT|   6830|  12380| 7696148|               12380|            7771682|                 10150|              6300439|\n",
            "+-----+-------+-------+--------+--------------------+-------------------+----------------------+---------------------+\n",
            "\n"
          ]
        }
      ]
    },
    {
      "cell_type": "code",
      "source": [
        "spark.sql(\"\"\"\n",
        "         SELECT state, zipcode, returns, (agi/returns) as average_agi FROM mytable\n",
        "         ORDER BY average_agi DESC\n",
        "         LIMIT 10\n",
        "         \"\"\").show()"
      ],
      "metadata": {
        "colab": {
          "base_uri": "https://localhost:8080/"
        },
        "id": "UgSVgPOx9IhO",
        "outputId": "4738dc1c-faf2-4d1f-9d4d-23e4b8a62c98"
      },
      "execution_count": null,
      "outputs": [
        {
          "output_type": "stream",
          "name": "stdout",
          "text": [
            "+-----+-------+-------+------------------+\n",
            "|state|zipcode|returns|       average_agi|\n",
            "+-----+-------+-------+------------------+\n",
            "|   FL|  33109|    240|         1815.5375|\n",
            "|   CA|  94027|   3230| 1149.294427244582|\n",
            "|   CA|  94301|   8650|1006.3246242774567|\n",
            "|   NY|  10005|   5660| 944.1335689045936|\n",
            "|   NJ|   7931|   1640| 886.4914634146342|\n",
            "|   NJ|   7976|    710| 837.3830985915492|\n",
            "|   CA|  90067|   3190|  811.582131661442|\n",
            "|   NJ|   7078|   5880| 688.3840136054422|\n",
            "|   PA|  19035|   2020|  680.859900990099|\n",
            "|   NY|  10577|   1520| 670.8940789473684|\n",
            "+-----+-------+-------+------------------+\n",
            "\n"
          ]
        }
      ]
    },
    {
      "cell_type": "code",
      "source": [
        "zip_states = spark.read.option('header','true').csv('/content/zip_codes_states (1).csv', inferSchema = True)\n",
        "zip_states.printSchema()"
      ],
      "metadata": {
        "colab": {
          "base_uri": "https://localhost:8080/"
        },
        "id": "Cs21JcPfE4n0",
        "outputId": "c56a5b25-57d0-4d6a-bf25-e09bca2815af"
      },
      "execution_count": null,
      "outputs": [
        {
          "output_type": "stream",
          "name": "stdout",
          "text": [
            "root\n",
            " |-- zip_code: integer (nullable = true)\n",
            " |-- latitude: double (nullable = true)\n",
            " |-- longitude: double (nullable = true)\n",
            " |-- city: string (nullable = true)\n",
            " |-- state: string (nullable = true)\n",
            " |-- county: string (nullable = true)\n",
            "\n"
          ]
        }
      ]
    },
    {
      "cell_type": "code",
      "source": [
        "zip_states.registerTempTable('zip_states')"
      ],
      "metadata": {
        "id": "iQtU6PUZFc58"
      },
      "execution_count": null,
      "outputs": []
    },
    {
      "cell_type": "markdown",
      "source": [
        "## Top 10 richest Zipcodes with city names across USA"
      ],
      "metadata": {
        "id": "pvH2UQwMz-cN"
      }
    },
    {
      "cell_type": "code",
      "source": [
        "spark.sql(\"\"\"\n",
        "         SELECT mytable.state, mytable.zipcode, zip_states.city, returns, ROUND(agi/returns, 2) as average_agi\n",
        "         FROM mytable\n",
        "         LEFT JOIN zip_states ON mytable.zipcode = zip_states.zip_code\n",
        "         ORDER BY average_agi DESC\n",
        "         LIMIT 10\n",
        "         \"\"\").show()"
      ],
      "metadata": {
        "colab": {
          "base_uri": "https://localhost:8080/"
        },
        "id": "jeJYjkqCHh1e",
        "outputId": "3374cb78-aeaa-444e-dfd2-7bb89139f082"
      },
      "execution_count": null,
      "outputs": [
        {
          "output_type": "stream",
          "name": "stdout",
          "text": [
            "+-----+-------+-----------+-------+-----------+\n",
            "|state|zipcode|       city|returns|average_agi|\n",
            "+-----+-------+-----------+-------+-----------+\n",
            "|   FL|  33109|Miami Beach|    240|    1815.54|\n",
            "|   CA|  94027|   Atherton|   3230|    1149.29|\n",
            "|   CA|  94301|  Palo Alto|   8650|    1006.32|\n",
            "|   NY|  10005|   New York|   5660|     944.13|\n",
            "|   NJ|   7931|  Far Hills|   1640|     886.49|\n",
            "|   NJ|   7976| New Vernon|    710|     837.38|\n",
            "|   CA|  90067|Los Angeles|   3190|     811.58|\n",
            "|   NJ|   7078|Short Hills|   5880|     688.38|\n",
            "|   PA|  19035|   Gladwyne|   2020|     680.86|\n",
            "|   NY|  10577|   Purchase|   1520|     670.89|\n",
            "+-----+-------+-----------+-------+-----------+\n",
            "\n"
          ]
        }
      ]
    },
    {
      "cell_type": "markdown",
      "source": [
        "## 10 poor zip codes with city names across USA"
      ],
      "metadata": {
        "id": "jKpkkbPI0cdm"
      }
    },
    {
      "cell_type": "code",
      "source": [
        "spark.sql(\"\"\"\n",
        "         SELECT mytable.state, mytable.zipcode, zip_states.city, returns, ROUND(agi/returns, 2) as average_agi\n",
        "         FROM mytable\n",
        "         LEFT JOIN zip_states ON mytable.zipcode = zip_states.zip_code\n",
        "         ORDER BY average_agi ASC\n",
        "         LIMIT 10\n",
        "         \"\"\").show()"
      ],
      "metadata": {
        "colab": {
          "base_uri": "https://localhost:8080/"
        },
        "id": "ZlznyJXTIxjZ",
        "outputId": "38dc46c3-a140-4eb2-caef-ecea8303b9c0"
      },
      "execution_count": null,
      "outputs": [
        {
          "output_type": "stream",
          "name": "stdout",
          "text": [
            "+-----+-------+--------------+-------+-----------+\n",
            "|state|zipcode|          city|returns|average_agi|\n",
            "+-----+-------+--------------+-------+-----------+\n",
            "|   IN|  47406|   Bloomington|    170|       8.72|\n",
            "|   MO|  64147|   Kansas City|    200|      12.22|\n",
            "|   MN|  55455|   Minneapolis|    150|       14.1|\n",
            "|   MO|  63140|   Saint Louis|    100|      15.11|\n",
            "|   SD|  57658|       Wakpala|    110|      15.44|\n",
            "|   UT|  84112|Salt Lake City|    320|      16.15|\n",
            "|   WI|  53706|       Madison|    150|       17.2|\n",
            "|   TN|  38126|       Memphis|   2290|       17.4|\n",
            "|   OH|  45225|    Cincinnati|   3120|      17.95|\n",
            "|   KY|  40982|         Scalf|    110|      18.05|\n",
            "+-----+-------+--------------+-------+-----------+\n",
            "\n"
          ]
        }
      ]
    },
    {
      "cell_type": "markdown",
      "source": [
        "# Analyzing Michigan data"
      ],
      "metadata": {
        "id": "M9C0FyuzoF0e"
      }
    },
    {
      "cell_type": "code",
      "source": [
        "michigan_data = zipcode_data.filter(zipcode_data.state =='MI')\n",
        "michigan_data.show(5)"
      ],
      "metadata": {
        "colab": {
          "base_uri": "https://localhost:8080/"
        },
        "id": "btPpZUZLo9ht",
        "outputId": "644da34a-19d0-4d83-def2-cfe27d3f085c"
      },
      "execution_count": null,
      "outputs": [
        {
          "output_type": "stream",
          "name": "stdout",
          "text": [
            "+-----+-------+-------+------+--------------------+-------------------+----------------------+---------------------+\n",
            "|state|zipcode|returns|   agi|returns_total_income|total_income_amount|returns_taxable_income|taxable_income_amount|\n",
            "+-----+-------+-------+------+--------------------+-------------------+----------------------+---------------------+\n",
            "|   MI|  48001|   5870|300488|                5870|             304026|                  4400|               198625|\n",
            "|   MI|  48002|   1520| 81051|                1520|              82078|                  1190|                53257|\n",
            "|   MI|  48003|   3010|167060|                3010|             169027|                  2370|               111010|\n",
            "|   MI|  48005|   2610|167384|                2610|             169652|                  2120|               117640|\n",
            "|   MI|  48006|   1770| 91790|                1770|              92800|                  1370|                59106|\n",
            "+-----+-------+-------+------+--------------------+-------------------+----------------------+---------------------+\n",
            "only showing top 5 rows\n",
            "\n"
          ]
        }
      ]
    },
    {
      "cell_type": "markdown",
      "source": [
        "Michigan has a total of 979 active zip codes. But we have 890 right now so some of the data is missing and it might have included under zipcode 0 or 99999.\n",
        "\n",
        "\n",
        "Minimum and Maximum average gross income across Michigan state"
      ],
      "metadata": {
        "id": "A5A4q_u30oNu"
      }
    },
    {
      "cell_type": "code",
      "source": [
        "spark.sql(\"\"\"\n",
        "          SELECT  COUNT(*) FROM MI_table\n",
        "          \"\"\").show()"
      ],
      "metadata": {
        "colab": {
          "base_uri": "https://localhost:8080/"
        },
        "id": "9VMN_DifuiEe",
        "outputId": "a0083e85-dbac-4890-d7e0-b53a902528a6"
      },
      "execution_count": null,
      "outputs": [
        {
          "output_type": "stream",
          "name": "stdout",
          "text": [
            "+--------+\n",
            "|count(1)|\n",
            "+--------+\n",
            "|     890|\n",
            "+--------+\n",
            "\n"
          ]
        }
      ]
    },
    {
      "cell_type": "code",
      "source": [
        "michigan_data.registerTempTable('MI_table')\n",
        "\n",
        "spark.sql(\"\"\"\n",
        "          SELECT  MIN(agi), MAX(agi) FROM MI_table\n",
        "          \"\"\").show()"
      ],
      "metadata": {
        "colab": {
          "base_uri": "https://localhost:8080/"
        },
        "id": "BvznbjYroDFV",
        "outputId": "94275257-2785-4a78-da5c-59b11a4b81f0"
      },
      "execution_count": null,
      "outputs": [
        {
          "output_type": "stream",
          "name": "stdout",
          "text": [
            "+--------+--------+\n",
            "|min(agi)|max(agi)|\n",
            "+--------+--------+\n",
            "|    3543| 2519849|\n",
            "+--------+--------+\n",
            "\n"
          ]
        }
      ]
    },
    {
      "cell_type": "markdown",
      "source": [
        "## Top 15 rich zip codes from Michigan state with city names by average AGI."
      ],
      "metadata": {
        "id": "IUtyoGQZ2mAo"
      }
    },
    {
      "cell_type": "code",
      "source": [
        "spark.sql(\"\"\"\n",
        "         SELECT MI_table.zipcode, zip_states.city, returns, ROUND(agi/returns, 2) as average_agi\n",
        "         FROM MI_table\n",
        "         LEFT JOIN zip_states ON MI_table.zipcode = zip_states.zip_code\n",
        "         ORDER BY average_agi DESC\n",
        "         LIMIT 15\n",
        "         \"\"\").show()"
      ],
      "metadata": {
        "colab": {
          "base_uri": "https://localhost:8080/"
        },
        "id": "vSd6qv7ztESM",
        "outputId": "63f2eed0-01aa-4cb0-b655-52bf850eccb5"
      },
      "execution_count": null,
      "outputs": [
        {
          "output_type": "stream",
          "name": "stdout",
          "text": [
            "+-------+----------------+-------+-----------+\n",
            "|zipcode|            city|returns|average_agi|\n",
            "+-------+----------------+-------+-----------+\n",
            "|  48304|Bloomfield Hills|   8350|     265.62|\n",
            "|  48009|      Birmingham|  10310|     244.41|\n",
            "|  48302|Bloomfield Hills|   8200|     229.25|\n",
            "|  48301|Bloomfield Hills|   7120|      207.4|\n",
            "|  49301|             Ada|   9010|     174.78|\n",
            "|  48025|        Franklin|   7430|      168.6|\n",
            "|  48168|            null|  10770|     150.57|\n",
            "|  48323| West Bloomfield|   8920|     140.96|\n",
            "|  48374|            Novi|   6890|      139.5|\n",
            "|  48070|Huntington Woods|   3080|     139.32|\n",
            "|  48306|       Rochester|  13010|     136.21|\n",
            "|  49060| Hickory Corners|    860|     130.72|\n",
            "|  48363|         Oakland|   2750|     130.14|\n",
            "|  48236|   Grosse Pointe|  15740|     127.23|\n",
            "|  48098|            Troy|  10070|     122.87|\n",
            "+-------+----------------+-------+-----------+\n",
            "\n"
          ]
        }
      ]
    },
    {
      "cell_type": "markdown",
      "source": [
        "## Bottom 15 zipcodes across Michigan by city names by average AGI below 24.29"
      ],
      "metadata": {
        "id": "Huoazoxc27EB"
      }
    },
    {
      "cell_type": "code",
      "source": [
        "spark.sql(\"\"\"\n",
        "         SELECT MI_table.zipcode, zip_states.city, returns, ROUND(agi/returns, 2) as average_agi\n",
        "         FROM MI_table\n",
        "         LEFT JOIN zip_states ON MI_table.zipcode = zip_states.zip_code\n",
        "         ORDER BY average_agi ASC\n",
        "         LIMIT 15\n",
        "         \"\"\").show()"
      ],
      "metadata": {
        "colab": {
          "base_uri": "https://localhost:8080/"
        },
        "id": "N8zQc41uunwI",
        "outputId": "d902704f-dbc5-4b72-f03a-f8ac6a3f696f"
      },
      "execution_count": null,
      "outputs": [
        {
          "output_type": "stream",
          "name": "stdout",
          "text": [
            "+-------+---------+-------+-----------+\n",
            "|zipcode|     city|returns|average_agi|\n",
            "+-------+---------+-------+-----------+\n",
            "|  48505|    Flint|   8110|      19.73|\n",
            "|  48212|Hamtramck|  12880|      20.54|\n",
            "|  48213|  Detroit|   8370|      21.31|\n",
            "|  48607|  Saginaw|    550|      21.35|\n",
            "|  48210|  Detroit|   8120|      22.16|\n",
            "|  48211|  Detroit|   1960|      22.17|\n",
            "|  48238|  Detroit|  10220|      22.52|\n",
            "|  48342|  Pontiac|   7370|      22.55|\n",
            "|  48228|  Detroit|  19260|      22.66|\n",
            "|  48204|  Detroit|   9120|      22.77|\n",
            "|  48205|  Detroit|  14300|       22.8|\n",
            "|  48209|  Detroit|   9440|       23.0|\n",
            "|  48208|  Detroit|   3140|       24.0|\n",
            "|  48234|  Detroit|  13170|      24.01|\n",
            "|  48206|  Detroit|   6370|      24.29|\n",
            "+-------+---------+-------+-----------+\n",
            "\n"
          ]
        }
      ]
    },
    {
      "cell_type": "markdown",
      "source": [
        "# Average AGI of Michigan state across USA is around 55 , and it ranges from 19.73 to 265.62 across the zipcodes in Michigan state."
      ],
      "metadata": {
        "id": "mA0iVcFb35-Q"
      }
    }
  ],
  "metadata": {
    "colab": {
      "provenance": [],
      "include_colab_link": true
    },
    "kernelspec": {
      "display_name": "Python 3",
      "name": "python3"
    },
    "gpuClass": "standard"
  },
  "nbformat": 4,
  "nbformat_minor": 0
}