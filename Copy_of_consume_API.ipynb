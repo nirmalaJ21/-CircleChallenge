{
  "nbformat": 4,
  "nbformat_minor": 0,
  "metadata": {
    "colab": {
      "provenance": [],
      "include_colab_link": true
    },
    "kernelspec": {
      "name": "python3",
      "display_name": "Python 3"
    },
    "language_info": {
      "name": "python"
    }
  },
  "cells": [
    {
      "cell_type": "markdown",
      "metadata": {
        "id": "view-in-github",
        "colab_type": "text"
      },
      "source": [
        "<a href=\"https://colab.research.google.com/github/nirmalaJ21/-CircleChallenge/blob/main/Copy_of_consume_API.ipynb\" target=\"_parent\"><img src=\"https://colab.research.google.com/assets/colab-badge.svg\" alt=\"Open In Colab\"/></a>"
      ]
    },
    {
      "cell_type": "code",
      "source": [
        "!wget www.grandcircus.co"
      ],
      "metadata": {
        "colab": {
          "base_uri": "https://localhost:8080/"
        },
        "id": "wXe0MgKy8V8w",
        "outputId": "4e99e235-e118-47eb-ee16-84a638253ae7"
      },
      "execution_count": null,
      "outputs": [
        {
          "output_type": "stream",
          "name": "stdout",
          "text": [
            "--2023-06-08 20:32:44--  http://www.grandcircus.co/\n",
            "Resolving www.grandcircus.co (www.grandcircus.co)... 141.193.213.10, 141.193.213.11\n",
            "Connecting to www.grandcircus.co (www.grandcircus.co)|141.193.213.10|:80... connected.\n",
            "HTTP request sent, awaiting response... 301 Moved Permanently\n",
            "Location: https://www.grandcircus.co/ [following]\n",
            "--2023-06-08 20:32:44--  https://www.grandcircus.co/\n",
            "Connecting to www.grandcircus.co (www.grandcircus.co)|141.193.213.10|:443... connected.\n",
            "HTTP request sent, awaiting response... 200 OK\n",
            "Length: unspecified [text/html]\n",
            "Saving to: ‘index.html’\n",
            "\n",
            "index.html              [ <=>                ] 174.18K  --.-KB/s    in 0.1s    \n",
            "\n",
            "2023-06-08 20:32:45 (1.61 MB/s) - ‘index.html’ saved [178360]\n",
            "\n"
          ]
        }
      ]
    },
    {
      "cell_type": "code",
      "source": [
        "!curl -o output.html https://www.grandcircus.co"
      ],
      "metadata": {
        "colab": {
          "base_uri": "https://localhost:8080/"
        },
        "id": "KJoK0NSOuEuF",
        "outputId": "2f673a36-9641-4c5c-8d83-384933876f99"
      },
      "execution_count": null,
      "outputs": [
        {
          "output_type": "stream",
          "name": "stdout",
          "text": [
            "  % Total    % Received % Xferd  Average Speed   Time    Time     Time  Current\n",
            "                                 Dload  Upload   Total   Spent    Left  Speed\n",
            "100  174k    0  174k    0     0   356k      0 --:--:-- --:--:-- --:--:--  355k\n"
          ]
        }
      ]
    },
    {
      "cell_type": "markdown",
      "source": [
        "https://geocoding-api.open-meteo.com/v1/search?name=Detroit"
      ],
      "metadata": {
        "id": "xaFgZ0Px948S"
      }
    },
    {
      "cell_type": "code",
      "execution_count": null,
      "metadata": {
        "colab": {
          "base_uri": "https://localhost:8080/"
        },
        "id": "Iwhvnafs6oQj",
        "outputId": "897abfcc-9026-4d1a-8700-e0604342919d"
      },
      "outputs": [
        {
          "output_type": "stream",
          "name": "stdout",
          "text": [
            "{'results': [{'id': 4990729, 'name': 'Detroit', 'latitude': 42.33143, 'longitude': -83.04575, 'elevation': 183.0, 'feature_code': 'PPLA2', 'country_code': 'US', 'admin1_id': 5001836, 'admin2_id': 5014227, 'admin3_id': 4990752, 'timezone': 'America/Detroit', 'population': 677116, 'postcodes': ['48201', '48202', '48204', '48205', '48206', '48207', '48208', '48209', '48210', '48211', '48213', '48214', '48215', '48216', '48217', '48219', '48221', '48222', '48223', '48224', '48226', '48227', '48228', '48231', '48232', '48233', '48234', '48235', '48238', '48242', '48243', '48244', '48255', '48260', '48264', '48265', '48266', '48267', '48268', '48269', '48272', '48275', '48277', '48278', '48279', '48288'], 'country_id': 6252001, 'country': 'United States', 'admin1': 'Michigan', 'admin2': 'Wayne', 'admin3': 'City of Detroit'}, {'id': 4962481, 'name': 'Detroit', 'latitude': 44.79257, 'longitude': -69.29671, 'elevation': 56.0, 'feature_code': 'PPL', 'country_code': 'US', 'admin1_id': 4971068, 'admin2_id': 4978972, 'admin3_id': 4962482, 'timezone': 'America/New_York', 'population': 848, 'postcodes': ['04929'], 'country_id': 6252001, 'country': 'United States', 'admin1': 'Maine', 'admin2': 'Somerset', 'admin3': 'Town of Detroit'}, {'id': 4685987, 'name': 'Detroit', 'latitude': 33.6615, 'longitude': -95.26662, 'elevation': 147.0, 'feature_code': 'PPL', 'country_code': 'US', 'admin1_id': 4736286, 'admin2_id': 4721949, 'timezone': 'America/Chicago', 'population': 705, 'postcodes': ['75436'], 'country_id': 6252001, 'country': 'United States', 'admin1': 'Texas', 'admin2': 'Red River'}, {'id': 4058738, 'name': 'Detroit', 'latitude': 34.02816, 'longitude': -88.17004, 'elevation': 111.0, 'feature_code': 'PPL', 'country_code': 'US', 'admin1_id': 4829764, 'admin2_id': 4071676, 'timezone': 'America/Chicago', 'population': 227, 'postcodes': ['35552'], 'country_id': 6252001, 'country': 'United States', 'admin1': 'Alabama', 'admin2': 'Lamar'}, {'id': 5722994, 'name': 'Detroit', 'latitude': 44.73401, 'longitude': -122.1498, 'elevation': 491.0, 'feature_code': 'PPL', 'country_code': 'US', 'admin1_id': 5744337, 'admin2_id': 5739051, 'timezone': 'America/Los_Angeles', 'population': 216, 'postcodes': ['97342'], 'country_id': 6252001, 'country': 'United States', 'admin1': 'Oregon', 'admin2': 'Marion'}, {'id': 4807238, 'name': 'Gordon', 'latitude': 37.98705, 'longitude': -81.69539, 'elevation': 270.0, 'feature_code': 'PPL', 'country_code': 'US', 'admin1_id': 4826850, 'admin2_id': 4799815, 'timezone': 'America/New_York', 'postcodes': ['25093'], 'country_id': 6252001, 'country': 'United States', 'admin1': 'West Virginia', 'admin2': 'Boone'}, {'id': 4270359, 'name': 'Detroit', 'latitude': 38.935, 'longitude': -97.12085, 'elevation': 347.0, 'feature_code': 'PPL', 'country_code': 'US', 'admin1_id': 4273857, 'admin2_id': 4270394, 'admin3_id': 4269279, 'timezone': 'America/Chicago', 'population': 114, 'country_id': 6252001, 'country': 'United States', 'admin1': 'Kansas', 'admin2': 'Dickinson', 'admin3': 'Center Township'}, {'id': 4237004, 'name': 'Detroit', 'latitude': 39.6206, 'longitude': -90.67679, 'elevation': 195.0, 'feature_code': 'PPL', 'country_code': 'US', 'admin1_id': 4896861, 'admin2_id': 4246953, 'admin3_id': 4237005, 'timezone': 'America/Chicago', 'population': 81, 'country_id': 6252001, 'country': 'United States', 'admin1': 'Illinois', 'admin2': 'Pike', 'admin3': 'Detroit Township'}, {'id': 4617921, 'name': 'Detroit', 'latitude': 35.58897, 'longitude': -89.81369, 'elevation': 80.0, 'feature_code': 'PPL', 'country_code': 'US', 'admin1_id': 4662168, 'admin2_id': 4662784, 'timezone': 'America/Chicago', 'country_id': 6252001, 'country': 'United States', 'admin1': 'Tennessee', 'admin2': 'Tipton'}, {'id': 5024237, 'name': 'Detroit Lakes', 'latitude': 46.81718, 'longitude': -95.84533, 'elevation': 418.0, 'feature_code': 'PPLA2', 'country_code': 'US', 'admin1_id': 5037779, 'admin2_id': 5017670, 'admin3_id': 5024239, 'timezone': 'America/Chicago', 'population': 9002, 'postcodes': ['56501', '56502'], 'country_id': 6252001, 'country': 'United States', 'admin1': 'Minnesota', 'admin2': 'Becker', 'admin3': 'City of Detroit Lakes'}], 'generationtime_ms': 0.55992603}\n"
          ]
        }
      ],
      "source": [
        "import requests\n",
        "import json\n",
        "import pandas as pd\n",
        "\n",
        "url = \"https://geocoding-api.open-meteo.com/v1/search\"\n",
        "\n",
        "# r = requests.get(url)\n",
        "response = requests.get(url, params={'name':'Detroit'})\n",
        "\n",
        "print(response.json())"
      ]
    },
    {
      "cell_type": "code",
      "source": [
        "import requests\n",
        "import pandas as pd\n",
        "\n",
        "# # Make the API request\n",
        "# url = \"https://api.example.com/data\"  # Replace with the actual API URL\n",
        "# response = requests.get(url)\n",
        "\n",
        "url = \"https://geocoding-api.open-meteo.com/v1/search\"\n",
        "# r = requests.get(url)\n",
        "response = requests.get(url, params={'name':'Detroit'})\n",
        "\n",
        "# Check if the request was successful (status code 200)\n",
        "if response.status_code == 200:\n",
        "    # Parse the response as JSON\n",
        "    data = response.json()\n",
        "\n",
        "    # Convert the JSON data to a Pandas DataFrame\n",
        "    df = pd.DataFrame(data)\n",
        "\n",
        "    # Perform further operations with the DataFrame\n",
        "    # For example, you can print the DataFrame\n",
        "    print(df)\n",
        "else:\n",
        "    print(\"Error:\", response.status_code)\n"
      ],
      "metadata": {
        "colab": {
          "base_uri": "https://localhost:8080/"
        },
        "id": "rk3m2x98685D",
        "outputId": "111a3ce8-4e6e-4ead-ae8d-23cc53277a0b"
      },
      "execution_count": null,
      "outputs": [
        {
          "output_type": "stream",
          "name": "stdout",
          "text": [
            "                                             results  generationtime_ms\n",
            "0  {'id': 4990729, 'name': 'Detroit', 'latitude':...           0.559926\n",
            "1  {'id': 4962481, 'name': 'Detroit', 'latitude':...           0.559926\n",
            "2  {'id': 4685987, 'name': 'Detroit', 'latitude':...           0.559926\n",
            "3  {'id': 4058738, 'name': 'Detroit', 'latitude':...           0.559926\n",
            "4  {'id': 5722994, 'name': 'Detroit', 'latitude':...           0.559926\n",
            "5  {'id': 4807238, 'name': 'Gordon', 'latitude': ...           0.559926\n",
            "6  {'id': 4270359, 'name': 'Detroit', 'latitude':...           0.559926\n",
            "7  {'id': 4237004, 'name': 'Detroit', 'latitude':...           0.559926\n",
            "8  {'id': 4617921, 'name': 'Detroit', 'latitude':...           0.559926\n",
            "9  {'id': 5024237, 'name': 'Detroit Lakes', 'lati...           0.559926\n"
          ]
        }
      ]
    },
    {
      "cell_type": "code",
      "source": [
        "df.head()"
      ],
      "metadata": {
        "colab": {
          "base_uri": "https://localhost:8080/",
          "height": 206
        },
        "id": "bkvSj9tX8CGJ",
        "outputId": "11feedf2-29f6-4e89-f6f2-1824a6e52edf"
      },
      "execution_count": null,
      "outputs": [
        {
          "output_type": "execute_result",
          "data": {
            "text/plain": [
              "                                             results  generationtime_ms\n",
              "0  {'id': 4990729, 'name': 'Detroit', 'latitude':...           0.550985\n",
              "1  {'id': 4962481, 'name': 'Detroit', 'latitude':...           0.550985\n",
              "2  {'id': 4685987, 'name': 'Detroit', 'latitude':...           0.550985\n",
              "3  {'id': 4058738, 'name': 'Detroit', 'latitude':...           0.550985\n",
              "4  {'id': 5722994, 'name': 'Detroit', 'latitude':...           0.550985"
            ],
            "text/html": [
              "\n",
              "  <div id=\"df-26fddfe5-e320-47b4-92b4-c9a2aec63611\">\n",
              "    <div class=\"colab-df-container\">\n",
              "      <div>\n",
              "<style scoped>\n",
              "    .dataframe tbody tr th:only-of-type {\n",
              "        vertical-align: middle;\n",
              "    }\n",
              "\n",
              "    .dataframe tbody tr th {\n",
              "        vertical-align: top;\n",
              "    }\n",
              "\n",
              "    .dataframe thead th {\n",
              "        text-align: right;\n",
              "    }\n",
              "</style>\n",
              "<table border=\"1\" class=\"dataframe\">\n",
              "  <thead>\n",
              "    <tr style=\"text-align: right;\">\n",
              "      <th></th>\n",
              "      <th>results</th>\n",
              "      <th>generationtime_ms</th>\n",
              "    </tr>\n",
              "  </thead>\n",
              "  <tbody>\n",
              "    <tr>\n",
              "      <th>0</th>\n",
              "      <td>{'id': 4990729, 'name': 'Detroit', 'latitude':...</td>\n",
              "      <td>0.550985</td>\n",
              "    </tr>\n",
              "    <tr>\n",
              "      <th>1</th>\n",
              "      <td>{'id': 4962481, 'name': 'Detroit', 'latitude':...</td>\n",
              "      <td>0.550985</td>\n",
              "    </tr>\n",
              "    <tr>\n",
              "      <th>2</th>\n",
              "      <td>{'id': 4685987, 'name': 'Detroit', 'latitude':...</td>\n",
              "      <td>0.550985</td>\n",
              "    </tr>\n",
              "    <tr>\n",
              "      <th>3</th>\n",
              "      <td>{'id': 4058738, 'name': 'Detroit', 'latitude':...</td>\n",
              "      <td>0.550985</td>\n",
              "    </tr>\n",
              "    <tr>\n",
              "      <th>4</th>\n",
              "      <td>{'id': 5722994, 'name': 'Detroit', 'latitude':...</td>\n",
              "      <td>0.550985</td>\n",
              "    </tr>\n",
              "  </tbody>\n",
              "</table>\n",
              "</div>\n",
              "      <button class=\"colab-df-convert\" onclick=\"convertToInteractive('df-26fddfe5-e320-47b4-92b4-c9a2aec63611')\"\n",
              "              title=\"Convert this dataframe to an interactive table.\"\n",
              "              style=\"display:none;\">\n",
              "        \n",
              "  <svg xmlns=\"http://www.w3.org/2000/svg\" height=\"24px\"viewBox=\"0 0 24 24\"\n",
              "       width=\"24px\">\n",
              "    <path d=\"M0 0h24v24H0V0z\" fill=\"none\"/>\n",
              "    <path d=\"M18.56 5.44l.94 2.06.94-2.06 2.06-.94-2.06-.94-.94-2.06-.94 2.06-2.06.94zm-11 1L8.5 8.5l.94-2.06 2.06-.94-2.06-.94L8.5 2.5l-.94 2.06-2.06.94zm10 10l.94 2.06.94-2.06 2.06-.94-2.06-.94-.94-2.06-.94 2.06-2.06.94z\"/><path d=\"M17.41 7.96l-1.37-1.37c-.4-.4-.92-.59-1.43-.59-.52 0-1.04.2-1.43.59L10.3 9.45l-7.72 7.72c-.78.78-.78 2.05 0 2.83L4 21.41c.39.39.9.59 1.41.59.51 0 1.02-.2 1.41-.59l7.78-7.78 2.81-2.81c.8-.78.8-2.07 0-2.86zM5.41 20L4 18.59l7.72-7.72 1.47 1.35L5.41 20z\"/>\n",
              "  </svg>\n",
              "      </button>\n",
              "      \n",
              "  <style>\n",
              "    .colab-df-container {\n",
              "      display:flex;\n",
              "      flex-wrap:wrap;\n",
              "      gap: 12px;\n",
              "    }\n",
              "\n",
              "    .colab-df-convert {\n",
              "      background-color: #E8F0FE;\n",
              "      border: none;\n",
              "      border-radius: 50%;\n",
              "      cursor: pointer;\n",
              "      display: none;\n",
              "      fill: #1967D2;\n",
              "      height: 32px;\n",
              "      padding: 0 0 0 0;\n",
              "      width: 32px;\n",
              "    }\n",
              "\n",
              "    .colab-df-convert:hover {\n",
              "      background-color: #E2EBFA;\n",
              "      box-shadow: 0px 1px 2px rgba(60, 64, 67, 0.3), 0px 1px 3px 1px rgba(60, 64, 67, 0.15);\n",
              "      fill: #174EA6;\n",
              "    }\n",
              "\n",
              "    [theme=dark] .colab-df-convert {\n",
              "      background-color: #3B4455;\n",
              "      fill: #D2E3FC;\n",
              "    }\n",
              "\n",
              "    [theme=dark] .colab-df-convert:hover {\n",
              "      background-color: #434B5C;\n",
              "      box-shadow: 0px 1px 3px 1px rgba(0, 0, 0, 0.15);\n",
              "      filter: drop-shadow(0px 1px 2px rgba(0, 0, 0, 0.3));\n",
              "      fill: #FFFFFF;\n",
              "    }\n",
              "  </style>\n",
              "\n",
              "      <script>\n",
              "        const buttonEl =\n",
              "          document.querySelector('#df-26fddfe5-e320-47b4-92b4-c9a2aec63611 button.colab-df-convert');\n",
              "        buttonEl.style.display =\n",
              "          google.colab.kernel.accessAllowed ? 'block' : 'none';\n",
              "\n",
              "        async function convertToInteractive(key) {\n",
              "          const element = document.querySelector('#df-26fddfe5-e320-47b4-92b4-c9a2aec63611');\n",
              "          const dataTable =\n",
              "            await google.colab.kernel.invokeFunction('convertToInteractive',\n",
              "                                                     [key], {});\n",
              "          if (!dataTable) return;\n",
              "\n",
              "          const docLinkHtml = 'Like what you see? Visit the ' +\n",
              "            '<a target=\"_blank\" href=https://colab.research.google.com/notebooks/data_table.ipynb>data table notebook</a>'\n",
              "            + ' to learn more about interactive tables.';\n",
              "          element.innerHTML = '';\n",
              "          dataTable['output_type'] = 'display_data';\n",
              "          await google.colab.output.renderOutput(dataTable, element);\n",
              "          const docLink = document.createElement('div');\n",
              "          docLink.innerHTML = docLinkHtml;\n",
              "          element.appendChild(docLink);\n",
              "        }\n",
              "      </script>\n",
              "    </div>\n",
              "  </div>\n",
              "  "
            ]
          },
          "metadata": {},
          "execution_count": 7
        }
      ]
    },
    {
      "cell_type": "code",
      "source": [
        "df = pd.DataFrame(data['results'])"
      ],
      "metadata": {
        "id": "DYPEz6Tb8FMl"
      },
      "execution_count": null,
      "outputs": []
    },
    {
      "cell_type": "code",
      "source": [
        "df.head()"
      ],
      "metadata": {
        "colab": {
          "base_uri": "https://localhost:8080/",
          "height": 461
        },
        "id": "N9pfyQLJ8VQW",
        "outputId": "e326f2cc-cda5-485a-915e-f6527a4c9fab"
      },
      "execution_count": null,
      "outputs": [
        {
          "output_type": "execute_result",
          "data": {
            "text/plain": [
              "        id     name  latitude  longitude  elevation feature_code country_code  \\\n",
              "0  4990729  Detroit  42.33143  -83.04575      183.0        PPLA2           US   \n",
              "1  4962481  Detroit  44.79257  -69.29671       56.0          PPL           US   \n",
              "2  4685987  Detroit  33.66150  -95.26662      147.0          PPL           US   \n",
              "3  4058738  Detroit  34.02816  -88.17004      111.0          PPL           US   \n",
              "4  5722994  Detroit  44.73401 -122.14980      491.0          PPL           US   \n",
              "\n",
              "   admin1_id  admin2_id  admin3_id             timezone  population  \\\n",
              "0    5001836    5014227  4990752.0      America/Detroit    677116.0   \n",
              "1    4971068    4978972  4962482.0     America/New_York       848.0   \n",
              "2    4736286    4721949        NaN      America/Chicago       705.0   \n",
              "3    4829764    4071676        NaN      America/Chicago       227.0   \n",
              "4    5744337    5739051        NaN  America/Los_Angeles       216.0   \n",
              "\n",
              "                                           postcodes  country_id  \\\n",
              "0  [48201, 48202, 48204, 48205, 48206, 48207, 482...     6252001   \n",
              "1                                            [04929]     6252001   \n",
              "2                                            [75436]     6252001   \n",
              "3                                            [35552]     6252001   \n",
              "4                                            [97342]     6252001   \n",
              "\n",
              "         country    admin1     admin2           admin3  \n",
              "0  United States  Michigan      Wayne  City of Detroit  \n",
              "1  United States     Maine   Somerset  Town of Detroit  \n",
              "2  United States     Texas  Red River              NaN  \n",
              "3  United States   Alabama      Lamar              NaN  \n",
              "4  United States    Oregon     Marion              NaN  "
            ],
            "text/html": [
              "\n",
              "  <div id=\"df-bbb48633-2dcd-4ea5-9426-9389f06a5575\">\n",
              "    <div class=\"colab-df-container\">\n",
              "      <div>\n",
              "<style scoped>\n",
              "    .dataframe tbody tr th:only-of-type {\n",
              "        vertical-align: middle;\n",
              "    }\n",
              "\n",
              "    .dataframe tbody tr th {\n",
              "        vertical-align: top;\n",
              "    }\n",
              "\n",
              "    .dataframe thead th {\n",
              "        text-align: right;\n",
              "    }\n",
              "</style>\n",
              "<table border=\"1\" class=\"dataframe\">\n",
              "  <thead>\n",
              "    <tr style=\"text-align: right;\">\n",
              "      <th></th>\n",
              "      <th>id</th>\n",
              "      <th>name</th>\n",
              "      <th>latitude</th>\n",
              "      <th>longitude</th>\n",
              "      <th>elevation</th>\n",
              "      <th>feature_code</th>\n",
              "      <th>country_code</th>\n",
              "      <th>admin1_id</th>\n",
              "      <th>admin2_id</th>\n",
              "      <th>admin3_id</th>\n",
              "      <th>timezone</th>\n",
              "      <th>population</th>\n",
              "      <th>postcodes</th>\n",
              "      <th>country_id</th>\n",
              "      <th>country</th>\n",
              "      <th>admin1</th>\n",
              "      <th>admin2</th>\n",
              "      <th>admin3</th>\n",
              "    </tr>\n",
              "  </thead>\n",
              "  <tbody>\n",
              "    <tr>\n",
              "      <th>0</th>\n",
              "      <td>4990729</td>\n",
              "      <td>Detroit</td>\n",
              "      <td>42.33143</td>\n",
              "      <td>-83.04575</td>\n",
              "      <td>183.0</td>\n",
              "      <td>PPLA2</td>\n",
              "      <td>US</td>\n",
              "      <td>5001836</td>\n",
              "      <td>5014227</td>\n",
              "      <td>4990752.0</td>\n",
              "      <td>America/Detroit</td>\n",
              "      <td>677116.0</td>\n",
              "      <td>[48201, 48202, 48204, 48205, 48206, 48207, 482...</td>\n",
              "      <td>6252001</td>\n",
              "      <td>United States</td>\n",
              "      <td>Michigan</td>\n",
              "      <td>Wayne</td>\n",
              "      <td>City of Detroit</td>\n",
              "    </tr>\n",
              "    <tr>\n",
              "      <th>1</th>\n",
              "      <td>4962481</td>\n",
              "      <td>Detroit</td>\n",
              "      <td>44.79257</td>\n",
              "      <td>-69.29671</td>\n",
              "      <td>56.0</td>\n",
              "      <td>PPL</td>\n",
              "      <td>US</td>\n",
              "      <td>4971068</td>\n",
              "      <td>4978972</td>\n",
              "      <td>4962482.0</td>\n",
              "      <td>America/New_York</td>\n",
              "      <td>848.0</td>\n",
              "      <td>[04929]</td>\n",
              "      <td>6252001</td>\n",
              "      <td>United States</td>\n",
              "      <td>Maine</td>\n",
              "      <td>Somerset</td>\n",
              "      <td>Town of Detroit</td>\n",
              "    </tr>\n",
              "    <tr>\n",
              "      <th>2</th>\n",
              "      <td>4685987</td>\n",
              "      <td>Detroit</td>\n",
              "      <td>33.66150</td>\n",
              "      <td>-95.26662</td>\n",
              "      <td>147.0</td>\n",
              "      <td>PPL</td>\n",
              "      <td>US</td>\n",
              "      <td>4736286</td>\n",
              "      <td>4721949</td>\n",
              "      <td>NaN</td>\n",
              "      <td>America/Chicago</td>\n",
              "      <td>705.0</td>\n",
              "      <td>[75436]</td>\n",
              "      <td>6252001</td>\n",
              "      <td>United States</td>\n",
              "      <td>Texas</td>\n",
              "      <td>Red River</td>\n",
              "      <td>NaN</td>\n",
              "    </tr>\n",
              "    <tr>\n",
              "      <th>3</th>\n",
              "      <td>4058738</td>\n",
              "      <td>Detroit</td>\n",
              "      <td>34.02816</td>\n",
              "      <td>-88.17004</td>\n",
              "      <td>111.0</td>\n",
              "      <td>PPL</td>\n",
              "      <td>US</td>\n",
              "      <td>4829764</td>\n",
              "      <td>4071676</td>\n",
              "      <td>NaN</td>\n",
              "      <td>America/Chicago</td>\n",
              "      <td>227.0</td>\n",
              "      <td>[35552]</td>\n",
              "      <td>6252001</td>\n",
              "      <td>United States</td>\n",
              "      <td>Alabama</td>\n",
              "      <td>Lamar</td>\n",
              "      <td>NaN</td>\n",
              "    </tr>\n",
              "    <tr>\n",
              "      <th>4</th>\n",
              "      <td>5722994</td>\n",
              "      <td>Detroit</td>\n",
              "      <td>44.73401</td>\n",
              "      <td>-122.14980</td>\n",
              "      <td>491.0</td>\n",
              "      <td>PPL</td>\n",
              "      <td>US</td>\n",
              "      <td>5744337</td>\n",
              "      <td>5739051</td>\n",
              "      <td>NaN</td>\n",
              "      <td>America/Los_Angeles</td>\n",
              "      <td>216.0</td>\n",
              "      <td>[97342]</td>\n",
              "      <td>6252001</td>\n",
              "      <td>United States</td>\n",
              "      <td>Oregon</td>\n",
              "      <td>Marion</td>\n",
              "      <td>NaN</td>\n",
              "    </tr>\n",
              "  </tbody>\n",
              "</table>\n",
              "</div>\n",
              "      <button class=\"colab-df-convert\" onclick=\"convertToInteractive('df-bbb48633-2dcd-4ea5-9426-9389f06a5575')\"\n",
              "              title=\"Convert this dataframe to an interactive table.\"\n",
              "              style=\"display:none;\">\n",
              "        \n",
              "  <svg xmlns=\"http://www.w3.org/2000/svg\" height=\"24px\"viewBox=\"0 0 24 24\"\n",
              "       width=\"24px\">\n",
              "    <path d=\"M0 0h24v24H0V0z\" fill=\"none\"/>\n",
              "    <path d=\"M18.56 5.44l.94 2.06.94-2.06 2.06-.94-2.06-.94-.94-2.06-.94 2.06-2.06.94zm-11 1L8.5 8.5l.94-2.06 2.06-.94-2.06-.94L8.5 2.5l-.94 2.06-2.06.94zm10 10l.94 2.06.94-2.06 2.06-.94-2.06-.94-.94-2.06-.94 2.06-2.06.94z\"/><path d=\"M17.41 7.96l-1.37-1.37c-.4-.4-.92-.59-1.43-.59-.52 0-1.04.2-1.43.59L10.3 9.45l-7.72 7.72c-.78.78-.78 2.05 0 2.83L4 21.41c.39.39.9.59 1.41.59.51 0 1.02-.2 1.41-.59l7.78-7.78 2.81-2.81c.8-.78.8-2.07 0-2.86zM5.41 20L4 18.59l7.72-7.72 1.47 1.35L5.41 20z\"/>\n",
              "  </svg>\n",
              "      </button>\n",
              "      \n",
              "  <style>\n",
              "    .colab-df-container {\n",
              "      display:flex;\n",
              "      flex-wrap:wrap;\n",
              "      gap: 12px;\n",
              "    }\n",
              "\n",
              "    .colab-df-convert {\n",
              "      background-color: #E8F0FE;\n",
              "      border: none;\n",
              "      border-radius: 50%;\n",
              "      cursor: pointer;\n",
              "      display: none;\n",
              "      fill: #1967D2;\n",
              "      height: 32px;\n",
              "      padding: 0 0 0 0;\n",
              "      width: 32px;\n",
              "    }\n",
              "\n",
              "    .colab-df-convert:hover {\n",
              "      background-color: #E2EBFA;\n",
              "      box-shadow: 0px 1px 2px rgba(60, 64, 67, 0.3), 0px 1px 3px 1px rgba(60, 64, 67, 0.15);\n",
              "      fill: #174EA6;\n",
              "    }\n",
              "\n",
              "    [theme=dark] .colab-df-convert {\n",
              "      background-color: #3B4455;\n",
              "      fill: #D2E3FC;\n",
              "    }\n",
              "\n",
              "    [theme=dark] .colab-df-convert:hover {\n",
              "      background-color: #434B5C;\n",
              "      box-shadow: 0px 1px 3px 1px rgba(0, 0, 0, 0.15);\n",
              "      filter: drop-shadow(0px 1px 2px rgba(0, 0, 0, 0.3));\n",
              "      fill: #FFFFFF;\n",
              "    }\n",
              "  </style>\n",
              "\n",
              "      <script>\n",
              "        const buttonEl =\n",
              "          document.querySelector('#df-bbb48633-2dcd-4ea5-9426-9389f06a5575 button.colab-df-convert');\n",
              "        buttonEl.style.display =\n",
              "          google.colab.kernel.accessAllowed ? 'block' : 'none';\n",
              "\n",
              "        async function convertToInteractive(key) {\n",
              "          const element = document.querySelector('#df-bbb48633-2dcd-4ea5-9426-9389f06a5575');\n",
              "          const dataTable =\n",
              "            await google.colab.kernel.invokeFunction('convertToInteractive',\n",
              "                                                     [key], {});\n",
              "          if (!dataTable) return;\n",
              "\n",
              "          const docLinkHtml = 'Like what you see? Visit the ' +\n",
              "            '<a target=\"_blank\" href=https://colab.research.google.com/notebooks/data_table.ipynb>data table notebook</a>'\n",
              "            + ' to learn more about interactive tables.';\n",
              "          element.innerHTML = '';\n",
              "          dataTable['output_type'] = 'display_data';\n",
              "          await google.colab.output.renderOutput(dataTable, element);\n",
              "          const docLink = document.createElement('div');\n",
              "          docLink.innerHTML = docLinkHtml;\n",
              "          element.appendChild(docLink);\n",
              "        }\n",
              "      </script>\n",
              "    </div>\n",
              "  </div>\n",
              "  "
            ]
          },
          "metadata": {},
          "execution_count": 11
        }
      ]
    },
    {
      "cell_type": "markdown",
      "source": [
        "When making requests to RESTful APIs, you can pass arguments or parameters in various ways depending on the API design. Here are some common methods for passing arguments to RESTful APIs:"
      ],
      "metadata": {
        "id": "R7hpR8YEx4Hy"
      }
    },
    {
      "cell_type": "markdown",
      "source": [
        "1. Passing arguments as query parameters"
      ],
      "metadata": {
        "id": "Pok1tsJmxQRj"
      }
    },
    {
      "cell_type": "code",
      "source": [
        "import requests\n",
        "url = 'https://api.open-meteo.com/v1/forecast?latitude=52.52&longitude=13.41&hourly=temperature_2m'\n",
        "response = requests.get(url)\n",
        "print(response.json())"
      ],
      "metadata": {
        "colab": {
          "base_uri": "https://localhost:8080/"
        },
        "id": "e779lTQeCkNJ",
        "outputId": "cd5d23e4-8821-4b0e-a49a-9b7ddb4efd5e"
      },
      "execution_count": null,
      "outputs": [
        {
          "output_type": "stream",
          "name": "stdout",
          "text": [
            "{'latitude': 52.52, 'longitude': 13.419998, 'generationtime_ms': 0.25904178619384766, 'utc_offset_seconds': 0, 'timezone': 'GMT', 'timezone_abbreviation': 'GMT', 'elevation': 38.0, 'hourly_units': {'time': 'iso8601', 'temperature_2m': '°C'}, 'hourly': {'time': ['2023-06-08T00:00', '2023-06-08T01:00', '2023-06-08T02:00', '2023-06-08T03:00', '2023-06-08T04:00', '2023-06-08T05:00', '2023-06-08T06:00', '2023-06-08T07:00', '2023-06-08T08:00', '2023-06-08T09:00', '2023-06-08T10:00', '2023-06-08T11:00', '2023-06-08T12:00', '2023-06-08T13:00', '2023-06-08T14:00', '2023-06-08T15:00', '2023-06-08T16:00', '2023-06-08T17:00', '2023-06-08T18:00', '2023-06-08T19:00', '2023-06-08T20:00', '2023-06-08T21:00', '2023-06-08T22:00', '2023-06-08T23:00', '2023-06-09T00:00', '2023-06-09T01:00', '2023-06-09T02:00', '2023-06-09T03:00', '2023-06-09T04:00', '2023-06-09T05:00', '2023-06-09T06:00', '2023-06-09T07:00', '2023-06-09T08:00', '2023-06-09T09:00', '2023-06-09T10:00', '2023-06-09T11:00', '2023-06-09T12:00', '2023-06-09T13:00', '2023-06-09T14:00', '2023-06-09T15:00', '2023-06-09T16:00', '2023-06-09T17:00', '2023-06-09T18:00', '2023-06-09T19:00', '2023-06-09T20:00', '2023-06-09T21:00', '2023-06-09T22:00', '2023-06-09T23:00', '2023-06-10T00:00', '2023-06-10T01:00', '2023-06-10T02:00', '2023-06-10T03:00', '2023-06-10T04:00', '2023-06-10T05:00', '2023-06-10T06:00', '2023-06-10T07:00', '2023-06-10T08:00', '2023-06-10T09:00', '2023-06-10T10:00', '2023-06-10T11:00', '2023-06-10T12:00', '2023-06-10T13:00', '2023-06-10T14:00', '2023-06-10T15:00', '2023-06-10T16:00', '2023-06-10T17:00', '2023-06-10T18:00', '2023-06-10T19:00', '2023-06-10T20:00', '2023-06-10T21:00', '2023-06-10T22:00', '2023-06-10T23:00', '2023-06-11T00:00', '2023-06-11T01:00', '2023-06-11T02:00', '2023-06-11T03:00', '2023-06-11T04:00', '2023-06-11T05:00', '2023-06-11T06:00', '2023-06-11T07:00', '2023-06-11T08:00', '2023-06-11T09:00', '2023-06-11T10:00', '2023-06-11T11:00', '2023-06-11T12:00', '2023-06-11T13:00', '2023-06-11T14:00', '2023-06-11T15:00', '2023-06-11T16:00', '2023-06-11T17:00', '2023-06-11T18:00', '2023-06-11T19:00', '2023-06-11T20:00', '2023-06-11T21:00', '2023-06-11T22:00', '2023-06-11T23:00', '2023-06-12T00:00', '2023-06-12T01:00', '2023-06-12T02:00', '2023-06-12T03:00', '2023-06-12T04:00', '2023-06-12T05:00', '2023-06-12T06:00', '2023-06-12T07:00', '2023-06-12T08:00', '2023-06-12T09:00', '2023-06-12T10:00', '2023-06-12T11:00', '2023-06-12T12:00', '2023-06-12T13:00', '2023-06-12T14:00', '2023-06-12T15:00', '2023-06-12T16:00', '2023-06-12T17:00', '2023-06-12T18:00', '2023-06-12T19:00', '2023-06-12T20:00', '2023-06-12T21:00', '2023-06-12T22:00', '2023-06-12T23:00', '2023-06-13T00:00', '2023-06-13T01:00', '2023-06-13T02:00', '2023-06-13T03:00', '2023-06-13T04:00', '2023-06-13T05:00', '2023-06-13T06:00', '2023-06-13T07:00', '2023-06-13T08:00', '2023-06-13T09:00', '2023-06-13T10:00', '2023-06-13T11:00', '2023-06-13T12:00', '2023-06-13T13:00', '2023-06-13T14:00', '2023-06-13T15:00', '2023-06-13T16:00', '2023-06-13T17:00', '2023-06-13T18:00', '2023-06-13T19:00', '2023-06-13T20:00', '2023-06-13T21:00', '2023-06-13T22:00', '2023-06-13T23:00', '2023-06-14T00:00', '2023-06-14T01:00', '2023-06-14T02:00', '2023-06-14T03:00', '2023-06-14T04:00', '2023-06-14T05:00', '2023-06-14T06:00', '2023-06-14T07:00', '2023-06-14T08:00', '2023-06-14T09:00', '2023-06-14T10:00', '2023-06-14T11:00', '2023-06-14T12:00', '2023-06-14T13:00', '2023-06-14T14:00', '2023-06-14T15:00', '2023-06-14T16:00', '2023-06-14T17:00', '2023-06-14T18:00', '2023-06-14T19:00', '2023-06-14T20:00', '2023-06-14T21:00', '2023-06-14T22:00', '2023-06-14T23:00'], 'temperature_2m': [18.6, 18.1, 17.5, 16.6, 16.7, 17.8, 19.6, 21.9, 24.0, 26.1, 27.0, 27.8, 28.7, 29.1, 29.2, 29.0, 28.5, 27.7, 26.8, 25.2, 23.4, 21.5, 20.4, 19.3, 18.5, 18.3, 17.8, 17.6, 17.6, 18.2, 19.4, 21.4, 23.1, 24.7, 26.0, 27.6, 28.3, 28.8, 29.2, 28.8, 28.4, 27.7, 25.8, 23.5, 21.0, 19.0, 17.7, 16.7, 16.0, 15.5, 15.2, 14.8, 14.7, 15.7, 17.4, 19.4, 21.5, 23.4, 25.3, 27.0, 28.6, 29.2, 29.4, 24.2, 26.5, 27.0, 26.3, 24.8, 23.1, 21.4, 21.5, 20.0, 18.8, 17.9, 17.2, 16.5, 16.0, 16.1, 17.1, 18.7, 20.4, 22.0, 23.7, 25.2, 25.8, 26.3, 26.6, 26.6, 26.5, 25.9, 25.3, 24.0, 22.3, 21.0, 19.6, 18.3, 17.5, 16.3, 15.1, 14.6, 14.9, 15.9, 17.3, 19.5, 22.1, 24.2, 25.3, 25.8, 26.2, 26.6, 26.8, 26.8, 26.4, 25.8, 24.9, 23.3, 21.4, 19.7, 18.6, 17.7, 16.9, 16.0, 15.1, 14.8, 15.3, 16.3, 17.8, 19.8, 22.2, 24.2, 25.2, 25.8, 26.2, 26.6, 26.8, 26.8, 26.4, 25.7, 25.2, 15.9, 15.6, 15.4, 15.2, 15.1, 15.0, 14.8, 14.5, 14.4, 14.5, 14.7, 15.1, 15.7, 16.5, 17.1, 17.3, 17.4, 17.8, 18.7, 19.9, 20.7, 21.1, 21.1, 20.8, 19.9, 18.6, 17.4, 16.4, 15.6]}}\n"
          ]
        }
      ]
    },
    {
      "cell_type": "code",
      "source": [
        "import requests\n",
        "import pandas as pd\n",
        "\n",
        "# # Make the API request\n",
        "url = \"https://api.open-meteo.com/v1/forecast?latitude=52.52&longitude=13.41&hourly=temperature_2m\"  # Replace with the actual API URL\n",
        "response = requests.get(url)\n",
        "\n",
        "# Check if the request was successful (status code 200)\n",
        "if response.status_code == 200:\n",
        "    # Parse the response as JSON\n",
        "    data = response.json()\n",
        "\n",
        "    # Convert the JSON data to a Pandas DataFrame\n",
        "    df = pd.DataFrame(data)\n",
        "\n",
        "    # Perform further operations with the DataFrame\n",
        "    # For example, you can print the DataFrame\n",
        "    # print(df)\n",
        "else:\n",
        "    print(\"Error:\", response.status_code)\n",
        "\n",
        "df.head()"
      ],
      "metadata": {
        "colab": {
          "base_uri": "https://localhost:8080/",
          "height": 384
        },
        "id": "9mcOi_nhCwce",
        "outputId": "d804ecbe-88f7-43bf-fede-4be6ec345472"
      },
      "execution_count": null,
      "outputs": [
        {
          "output_type": "execute_result",
          "data": {
            "text/plain": [
              "                latitude  longitude  generationtime_ms  utc_offset_seconds  \\\n",
              "time               52.52  13.419998           0.332952                   0   \n",
              "temperature_2m     52.52  13.419998           0.332952                   0   \n",
              "\n",
              "               timezone timezone_abbreviation  elevation hourly_units  \\\n",
              "time                GMT                   GMT       38.0      iso8601   \n",
              "temperature_2m      GMT                   GMT       38.0           °C   \n",
              "\n",
              "                                                           hourly  \n",
              "time            [2023-06-08T00:00, 2023-06-08T01:00, 2023-06-0...  \n",
              "temperature_2m  [18.6, 18.1, 17.5, 16.6, 16.7, 17.8, 19.6, 21....  "
            ],
            "text/html": [
              "\n",
              "  <div id=\"df-23034f1b-16bb-4ef3-8f84-1f81729ae8e9\">\n",
              "    <div class=\"colab-df-container\">\n",
              "      <div>\n",
              "<style scoped>\n",
              "    .dataframe tbody tr th:only-of-type {\n",
              "        vertical-align: middle;\n",
              "    }\n",
              "\n",
              "    .dataframe tbody tr th {\n",
              "        vertical-align: top;\n",
              "    }\n",
              "\n",
              "    .dataframe thead th {\n",
              "        text-align: right;\n",
              "    }\n",
              "</style>\n",
              "<table border=\"1\" class=\"dataframe\">\n",
              "  <thead>\n",
              "    <tr style=\"text-align: right;\">\n",
              "      <th></th>\n",
              "      <th>latitude</th>\n",
              "      <th>longitude</th>\n",
              "      <th>generationtime_ms</th>\n",
              "      <th>utc_offset_seconds</th>\n",
              "      <th>timezone</th>\n",
              "      <th>timezone_abbreviation</th>\n",
              "      <th>elevation</th>\n",
              "      <th>hourly_units</th>\n",
              "      <th>hourly</th>\n",
              "    </tr>\n",
              "  </thead>\n",
              "  <tbody>\n",
              "    <tr>\n",
              "      <th>time</th>\n",
              "      <td>52.52</td>\n",
              "      <td>13.419998</td>\n",
              "      <td>0.332952</td>\n",
              "      <td>0</td>\n",
              "      <td>GMT</td>\n",
              "      <td>GMT</td>\n",
              "      <td>38.0</td>\n",
              "      <td>iso8601</td>\n",
              "      <td>[2023-06-08T00:00, 2023-06-08T01:00, 2023-06-0...</td>\n",
              "    </tr>\n",
              "    <tr>\n",
              "      <th>temperature_2m</th>\n",
              "      <td>52.52</td>\n",
              "      <td>13.419998</td>\n",
              "      <td>0.332952</td>\n",
              "      <td>0</td>\n",
              "      <td>GMT</td>\n",
              "      <td>GMT</td>\n",
              "      <td>38.0</td>\n",
              "      <td>°C</td>\n",
              "      <td>[18.6, 18.1, 17.5, 16.6, 16.7, 17.8, 19.6, 21....</td>\n",
              "    </tr>\n",
              "  </tbody>\n",
              "</table>\n",
              "</div>\n",
              "      <button class=\"colab-df-convert\" onclick=\"convertToInteractive('df-23034f1b-16bb-4ef3-8f84-1f81729ae8e9')\"\n",
              "              title=\"Convert this dataframe to an interactive table.\"\n",
              "              style=\"display:none;\">\n",
              "        \n",
              "  <svg xmlns=\"http://www.w3.org/2000/svg\" height=\"24px\"viewBox=\"0 0 24 24\"\n",
              "       width=\"24px\">\n",
              "    <path d=\"M0 0h24v24H0V0z\" fill=\"none\"/>\n",
              "    <path d=\"M18.56 5.44l.94 2.06.94-2.06 2.06-.94-2.06-.94-.94-2.06-.94 2.06-2.06.94zm-11 1L8.5 8.5l.94-2.06 2.06-.94-2.06-.94L8.5 2.5l-.94 2.06-2.06.94zm10 10l.94 2.06.94-2.06 2.06-.94-2.06-.94-.94-2.06-.94 2.06-2.06.94z\"/><path d=\"M17.41 7.96l-1.37-1.37c-.4-.4-.92-.59-1.43-.59-.52 0-1.04.2-1.43.59L10.3 9.45l-7.72 7.72c-.78.78-.78 2.05 0 2.83L4 21.41c.39.39.9.59 1.41.59.51 0 1.02-.2 1.41-.59l7.78-7.78 2.81-2.81c.8-.78.8-2.07 0-2.86zM5.41 20L4 18.59l7.72-7.72 1.47 1.35L5.41 20z\"/>\n",
              "  </svg>\n",
              "      </button>\n",
              "      \n",
              "  <style>\n",
              "    .colab-df-container {\n",
              "      display:flex;\n",
              "      flex-wrap:wrap;\n",
              "      gap: 12px;\n",
              "    }\n",
              "\n",
              "    .colab-df-convert {\n",
              "      background-color: #E8F0FE;\n",
              "      border: none;\n",
              "      border-radius: 50%;\n",
              "      cursor: pointer;\n",
              "      display: none;\n",
              "      fill: #1967D2;\n",
              "      height: 32px;\n",
              "      padding: 0 0 0 0;\n",
              "      width: 32px;\n",
              "    }\n",
              "\n",
              "    .colab-df-convert:hover {\n",
              "      background-color: #E2EBFA;\n",
              "      box-shadow: 0px 1px 2px rgba(60, 64, 67, 0.3), 0px 1px 3px 1px rgba(60, 64, 67, 0.15);\n",
              "      fill: #174EA6;\n",
              "    }\n",
              "\n",
              "    [theme=dark] .colab-df-convert {\n",
              "      background-color: #3B4455;\n",
              "      fill: #D2E3FC;\n",
              "    }\n",
              "\n",
              "    [theme=dark] .colab-df-convert:hover {\n",
              "      background-color: #434B5C;\n",
              "      box-shadow: 0px 1px 3px 1px rgba(0, 0, 0, 0.15);\n",
              "      filter: drop-shadow(0px 1px 2px rgba(0, 0, 0, 0.3));\n",
              "      fill: #FFFFFF;\n",
              "    }\n",
              "  </style>\n",
              "\n",
              "      <script>\n",
              "        const buttonEl =\n",
              "          document.querySelector('#df-23034f1b-16bb-4ef3-8f84-1f81729ae8e9 button.colab-df-convert');\n",
              "        buttonEl.style.display =\n",
              "          google.colab.kernel.accessAllowed ? 'block' : 'none';\n",
              "\n",
              "        async function convertToInteractive(key) {\n",
              "          const element = document.querySelector('#df-23034f1b-16bb-4ef3-8f84-1f81729ae8e9');\n",
              "          const dataTable =\n",
              "            await google.colab.kernel.invokeFunction('convertToInteractive',\n",
              "                                                     [key], {});\n",
              "          if (!dataTable) return;\n",
              "\n",
              "          const docLinkHtml = 'Like what you see? Visit the ' +\n",
              "            '<a target=\"_blank\" href=https://colab.research.google.com/notebooks/data_table.ipynb>data table notebook</a>'\n",
              "            + ' to learn more about interactive tables.';\n",
              "          element.innerHTML = '';\n",
              "          dataTable['output_type'] = 'display_data';\n",
              "          await google.colab.output.renderOutput(dataTable, element);\n",
              "          const docLink = document.createElement('div');\n",
              "          docLink.innerHTML = docLinkHtml;\n",
              "          element.appendChild(docLink);\n",
              "        }\n",
              "      </script>\n",
              "    </div>\n",
              "  </div>\n",
              "  "
            ]
          },
          "metadata": {},
          "execution_count": 68
        }
      ]
    },
    {
      "cell_type": "code",
      "source": [
        "import requests\n",
        "import pandas as pd\n",
        "\n",
        "# # Make the API request\n",
        "url = \"https://api.open-meteo.com/v1/forecast?latitude=52.52&longitude=13.41&hourly=temperature_2m&forecast_days=1\"  # Replace with the actual API URL\n",
        "response = requests.get(url)\n",
        "\n",
        "# Check if the request was successful (status code 200)\n",
        "if response.status_code == 200:\n",
        "    # Parse the response as JSON\n",
        "    data = response.json()\n",
        "\n",
        "    # Convert the JSON data to a Pandas DataFrame\n",
        "    df = pd.DataFrame(data)\n",
        "\n",
        "    # Perform further operations with the DataFrame\n",
        "    # For example, you can print the DataFrame\n",
        "    # print(df)\n",
        "else:\n",
        "    print(\"Error:\", response.status_code)\n",
        "\n",
        "df.head()"
      ],
      "metadata": {
        "colab": {
          "base_uri": "https://localhost:8080/",
          "height": 384
        },
        "id": "A6kZ6i--Djyw",
        "outputId": "4d9d69f0-72c0-4b6c-8d31-db70f3465600"
      },
      "execution_count": null,
      "outputs": [
        {
          "output_type": "execute_result",
          "data": {
            "text/plain": [
              "                latitude  longitude  generationtime_ms  utc_offset_seconds  \\\n",
              "time               52.52  13.419998           0.339985                   0   \n",
              "temperature_2m     52.52  13.419998           0.339985                   0   \n",
              "\n",
              "               timezone timezone_abbreviation  elevation hourly_units  \\\n",
              "time                GMT                   GMT       38.0      iso8601   \n",
              "temperature_2m      GMT                   GMT       38.0           °C   \n",
              "\n",
              "                                                           hourly  \n",
              "time            [2023-06-08T00:00, 2023-06-08T01:00, 2023-06-0...  \n",
              "temperature_2m  [18.6, 18.1, 17.5, 16.6, 16.7, 17.8, 19.6, 21....  "
            ],
            "text/html": [
              "\n",
              "  <div id=\"df-a04be969-b13c-4939-b739-1ab88c1c9a45\">\n",
              "    <div class=\"colab-df-container\">\n",
              "      <div>\n",
              "<style scoped>\n",
              "    .dataframe tbody tr th:only-of-type {\n",
              "        vertical-align: middle;\n",
              "    }\n",
              "\n",
              "    .dataframe tbody tr th {\n",
              "        vertical-align: top;\n",
              "    }\n",
              "\n",
              "    .dataframe thead th {\n",
              "        text-align: right;\n",
              "    }\n",
              "</style>\n",
              "<table border=\"1\" class=\"dataframe\">\n",
              "  <thead>\n",
              "    <tr style=\"text-align: right;\">\n",
              "      <th></th>\n",
              "      <th>latitude</th>\n",
              "      <th>longitude</th>\n",
              "      <th>generationtime_ms</th>\n",
              "      <th>utc_offset_seconds</th>\n",
              "      <th>timezone</th>\n",
              "      <th>timezone_abbreviation</th>\n",
              "      <th>elevation</th>\n",
              "      <th>hourly_units</th>\n",
              "      <th>hourly</th>\n",
              "    </tr>\n",
              "  </thead>\n",
              "  <tbody>\n",
              "    <tr>\n",
              "      <th>time</th>\n",
              "      <td>52.52</td>\n",
              "      <td>13.419998</td>\n",
              "      <td>0.339985</td>\n",
              "      <td>0</td>\n",
              "      <td>GMT</td>\n",
              "      <td>GMT</td>\n",
              "      <td>38.0</td>\n",
              "      <td>iso8601</td>\n",
              "      <td>[2023-06-08T00:00, 2023-06-08T01:00, 2023-06-0...</td>\n",
              "    </tr>\n",
              "    <tr>\n",
              "      <th>temperature_2m</th>\n",
              "      <td>52.52</td>\n",
              "      <td>13.419998</td>\n",
              "      <td>0.339985</td>\n",
              "      <td>0</td>\n",
              "      <td>GMT</td>\n",
              "      <td>GMT</td>\n",
              "      <td>38.0</td>\n",
              "      <td>°C</td>\n",
              "      <td>[18.6, 18.1, 17.5, 16.6, 16.7, 17.8, 19.6, 21....</td>\n",
              "    </tr>\n",
              "  </tbody>\n",
              "</table>\n",
              "</div>\n",
              "      <button class=\"colab-df-convert\" onclick=\"convertToInteractive('df-a04be969-b13c-4939-b739-1ab88c1c9a45')\"\n",
              "              title=\"Convert this dataframe to an interactive table.\"\n",
              "              style=\"display:none;\">\n",
              "        \n",
              "  <svg xmlns=\"http://www.w3.org/2000/svg\" height=\"24px\"viewBox=\"0 0 24 24\"\n",
              "       width=\"24px\">\n",
              "    <path d=\"M0 0h24v24H0V0z\" fill=\"none\"/>\n",
              "    <path d=\"M18.56 5.44l.94 2.06.94-2.06 2.06-.94-2.06-.94-.94-2.06-.94 2.06-2.06.94zm-11 1L8.5 8.5l.94-2.06 2.06-.94-2.06-.94L8.5 2.5l-.94 2.06-2.06.94zm10 10l.94 2.06.94-2.06 2.06-.94-2.06-.94-.94-2.06-.94 2.06-2.06.94z\"/><path d=\"M17.41 7.96l-1.37-1.37c-.4-.4-.92-.59-1.43-.59-.52 0-1.04.2-1.43.59L10.3 9.45l-7.72 7.72c-.78.78-.78 2.05 0 2.83L4 21.41c.39.39.9.59 1.41.59.51 0 1.02-.2 1.41-.59l7.78-7.78 2.81-2.81c.8-.78.8-2.07 0-2.86zM5.41 20L4 18.59l7.72-7.72 1.47 1.35L5.41 20z\"/>\n",
              "  </svg>\n",
              "      </button>\n",
              "      \n",
              "  <style>\n",
              "    .colab-df-container {\n",
              "      display:flex;\n",
              "      flex-wrap:wrap;\n",
              "      gap: 12px;\n",
              "    }\n",
              "\n",
              "    .colab-df-convert {\n",
              "      background-color: #E8F0FE;\n",
              "      border: none;\n",
              "      border-radius: 50%;\n",
              "      cursor: pointer;\n",
              "      display: none;\n",
              "      fill: #1967D2;\n",
              "      height: 32px;\n",
              "      padding: 0 0 0 0;\n",
              "      width: 32px;\n",
              "    }\n",
              "\n",
              "    .colab-df-convert:hover {\n",
              "      background-color: #E2EBFA;\n",
              "      box-shadow: 0px 1px 2px rgba(60, 64, 67, 0.3), 0px 1px 3px 1px rgba(60, 64, 67, 0.15);\n",
              "      fill: #174EA6;\n",
              "    }\n",
              "\n",
              "    [theme=dark] .colab-df-convert {\n",
              "      background-color: #3B4455;\n",
              "      fill: #D2E3FC;\n",
              "    }\n",
              "\n",
              "    [theme=dark] .colab-df-convert:hover {\n",
              "      background-color: #434B5C;\n",
              "      box-shadow: 0px 1px 3px 1px rgba(0, 0, 0, 0.15);\n",
              "      filter: drop-shadow(0px 1px 2px rgba(0, 0, 0, 0.3));\n",
              "      fill: #FFFFFF;\n",
              "    }\n",
              "  </style>\n",
              "\n",
              "      <script>\n",
              "        const buttonEl =\n",
              "          document.querySelector('#df-a04be969-b13c-4939-b739-1ab88c1c9a45 button.colab-df-convert');\n",
              "        buttonEl.style.display =\n",
              "          google.colab.kernel.accessAllowed ? 'block' : 'none';\n",
              "\n",
              "        async function convertToInteractive(key) {\n",
              "          const element = document.querySelector('#df-a04be969-b13c-4939-b739-1ab88c1c9a45');\n",
              "          const dataTable =\n",
              "            await google.colab.kernel.invokeFunction('convertToInteractive',\n",
              "                                                     [key], {});\n",
              "          if (!dataTable) return;\n",
              "\n",
              "          const docLinkHtml = 'Like what you see? Visit the ' +\n",
              "            '<a target=\"_blank\" href=https://colab.research.google.com/notebooks/data_table.ipynb>data table notebook</a>'\n",
              "            + ' to learn more about interactive tables.';\n",
              "          element.innerHTML = '';\n",
              "          dataTable['output_type'] = 'display_data';\n",
              "          await google.colab.output.renderOutput(dataTable, element);\n",
              "          const docLink = document.createElement('div');\n",
              "          docLink.innerHTML = docLinkHtml;\n",
              "          element.appendChild(docLink);\n",
              "        }\n",
              "      </script>\n",
              "    </div>\n",
              "  </div>\n",
              "  "
            ]
          },
          "metadata": {},
          "execution_count": 69
        }
      ]
    },
    {
      "cell_type": "code",
      "source": [
        "df.loc['time', 'hourly']"
      ],
      "metadata": {
        "colab": {
          "base_uri": "https://localhost:8080/"
        },
        "id": "TsaJyQ9WEiTG",
        "outputId": "c7fb06b3-ad8e-42c7-a9fd-9ff97734b021"
      },
      "execution_count": null,
      "outputs": [
        {
          "output_type": "execute_result",
          "data": {
            "text/plain": [
              "['2023-06-08T00:00',\n",
              " '2023-06-08T01:00',\n",
              " '2023-06-08T02:00',\n",
              " '2023-06-08T03:00',\n",
              " '2023-06-08T04:00',\n",
              " '2023-06-08T05:00',\n",
              " '2023-06-08T06:00',\n",
              " '2023-06-08T07:00',\n",
              " '2023-06-08T08:00',\n",
              " '2023-06-08T09:00',\n",
              " '2023-06-08T10:00',\n",
              " '2023-06-08T11:00',\n",
              " '2023-06-08T12:00',\n",
              " '2023-06-08T13:00',\n",
              " '2023-06-08T14:00',\n",
              " '2023-06-08T15:00',\n",
              " '2023-06-08T16:00',\n",
              " '2023-06-08T17:00',\n",
              " '2023-06-08T18:00',\n",
              " '2023-06-08T19:00',\n",
              " '2023-06-08T20:00',\n",
              " '2023-06-08T21:00',\n",
              " '2023-06-08T22:00',\n",
              " '2023-06-08T23:00']"
            ]
          },
          "metadata": {},
          "execution_count": 70
        }
      ]
    },
    {
      "cell_type": "code",
      "source": [
        "df.loc['temperature_2m', 'hourly']"
      ],
      "metadata": {
        "colab": {
          "base_uri": "https://localhost:8080/"
        },
        "id": "eUNGntCAEtWV",
        "outputId": "0d35e39e-e420-4f80-a8ba-03d72533265e"
      },
      "execution_count": null,
      "outputs": [
        {
          "output_type": "execute_result",
          "data": {
            "text/plain": [
              "[18.6,\n",
              " 18.1,\n",
              " 17.5,\n",
              " 16.6,\n",
              " 16.7,\n",
              " 17.8,\n",
              " 19.6,\n",
              " 21.9,\n",
              " 24.0,\n",
              " 26.1,\n",
              " 27.0,\n",
              " 27.8,\n",
              " 28.7,\n",
              " 29.1,\n",
              " 29.2,\n",
              " 29.0,\n",
              " 28.5,\n",
              " 27.7,\n",
              " 26.8,\n",
              " 25.2,\n",
              " 23.4,\n",
              " 21.5,\n",
              " 20.4,\n",
              " 19.3]"
            ]
          },
          "metadata": {},
          "execution_count": 71
        }
      ]
    },
    {
      "cell_type": "code",
      "source": [
        "import matplotlib.pyplot as plt\n",
        "plt.plot(df.loc['time', 'hourly'], df.loc['temperature_2m', 'hourly'])"
      ],
      "metadata": {
        "colab": {
          "base_uri": "https://localhost:8080/",
          "height": 447
        },
        "id": "ehm783RwEwMv",
        "outputId": "e9ef60a7-20f5-4172-df67-29c5f4cf79ce"
      },
      "execution_count": null,
      "outputs": [
        {
          "output_type": "execute_result",
          "data": {
            "text/plain": [
              "[<matplotlib.lines.Line2D at 0x7f0dbef55780>]"
            ]
          },
          "metadata": {},
          "execution_count": 72
        },
        {
          "output_type": "display_data",
          "data": {
            "text/plain": [
              "<Figure size 640x480 with 1 Axes>"
            ],
            "image/png": "[encoded data removed]"
          },
          "metadata": {}
        }
      ]
    },
    {
      "cell_type": "markdown",
      "source": [
        "2. Passing arguments as in the request body"
      ],
      "metadata": {
        "id": "yol-HRqFxYBC"
      }
    },
    {
      "cell_type": "code",
      "source": [
        "import requests\n",
        "\n",
        "# Passing arguments in the request body\n",
        "payload = {'param1': value1, 'param2': value2}\n",
        "response = requests.post('https://api.example.com/api-endpoint', json=payload)\n"
      ],
      "metadata": {
        "id": "dw8-3XRzxbTR"
      },
      "execution_count": null,
      "outputs": []
    },
    {
      "cell_type": "markdown",
      "source": [
        "3. Passing arguments in the request headers"
      ],
      "metadata": {
        "id": "71do_K2Gxkq5"
      }
    },
    {
      "cell_type": "code",
      "source": [
        "import requests\n",
        "\n",
        "# Passing arguments in the request headers\n",
        "headers = {'Authorization': 'Bearer your_token'}\n",
        "response = requests.get('https://api.example.com/api-endpoint', headers=headers)\n"
      ],
      "metadata": {
        "id": "FTacf_-Txnxa"
      },
      "execution_count": null,
      "outputs": []
    },
    {
      "cell_type": "markdown",
      "source": [
        "These examples demonstrate different ways to pass arguments to RESTful APIs. However, the specific method and format of passing arguments may vary depending on the API documentation and requirements. Make sure to consult the API documentation for accurate usage instructions."
      ],
      "metadata": {
        "id": "DFkc39Pvxuks"
      }
    },
    {
      "cell_type": "markdown",
      "source": [
        "# Example APIs"
      ],
      "metadata": {
        "id": "IOxlxUJv7mVt"
      }
    },
    {
      "cell_type": "code",
      "source": [
        "import requests\n",
        "requests.get(\"https://randomuser.me/api/\")"
      ],
      "metadata": {
        "colab": {
          "base_uri": "https://localhost:8080/"
        },
        "id": "kFxBqmQp81MV",
        "outputId": "f6c8404c-28fb-4f17-add6-135fb48329b2"
      },
      "execution_count": null,
      "outputs": [
        {
          "output_type": "execute_result",
          "data": {
            "text/plain": [
              "<Response [200]>"
            ]
          },
          "metadata": {},
          "execution_count": 73
        }
      ]
    },
    {
      "cell_type": "code",
      "source": [
        "# to see the actual data\n",
        "response = requests.get(\"https://api.randomuser.me\")\n",
        "response.text"
      ],
      "metadata": {
        "colab": {
          "base_uri": "https://localhost:8080/",
          "height": 157
        },
        "id": "sORDhB0m81ti",
        "outputId": "b225ce08-2c0d-474a-b451-976d1397e949"
      },
      "execution_count": null,
      "outputs": [
        {
          "output_type": "execute_result",
          "data": {
            "text/plain": [
              "'{\"results\":[{\"gender\":\"female\",\"name\":{\"title\":\"Mrs\",\"first\":\"Mestan\",\"last\":\"Yıldırım\"},\"location\":{\"street\":{\"number\":7459,\"name\":\"Doktorlar Cd\"},\"city\":\"Şırnak\",\"state\":\"Çankırı\",\"country\":\"Turkey\",\"postcode\":55359,\"coordinates\":{\"latitude\":\"64.7083\",\"longitude\":\"7.3448\"},\"timezone\":{\"offset\":\"+3:00\",\"description\":\"Baghdad, Riyadh, Moscow, St. Petersburg\"}},\"email\":\"mestan.yildirim@example.com\",\"login\":{\"uuid\":\"9e78b2e3-85c3-4573-9fc5-077a664c8421\",\"username\":\"greenbear530\",\"password\":\"rugby1\",\"salt\":\"vWnvCmw8\",\"md5\":\"196db08307b4f00c5f49bbe084cf8cc1\",\"sha1\":\"fc76dc2f651f2c3fb6b4c925dcfdd42a914862b0\",\"sha256\":\"8d2a266335a6a943887e132ab2ac943727faed266544a43234334053776d5d8c\"},\"dob\":{\"date\":\"1971-12-07T04:30:05.526Z\",\"age\":51},\"registered\":{\"date\":\"2015-08-06T21:09:56.685Z\",\"age\":7},\"phone\":\"(427)-521-1634\",\"cell\":\"(027)-452-4539\",\"id\":{\"name\":\"\",\"value\":null},\"picture\":{\"large\":\"https://randomuser.me/api/portraits/women/40.jpg\",\"medium\":\"https://randomuser.me/api/portraits/med/women/40.jpg\",\"thumbnail\":\"https://randomuser.me/api/portraits/thumb/women/40.jpg\"},\"nat\":\"TR\"}],\"info\":{\"seed\":\"d56db51a684ae93e\",\"results\":1,\"page\":1,\"version\":\"1.4\"}}'"
            ],
            "application/vnd.google.colaboratory.intrinsic+json": {
              "type": "string"
            }
          },
          "metadata": {},
          "execution_count": 75
        }
      ]
    },
    {
      "cell_type": "markdown",
      "source": [
        "You managed to fetch your first random user from the Random User Generator API using Python and the requests library."
      ],
      "metadata": {
        "id": "V8HCqItP9TJ9"
      }
    },
    {
      "cell_type": "markdown",
      "source": [
        "## Base URLs\n",
        "The first thing you need to know for consuming an API is the API URL, typically called the base URL. The base URL structure is no different from the URLs you use for browsing Google, YouTube, or Facebook, though it usually contains the word api. This is not mandatory, just more of a rule of thumb."
      ],
      "metadata": {
        "id": "7c91ONaA99p0"
      }
    },
    {
      "cell_type": "code",
      "source": [
        "import requests\n",
        "response = requests.get(\"https://api.thedogapi.com/\")\n",
        "response.text"
      ],
      "metadata": {
        "colab": {
          "base_uri": "https://localhost:8080/",
          "height": 36
        },
        "id": "YvqDEZIA9MIW",
        "outputId": "e46a94bb-ee6e-4c2d-c4ed-d7db52b89ab9"
      },
      "execution_count": null,
      "outputs": [
        {
          "output_type": "execute_result",
          "data": {
            "text/plain": [
              "'{\"message\":\"The Dog API\",\"version\":\"1.2.0\"}'"
            ],
            "application/vnd.google.colaboratory.intrinsic+json": {
              "type": "string"
            }
          },
          "metadata": {},
          "execution_count": 76
        }
      ]
    },
    {
      "cell_type": "markdown",
      "source": [
        "This is typically used for very basic information about an API, not the real data"
      ],
      "metadata": {
        "id": "TWDzTvco_EEc"
      }
    },
    {
      "cell_type": "markdown",
      "source": [
        "* Requests and Responses"
      ],
      "metadata": {
        "id": "H97D3kVj_eAS"
      }
    },
    {
      "cell_type": "markdown",
      "source": [
        "All interactions between a client—in this case your Python console—and an API are split into a request and a response:\n",
        "\n",
        "* Requests: \n",
        "> contain relevant data regarding your API request call, such as the base URL, the endpoint, the method used, the headers, and so on.\n",
        "* Responses:  \n",
        "> contain relevant data returned by the server, including the data or content, the status code, and the headers."
      ],
      "metadata": {
        "id": "ooSufm-TANoJ"
      }
    },
    {
      "cell_type": "markdown",
      "source": [
        "Let's check what is inside the Request objects"
      ],
      "metadata": {
        "id": "KRjaJexpAJB7"
      }
    },
    {
      "cell_type": "code",
      "source": [
        "response = requests.get(\"https://api.thedogapi.com/v1/breeds\")\n",
        "response"
      ],
      "metadata": {
        "colab": {
          "base_uri": "https://localhost:8080/"
        },
        "id": "uiwBcKtu_f7J",
        "outputId": "e8d01e27-8240-4156-8056-4c5e152e2453"
      },
      "execution_count": null,
      "outputs": [
        {
          "output_type": "execute_result",
          "data": {
            "text/plain": [
              "<Response [200]>"
            ]
          },
          "metadata": {},
          "execution_count": 77
        }
      ]
    },
    {
      "cell_type": "code",
      "source": [
        "response.request"
      ],
      "metadata": {
        "colab": {
          "base_uri": "https://localhost:8080/"
        },
        "id": "W6J-4bCe_hiP",
        "outputId": "e1ba0251-fd71-4ebd-b8fb-80a54eb43138"
      },
      "execution_count": null,
      "outputs": [
        {
          "output_type": "execute_result",
          "data": {
            "text/plain": [
              "<PreparedRequest [GET]>"
            ]
          },
          "metadata": {},
          "execution_count": 78
        }
      ]
    },
    {
      "cell_type": "code",
      "source": [
        "response.request.url,\\\n",
        "response.request.path_url,\\\n",
        "response.request.method, \\\n",
        "response.request.headers"
      ],
      "metadata": {
        "colab": {
          "base_uri": "https://localhost:8080/"
        },
        "id": "PG7Rv4DX_jWt",
        "outputId": "4a93f717-574e-4fcc-883f-647c1934b565"
      },
      "execution_count": null,
      "outputs": [
        {
          "output_type": "execute_result",
          "data": {
            "text/plain": [
              "('https://api.thedogapi.com/v1/breeds',\n",
              " '/v1/breeds',\n",
              " 'GET',\n",
              " {'User-Agent': 'python-requests/2.27.1', 'Accept-Encoding': 'gzip, deflate', 'Accept': '*/*', 'Connection': 'keep-alive'})"
            ]
          },
          "metadata": {},
          "execution_count": 52
        }
      ]
    },
    {
      "cell_type": "code",
      "source": [
        "response.text"
      ],
      "metadata": {
        "colab": {
          "base_uri": "https://localhost:8080/",
          "height": 157
        },
        "id": "pN3RITor_nq2",
        "outputId": "048ebde3-52b4-4e59-b43e-54e989cdf2e8"
      },
      "execution_count": null,
      "outputs": [
        {
          "output_type": "execute_result",
          "data": {
            "text/plain": [
              "'[{\"weight\":{\"imperial\":\"6 - 13\",\"metric\":\"3 - 6\"},\"height\":{\"imperial\":\"9 - 11.5\",\"metric\":\"23 - 29\"},\"id\":1,\"name\":\"Affenpinscher\",\"bred_for\":\"Small rodent hunting, lapdog\",\"breed_group\":\"Toy\",\"life_span\":\"10 - 12 years\",\"temperament\":\"Stubborn, Curious, Playful, Adventurous, Active, Fun-loving\",\"origin\":\"Germany, France\",\"reference_image_id\":\"BJa4kxc4X\",\"image\":{\"id\":\"BJa4kxc4X\",\"width\":1600,\"height\":1199,\"url\":\"https://cdn2.thedogapi.com/images/BJa4kxc4X.jpg\"}},{\"weight\":{\"imperial\":\"50 - 60\",\"metric\":\"23 - 27\"},\"height\":{\"imperial\":\"25 - 27\",\"metric\":\"64 - 69\"},\"id\":2,\"name\":\"Afghan Hound\",\"country_code\":\"AG\",\"bred_for\":\"Coursing and hunting\",\"breed_group\":\"Hound\",\"life_span\":\"10 - 13 years\",\"temperament\":\"Aloof, Clownish, Dignified, Independent, Happy\",\"origin\":\"Afghanistan, Iran, Pakistan\",\"reference_image_id\":\"hMyT4CDXR\",\"image\":{\"id\":\"hMyT4CDXR\",\"width\":606,\"height\":380,\"url\":\"https://cdn2.thedogapi.com/images/hMyT4CDXR.jpg\"}},{\"weight\":{\"imperial\":\"44 - 66\",\"metric\":\"20 - 30\"},\"height\":{\"imperial\":\"30\",\"metric\":\"76\"},\"id\":3,\"name\":\"African Hunting Dog\",\"bred_for\":\"A wild pack animal\",\"life_span\":\"11 years\",\"temperament\":\"Wild, Hardworking, Dutiful\",\"origin\":\"\",\"reference_image_id\":\"rkiByec47\",\"image\":{\"id\":\"rkiByec47\",\"width\":500,\"height\":335,\"url\":\"https://cdn2.thedogapi.com/images/rkiByec47.jpg\"}},{\"weight\":{\"imperial\":\"40 - 65\",\"metric\":\"18 - 29\"},\"height\":{\"imperial\":\"21 - 23\",\"metric\":\"53 - 58\"},\"id\":4,\"name\":\"Airedale Terrier\",\"bred_for\":\"Badger, otter hunting\",\"breed_group\":\"Terrier\",\"life_span\":\"10 - 13 years\",\"temperament\":\"Outgoing, Friendly, Alert, Confident, Intelligent, Courageous\",\"origin\":\"United Kingdom, England\",\"reference_image_id\":\"1-7cgoZSh\",\"image\":{\"id\":\"1-7cgoZSh\",\"width\":645,\"height\":430,\"url\":\"https://cdn2.thedogapi.com/images/1-7cgoZSh.jpg\"}},{\"weight\":{\"imperial\":\"90 - 120\",\"metric\":\"41 - 54\"},\"height\":{\"imperial\":\"28 - 34\",\"metric\":\"71 - 86\"},\"id\":5,\"name\":\"Akbash Dog\",\"bred_for\":\"Sheep guarding\",\"breed_group\":\"Working\",\"life_span\":\"10 - 12 years\",\"temperament\":\"Loyal, Independent, Intelligent, Brave\",\"origin\":\"\",\"reference_image_id\":\"26pHT3Qk7\",\"image\":{\"id\":\"26pHT3Qk7\",\"width\":600,\"height\":471,\"url\":\"https://cdn2.thedogapi.com/images/26pHT3Qk7.jpg\"}},{\"weight\":{\"imperial\":\"65 - 115\",\"metric\":\"29 - 52\"},\"height\":{\"imperial\":\"24 - 28\",\"metric\":\"61 - 71\"},\"id\":6,\"name\":\"Akita\",\"bred_for\":\"Hunting bears\",\"breed_group\":\"Working\",\"life_span\":\"10 - 14 years\",\"temperament\":\"Docile, Alert, Responsive, Dignified, Composed, Friendly, Receptive, Faithful, Courageous\",\"reference_image_id\":\"BFRYBufpm\",\"image\":{\"id\":\"BFRYBufpm\",\"width\":1280,\"height\":853,\"url\":\"https://cdn2.thedogapi.com/images/BFRYBufpm.jpg\"}},{\"weight\":{\"imperial\":\"55 - 90\",\"metric\":\"25 - 41\"},\"height\":{\"imperial\":\"18 - 24\",\"metric\":\"46 - 61\"},\"id\":7,\"name\":\"Alapaha Blue Blood Bulldog\",\"description\":\"The Alapaha Blue Blood Bulldog is a well-developed, exaggerated bulldog with a broad head and natural drop ears. The prominent muzzle is covered by loose upper lips. The prominent eyes are set well apart. The Alapaha\\'s coat is relatively short and fairly stiff. Preferred colors are blue merle, brown merle, or red merle all trimmed in white or chocolate and white. Also preferred are the glass eyes (blue) or marble eyes (brown and blue mixed in a single eye). The ears and tail are never trimmed or docked. The body is sturdy and very muscular. The well-muscled hips are narrower than the chest. The straight back is as long as the dog is high at the shoulders. The dewclaws are never removed and the feet are cat-like.\",\"bred_for\":\"Guarding\",\"breed_group\":\"Mixed\",\"life_span\":\"12 - 13 years\",\"history\":\"\",\"temperament\":\"Loving, Protective, Trainable, Dutiful, Responsible\",\"reference_image_id\":\"33mJ-V3RX\",\"image\":{\"id\":\"33mJ-V3RX\",\"width\":1828,\"height\":2065,\"url\":\"https://cdn2.thedogapi.com/images/33mJ-V3RX.jpg\"}},{\"weight\":{\"imperial\":\"38 - 50\",\"metric\":\"17 - 23\"},\"height\":{\"imperial\":\"23 - 26\",\"metric\":\"58 - 66\"},\"id\":8,\"name\":\"Alaskan Husky\",\"bred_for\":\"Sled pulling\",\"breed_group\":\"Mixed\",\"life_span\":\"10 - 13 years\",\"temperament\":\"Friendly, Energetic, Loyal, Gentle, Confident\",\"reference_image_id\":\"-HgpNnGXl\",\"image\":{\"id\":\"-HgpNnGXl\",\"width\":500,\"height\":500,\"url\":\"https://cdn2.thedogapi.com/images/-HgpNnGXl.jpg\"}},{\"weight\":{\"imperial\":\"65 - 100\",\"metric\":\"29 - 45\"},\"height\":{\"imperial\":\"23 - 25\",\"metric\":\"58 - 64\"},\"id\":9,\"name\":\"Alaskan Malamute\",\"bred_for\":\"Hauling heavy freight, Sled pulling\",\"breed_group\":\"Working\",\"life_span\":\"12 - 15 years\",\"temperament\":\"Friendly, Affectionate, Devoted, Loyal, Dignified, Playful\",\"reference_image_id\":\"dW5UucTIW\",\"image\":{\"id\":\"dW5UucTIW\",\"width\":1023,\"height\":769,\"url\":\"https://cdn2.thedogapi.com/images/dW5UucTIW.jpg\"}},{\"weight\":{\"imperial\":\"60 - 120\",\"metric\":\"27 - 54\"},\"height\":{\"imperial\":\"22 - 27\",\"metric\":\"56 - 69\"},\"id\":10,\"name\":\"American Bulldog\",\"breed_group\":\"Working\",\"life_span\":\"10 - 12 years\",\"temperament\":\"Friendly, Assertive, Energetic, Loyal, Gentle, Confident, Dominant\",\"reference_image_id\":\"pk1AAdloG\",\"image\":{\"id\":\"pk1AAdloG\",\"width\":1669,\"height\":1377,\"url\":\"https://cdn2.thedogapi.com/images/pk1AAdloG.jpg\"}},{\"weight\":{\"imperial\":\"30 - 150\",\"metric\":\"14 - 68\"},\"height\":{\"imperial\":\"14 - 17\",\"metric\":\"36 - 43\"},\"id\":11,\"name\":\"American Bully\",\"country_code\":\"US\",\"bred_for\":\"Family companion dog\",\"breed_group\":\"\",\"life_span\":\"8 – 15 years\",\"temperament\":\"Strong Willed, Stubborn, Friendly, Clownish, Affectionate, Loyal, Obedient, Intelligent, Courageous\",\"reference_image_id\":\"sqQJDtbpY\",\"image\":{\"id\":\"sqQJDtbpY\",\"width\":1024,\"height\":683,\"url\":\"https://cdn2.thedogapi.com/images/sqQJDtbpY.jpg\"}},{\"weight\":{\"imperial\":\"20 - 40\",\"metric\":\"9 - 18\"},\"height\":{\"imperial\":\"15 - 19\",\"metric\":\"38 - 48\"},\"id\":12,\"name\":\"American Eskimo Dog\",\"country_code\":\"US\",\"bred_for\":\"Circus performer\",\"breed_group\":\"Non-Sporting\",\"life_span\":\"12 - 15 years\",\"temperament\":\"Friendly, Alert, Reserved, Intelligent, Protective\",\"reference_image_id\":\"Bymjyec4m\",\"image\":{\"id\":\"Bymjyec4m\",\"width\":1000,\"height\":802,\"url\":\"https://cdn2.thedogapi.com/images/Bymjyec4m.jpg\"}},{\"weight\":{\"imperial\":\"7 - 10\",\"metric\":\"3 - 5\"},\"height\":{\"imperial\":\"9 - 12\",\"metric\":\"23 - 30\"},\"id\":13,\"name\":\"American Eskimo Dog (Miniature)\",\"country_code\":\"US\",\"bred_for\":\"Companionship\",\"life_span\":\"13 – 15 years\",\"temperament\":\"Friendly, Alert, Reserved, Intelligent, Protective\",\"reference_image_id\":\"_gn8GLrE6\",\"image\":{\"id\":\"_gn8GLrE6\",\"width\":730,\"height\":487,\"url\":\"https://cdn2.thedogapi.com/images/_gn8GLrE6.jpg\"}},{\"weight\":{\"imperial\":\"65 - 75\",\"metric\":\"29 - 34\"},\"height\":{\"imperial\":\"21 - 28\",\"metric\":\"53 - 71\"},\"id\":14,\"name\":\"American Foxhound\",\"country_code\":\"US\",\"bred_for\":\"Fox hunting, scent hound\",\"breed_group\":\"Hound\",\"life_span\":\"8 - 15 years\",\"temperament\":\"Kind, Sweet-Tempered, Loyal, Independent, Intelligent, Loving\",\"reference_image_id\":\"S14n1x9NQ\",\"image\":{\"id\":\"S14n1x9NQ\",\"width\":3000,\"height\":2400,\"url\":\"https://cdn2.thedogapi.com/images/S14n1x9NQ.jpg\"}},{\"weight\":{\"imperial\":\"30 - 60\",\"metric\":\"14 - 27\"},\"height\":{\"imperial\":\"17 - 21\",\"metric\":\"43 - 53\"},\"id\":15,\"name\":\"American Pit Bull Terrier\",\"country_code\":\"US\",\"bred_for\":\"Fighting\",\"breed_group\":\"Terrier\",\"life_span\":\"10 - 15 years\",\"temperament\":\"Strong Willed, Stubborn, Friendly, Clownish, Affectionate, Loyal, Obedient, Intelligent, Courageous\",\"reference_image_id\":\"HkC31gcNm\",\"image\":{\"id\":\"HkC31gcNm\",\"width\":300,\"height\":244,\"url\":\"https://cdn2.thedogapi.com/images/HkC31gcNm.png\"}},{\"weight\":{\"imperial\":\"50 - 60\",\"metric\":\"23 - 27\"},\"height\":{\"imperial\":\"17 - 19\",\"metric\":\"43 - 48\"},\"id\":16,\"name\":\"American Staffordshire Terrier\",\"country_code\":\"US\",\"bred_for\":\"\",\"breed_group\":\"Terrier\",\"life_span\":\"12 - 15 years\",\"temperament\":\"Tenacious, Friendly, Devoted, Loyal, Attentive, Courageous\",\"reference_image_id\":\"rJIakgc4m\",\"image\":{\"id\":\"rJIakgc4m\",\"width\":357,\"height\":500,\"url\":\"https://cdn2.thedogapi.com/images/rJIakgc4m.jpg\"}},{\"weight\":{\"imperial\":\"25 - 45\",\"metric\":\"11 - 20\"},\"height\":{\"imperial\":\"15 - 18\",\"metric\":\"38 - 46\"},\"id\":17,\"name\":\"American Water Spaniel\",\"country_code\":\"US\",\"bred_for\":\"Bird flushing and retrieving\",\"breed_group\":\"Sporting\",\"life_span\":\"10 - 12 years\",\"temperament\":\"Friendly, Energetic, Obedient, Intelligent, Protective, Trainable\",\"reference_image_id\":\"SkmRJl9VQ\",\"image\":{\"id\":\"SkmRJl9VQ\",\"width\":1600,\"height\":1264,\"url\":\"https://cdn2.thedogapi.com/images/SkmRJl9VQ.jpg\"}},{\"weight\":{\"imperial\":\"80 - 150\",\"metric\":\"36 - 68\"},\"height\":{\"imperial\":\"27 - 29\",\"metric\":\"69 - 74\"},\"id\":18,\"name\":\"Anatolian Shepherd Dog\",\"bred_for\":\"Livestock herding\",\"breed_group\":\"Working\",\"life_span\":\"11 - 13 years\",\"temperament\":\"Steady, Bold, Independent, Confident, Intelligent, Proud\",\"reference_image_id\":\"BJT0Jx5Nm\",\"image\":{\"id\":\"BJT0Jx5Nm\",\"width\":1216,\"height\":1131,\"url\":\"https://cdn2.thedogapi.com/images/BJT0Jx5Nm.jpg\"}},{\"weight\":{\"imperial\":\"48 - 55\",\"metric\":\"22 - 25\"},\"height\":{\"imperial\":\"20 - 22\",\"metric\":\"51 - 56\"},\"id\":19,\"name\":\"Appenzeller Sennenhund\",\"bred_for\":\"Herding livestock, pulling carts, and guarding the farm\",\"life_span\":\"12 – 14 years\",\"temperament\":\"Reliable, Fearless, Energetic, Lively, Self-assured\",\"reference_image_id\":\"HkNkxlqEX\",\"image\":{\"id\":\"HkNkxlqEX\",\"width\":400,\"height\":600,\"url\":\"https://cdn2.thedogapi.com/images/HkNkxlqEX.jpg\"}},{\"weight\":{\"imperial\":\"44 - 62\",\"metric\":\"20 - 28\"},\"height\":{\"imperial\":\"17 - 20\",\"metric\":\"43 - 51\"},\"id\":21,\"name\":\"Australian Cattle Dog\",\"country_code\":\"AU\",\"bred_for\":\"Cattle herding, herding trials\",\"breed_group\":\"Herding\",\"life_span\":\"12 - 14 years\",\"temperament\":\"Cautious, Energetic, Loyal, Obedient, Protective, Brave\",\"reference_image_id\":\"IBkYVm4v1\",\"image\":{\"id\":\"IBkYVm4v1\",\"width\":736,\"height\":850,\"url\":\"https://cdn2.thedogapi.com/images/IBkYVm4v1.jpg\"}},{\"weight\":{\"imperial\":\"31 - 46\",\"metric\":\"14 - 21\"},\"height\":{\"imperial\":\"17 - 20\",\"metric\":\"43 - 51\"},\"id\":22,\"name\":\"Australian Kelpie\",\"country_code\":\"AU\",\"bred_for\":\"Farm dog, Cattle herding\",\"breed_group\":\"Herding\",\"life_span\":\"10 - 13 years\",\"temperament\":\"Friendly, Energetic, Alert, Loyal, Intelligent, Eager\",\"reference_image_id\":\"Hyq1ge9VQ\",\"image\":{\"id\":\"Hyq1ge9VQ\",\"width\":800,\"height\":533,\"url\":\"https://cdn2.thedogapi.com/images/Hyq1ge9VQ.jpg\"}},{\"weight\":{\"imperial\":\"35 - 65\",\"metric\":\"16 - 29\"},\"height\":{\"imperial\":\"18 - 23\",\"metric\":\"46 - 58\"},\"id\":23,\"name\":\"Australian Shepherd\",\"country_code\":\"AU\",\"bred_for\":\"Sheep herding\",\"breed_group\":\"Herding\",\"life_span\":\"12 - 16 years\",\"temperament\":\"Good-natured, Affectionate, Intelligent, Active, Protective\",\"reference_image_id\":\"B1-llgq4m\",\"image\":{\"id\":\"B1-llgq4m\",\"width\":1200,\"height\":733,\"url\":\"https://cdn2.thedogapi.com/images/B1-llgq4m.jpg\"}},{\"weight\":{\"imperial\":\"14 - 16\",\"metric\":\"6 - 7\"},\"height\":{\"imperial\":\"10 - 11\",\"metric\":\"25 - 28\"},\"id\":24,\"name\":\"Australian Terrier\",\"country_code\":\"AU\",\"bred_for\":\"Cattle herdering, hunting snakes and rodents\",\"breed_group\":\"Terrier\",\"life_span\":\"15 years\",\"temperament\":\"Spirited, Alert, Loyal, Companionable, Even Tempered, Courageous\",\"reference_image_id\":\"r1Ylge5Vm\",\"image\":{\"id\":\"r1Ylge5Vm\",\"width\":1081,\"height\":720,\"url\":\"https://cdn2.thedogapi.com/images/r1Ylge5Vm.jpg\"}},{\"weight\":{\"imperial\":\"33 - 55\",\"metric\":\"15 - 25\"},\"height\":{\"imperial\":\"23 - 29\",\"metric\":\"58 - 74\"},\"id\":25,\"name\":\"Azawakh\",\"bred_for\":\"Livestock guardian, hunting\",\"breed_group\":\"Hound\",\"life_span\":\"10 - 13 years\",\"temperament\":\"Aloof, Affectionate, Attentive, Rugged, Fierce, Refined\",\"reference_image_id\":\"SkvZgx94m\",\"image\":{\"id\":\"SkvZgx94m\",\"width\":1024,\"height\":768,\"url\":\"https://cdn2.thedogapi.com/images/SkvZgx94m.jpg\"}},{\"weight\":{\"imperial\":\"40 - 65\",\"metric\":\"18 - 29\"},\"height\":{\"imperial\":\"20 - 26\",\"metric\":\"51 - 66\"},\"id\":26,\"name\":\"Barbet\",\"bred_for\":\"Hunting water game\",\"life_span\":\"13 – 15 years\",\"temperament\":\"Obedient, Companionable, Intelligent, Joyful\",\"reference_image_id\":\"HyWGexcVQ\",\"image\":{\"id\":\"HyWGexcVQ\",\"width\":853,\"height\":1280,\"url\":\"https://cdn2.thedogapi.com/images/HyWGexcVQ.jpg\"}},{\"weight\":{\"imperial\":\"22 - 24\",\"metric\":\"10 - 11\"},\"height\":{\"imperial\":\"16 - 17\",\"metric\":\"41 - 43\"},\"id\":28,\"name\":\"Basenji\",\"bred_for\":\"Hunting\",\"breed_group\":\"Hound\",\"life_span\":\"10 - 12 years\",\"temperament\":\"Affectionate, Energetic, Alert, Curious, Playful, Intelligent\",\"reference_image_id\":\"H1dGlxqNQ\",\"image\":{\"id\":\"H1dGlxqNQ\",\"width\":740,\"height\":493,\"url\":\"https://cdn2.thedogapi.com/images/H1dGlxqNQ.jpg\"}},{\"weight\":{\"imperial\":\"35 - 40\",\"metric\":\"16 - 18\"},\"height\":{\"imperial\":\"13 - 15\",\"metric\":\"33 - 38\"},\"id\":29,\"name\":\"Basset Bleu de Gascogne\",\"bred_for\":\"Hunting on foot.\",\"breed_group\":\"Hound\",\"life_span\":\"10 - 14 years\",\"temperament\":\"Affectionate, Lively, Agile, Curious, Happy, Active\",\"reference_image_id\":\"BkMQll94X\",\"image\":{\"id\":\"BkMQll94X\",\"width\":1280,\"height\":853,\"url\":\"https://cdn2.thedogapi.com/images/BkMQll94X.jpg\"}},{\"weight\":{\"imperial\":\"50 - 65\",\"metric\":\"23 - 29\"},\"height\":{\"imperial\":\"14\",\"metric\":\"36\"},\"id\":30,\"name\":\"Basset Hound\",\"bred_for\":\"Hunting by scent\",\"breed_group\":\"Hound\",\"life_span\":\"12 - 15 years\",\"temperament\":\"Tenacious, Friendly, Affectionate, Devoted, Sweet-Tempered, Gentle\",\"reference_image_id\":\"Sy57xx9EX\",\"image\":{\"id\":\"Sy57xx9EX\",\"width\":1024,\"height\":640,\"url\":\"https://cdn2.thedogapi.com/images/Sy57xx9EX.jpg\"}},{\"weight\":{\"imperial\":\"20 - 35\",\"metric\":\"9 - 16\"},\"height\":{\"imperial\":\"13 - 15\",\"metric\":\"33 - 38\"},\"id\":31,\"name\":\"Beagle\",\"bred_for\":\"Rabbit, hare hunting\",\"breed_group\":\"Hound\",\"life_span\":\"13 - 16 years\",\"temperament\":\"Amiable, Even Tempered, Excitable, Determined, Gentle, Intelligent\",\"reference_image_id\":\"Syd4xxqEm\",\"image\":{\"id\":\"Syd4xxqEm\",\"width\":1000,\"height\":667,\"url\":\"https://cdn2.thedogapi.com/images/Syd4xxqEm.jpg\"}},{\"weight\":{\"imperial\":\"45 - 55\",\"metric\":\"20 - 25\"},\"height\":{\"imperial\":\"20 - 22\",\"metric\":\"51 - 56\"},\"id\":32,\"name\":\"Bearded Collie\",\"bred_for\":\"Sheep herding\",\"breed_group\":\"Herding\",\"life_span\":\"12 - 14 years\",\"temperament\":\"Self-confidence, Hardy, Lively, Alert, Intelligent, Active\",\"reference_image_id\":\"A09F4c1qP\",\"image\":{\"id\":\"A09F4c1qP\",\"width\":733,\"height\":733,\"url\":\"https://cdn2.thedogapi.com/images/A09F4c1qP.jpg\"}},{\"weight\":{\"imperial\":\"80 - 110\",\"metric\":\"36 - 50\"},\"height\":{\"imperial\":\"24 - 27.5\",\"metric\":\"61 - 70\"},\"id\":33,\"name\":\"Beauceron\",\"bred_for\":\"Boar herding, hunting, guarding\",\"breed_group\":\"Herding\",\"life_span\":\"10 - 12 years\",\"temperament\":\"Fearless, Friendly, Intelligent, Protective, Calm\",\"reference_image_id\":\"HJQ8ge5V7\",\"image\":{\"id\":\"HJQ8ge5V7\",\"width\":720,\"height\":563,\"url\":\"https://cdn2.thedogapi.com/images/HJQ8ge5V7.jpg\"}},{\"weight\":{\"imperial\":\"17 - 23\",\"metric\":\"8 - 10\"},\"height\":{\"imperial\":\"15 - 16\",\"metric\":\"38 - 41\"},\"id\":34,\"name\":\"Bedlington Terrier\",\"bred_for\":\"Killing rat, badger, other vermin\",\"breed_group\":\"Terrier\",\"life_span\":\"14 - 16 years\",\"temperament\":\"Affectionate, Spirited, Intelligent, Good-tempered\",\"reference_image_id\":\"ByK8gx947\",\"image\":{\"id\":\"ByK8gx947\",\"width\":804,\"height\":531,\"url\":\"https://cdn2.thedogapi.com/images/ByK8gx947.jpg\"}},{\"weight\":{\"imperial\":\"40 - 80\",\"metric\":\"18 - 36\"},\"height\":{\"imperial\":\"22 - 26\",\"metric\":\"56 - 66\"},\"id\":36,\"name\":\"Belgian Malinois\",\"bred_for\":\"Stock herding\",\"breed_group\":\"Herding\",\"life_span\":\"12 - 14 years\",\"temperament\":\"Watchful, Alert, Stubborn, Friendly, Confident, Hard-working, Active, Protective\",\"reference_image_id\":\"r1f_ll5VX\",\"image\":{\"id\":\"r1f_ll5VX\",\"width\":604,\"height\":453,\"url\":\"https://cdn2.thedogapi.com/images/r1f_ll5VX.jpg\"}},{\"weight\":{\"imperial\":\"40 - 65\",\"metric\":\"18 - 29\"},\"height\":{\"imperial\":\"22 - 26\",\"metric\":\"56 - 66\"},\"id\":38,\"name\":\"Belgian Tervuren\",\"bred_for\":\"Guarding, Drafting, Police work.\",\"breed_group\":\"Herding\",\"life_span\":\"10 - 12 years\",\"temperament\":\"Energetic, Alert, Loyal, Intelligent, Attentive, Protective\",\"reference_image_id\":\"B1KdxlcNX\",\"image\":{\"id\":\"B1KdxlcNX\",\"width\":645,\"height\":380,\"url\":\"https://cdn2.thedogapi.com/images/B1KdxlcNX.jpg\"}},{\"weight\":{\"imperial\":\"65 - 120\",\"metric\":\"29 - 54\"},\"height\":{\"imperial\":\"23 - 27.5\",\"metric\":\"58 - 70\"},\"id\":41,\"name\":\"Bernese Mountain Dog\",\"bred_for\":\"Draft work\",\"breed_group\":\"Working\",\"life_span\":\"7 - 10 years\",\"temperament\":\"Affectionate, Loyal, Intelligent, Faithful\",\"reference_image_id\":\"S1fFlx5Em\",\"image\":{\"id\":\"S1fFlx5Em\",\"width\":640,\"height\":427,\"url\":\"https://cdn2.thedogapi.com/images/S1fFlx5Em.jpg\"}},{\"weight\":{\"imperial\":\"10 - 18\",\"metric\":\"5 - 8\"},\"height\":{\"imperial\":\"9.5 - 11.5\",\"metric\":\"24 - 29\"},\"id\":42,\"name\":\"Bichon Frise\",\"bred_for\":\"Companion\",\"breed_group\":\"Non-Sporting\",\"life_span\":\"15 years\",\"temperament\":\"Feisty, Affectionate, Cheerful, Playful, Gentle, Sensitive\",\"reference_image_id\":\"HkuYlxqEQ\",\"image\":{\"id\":\"HkuYlxqEQ\",\"width\":480,\"height\":360,\"url\":\"https://cdn2.thedogapi.com/images/HkuYlxqEQ.jpg\"}},{\"weight\":{\"imperial\":\"65 - 100\",\"metric\":\"29 - 45\"},\"height\":{\"imperial\":\"23 - 27\",\"metric\":\"58 - 69\"},\"id\":43,\"name\":\"Black and Tan Coonhound\",\"bred_for\":\"Hunting raccoons, night hunting\",\"breed_group\":\"Hound\",\"life_span\":\"10 - 12 years\",\"temperament\":\"Easygoing, Gentle, Adaptable, Trusting, Even Tempered, Lovable\",\"reference_image_id\":\"HJAFgxcNQ\",\"image\":{\"id\":\"HJAFgxcNQ\",\"width\":556,\"height\":380,\"url\":\"https://cdn2.thedogapi.com/images/HJAFgxcNQ.jpg\"}},{\"weight\":{\"imperial\":\"80 - 110\",\"metric\":\"36 - 50\"},\"height\":{\"imperial\":\"23 - 27\",\"metric\":\"58 - 69\"},\"id\":45,\"name\":\"Bloodhound\",\"bred_for\":\"Trailing\",\"breed_group\":\"Hound\",\"life_span\":\"8 - 10 years\",\"temperament\":\"Stubborn, Affectionate, Gentle, Even Tempered\",\"reference_image_id\":\"Skdcgx9VX\",\"image\":{\"id\":\"Skdcgx9VX\",\"width\":586,\"height\":600,\"url\":\"https://cdn2.thedogapi.com/images/Skdcgx9VX.jpg\"}},{\"weight\":{\"imperial\":\"45 - 80\",\"metric\":\"20 - 36\"},\"height\":{\"imperial\":\"21 - 27\",\"metric\":\"53 - 69\"},\"id\":47,\"name\":\"Bluetick Coonhound\",\"bred_for\":\"Hunting with a superior sense of smell.\",\"breed_group\":\"Hound\",\"life_span\":\"12 - 14 years\",\"temperament\":\"Friendly, Intelligent, Active\",\"reference_image_id\":\"rJxieg9VQ\",\"image\":{\"id\":\"rJxieg9VQ\",\"width\":731,\"height\":599,\"url\":\"https://cdn2.thedogapi.com/images/rJxieg9VQ.jpg\"}},{\"weight\":{\"imperial\":\"110 - 200\",\"metric\":\"50 - 91\"},\"height\":{\"imperial\":\"22 - 27\",\"metric\":\"56 - 69\"},\"id\":48,\"name\":\"Boerboel\",\"bred_for\":\"Guarding the homestead, farm work.\",\"breed_group\":\"Working\",\"life_span\":\"10 - 12 years\",\"temperament\":\"Obedient, Confident, Intelligent, Dominant, Territorial\",\"reference_image_id\":\"HyOjge5Vm\",\"image\":{\"id\":\"HyOjge5Vm\",\"width\":1200,\"height\":669,\"url\":\"https://cdn2.thedogapi.com/images/HyOjge5Vm.jpg\"}},{\"weight\":{\"imperial\":\"30 - 45\",\"metric\":\"14 - 20\"},\"height\":{\"imperial\":\"18 - 22\",\"metric\":\"46 - 56\"},\"id\":50,\"name\":\"Border Collie\",\"bred_for\":\"Sheep herder\",\"breed_group\":\"Herding\",\"life_span\":\"12 - 16 years\",\"temperament\":\"Tenacious, Keen, Energetic, Responsive, Alert, Intelligent\",\"reference_image_id\":\"sGQvQUpsp\",\"image\":{\"id\":\"sGQvQUpsp\",\"width\":1080,\"height\":1080,\"url\":\"https://cdn2.thedogapi.com/images/sGQvQUpsp.jpg\"}},{\"weight\":{\"imperial\":\"11.5 - 15.5\",\"metric\":\"5 - 7\"},\"height\":{\"imperial\":\"11 - 16\",\"metric\":\"28 - 41\"},\"id\":51,\"name\":\"Border Terrier\",\"bred_for\":\"Fox bolting, ratting\",\"breed_group\":\"Terrier\",\"life_span\":\"12 - 14 years\",\"temperament\":\"Fearless, Affectionate, Alert, Obedient, Intelligent, Even Tempered\",\"reference_image_id\":\"HJOpge9Em\",\"image\":{\"id\":\"HJOpge9Em\",\"width\":674,\"height\":450,\"url\":\"https://cdn2.thedogapi.com/images/HJOpge9Em.jpg\"}},{\"weight\":{\"imperial\":\"10 - 25\",\"metric\":\"5 - 11\"},\"height\":{\"imperial\":\"16 - 17\",\"metric\":\"41 - 43\"},\"id\":53,\"name\":\"Boston Terrier\",\"bred_for\":\"Ratting, Companionship\",\"breed_group\":\"Non-Sporting\",\"life_span\":\"11 - 13 years\",\"temperament\":\"Friendly, Lively, Intelligent\",\"reference_image_id\":\"rkZRggqVX\",\"image\":{\"id\":\"rkZRggqVX\",\"width\":1010,\"height\":673,\"url\":\"https://cdn2.thedogapi.com/images/rkZRggqVX.jpg\"}},{\"weight\":{\"imperial\":\"70 - 110\",\"metric\":\"32 - 50\"},\"height\":{\"imperial\":\"23.5 - 27.5\",\"metric\":\"60 - 70\"},\"id\":54,\"name\":\"Bouvier des Flandres\",\"bred_for\":\"Cattle herding\",\"breed_group\":\"Herding\",\"life_span\":\"10 - 15 years\",\"temperament\":\"Protective, Loyal, Gentle, Intelligent, Familial, Rational\",\"reference_image_id\":\"Byd0xl5VX\",\"image\":{\"id\":\"Byd0xl5VX\",\"width\":680,\"height\":454,\"url\":\"https://cdn2.thedogapi.com/images/Byd0xl5VX.jpg\"}},{\"weight\":{\"imperial\":\"50 - 70\",\"metric\":\"23 - 32\"},\"height\":{\"imperial\":\"21.5 - 25\",\"metric\":\"55 - 64\"},\"id\":55,\"name\":\"Boxer\",\"bred_for\":\"Bull-baiting, guardian\",\"breed_group\":\"Working\",\"life_span\":\"8 - 10 years\",\"temperament\":\"Devoted, Fearless, Friendly, Cheerful, Energetic, Loyal, Playful, Confident, Intelligent, Bright, Brave, Calm\",\"reference_image_id\":\"ry1kWe5VQ\",\"image\":{\"id\":\"ry1kWe5VQ\",\"width\":645,\"height\":430,\"url\":\"https://cdn2.thedogapi.com/images/ry1kWe5VQ.jpg\"}},{\"weight\":{\"imperial\":\"25 - 40\",\"metric\":\"11 - 18\"},\"height\":{\"imperial\":\"14 - 18\",\"metric\":\"36 - 46\"},\"id\":56,\"name\":\"Boykin Spaniel\",\"bred_for\":\"Turkey retrieving\",\"breed_group\":\"Sporting\",\"life_span\":\"10 - 14 years\",\"temperament\":\"Friendly, Energetic, Companionable, Intelligent, Eager, Trainable\",\"reference_image_id\":\"ryHJZlcNX\",\"image\":{\"id\":\"ryHJZlcNX\",\"width\":577,\"height\":634,\"url\":\"https://cdn2.thedogapi.com/images/ryHJZlcNX.jpg\"}},{\"weight\":{\"imperial\":\"55 - 88\",\"metric\":\"25 - 40\"},\"height\":{\"imperial\":\"21.5 - 26.5\",\"metric\":\"55 - 67\"},\"id\":57,\"name\":\"Bracco Italiano\",\"bred_for\":\"Versatile gun dog\",\"breed_group\":\"Sporting\",\"life_span\":\"10 - 12 years\",\"temperament\":\"Stubborn, Affectionate, Loyal, Playful, Companionable, Trainable\",\"reference_image_id\":\"S13yZg5VQ\",\"image\":{\"id\":\"S13yZg5VQ\",\"width\":750,\"height\":505,\"url\":\"https://cdn2.thedogapi.com/images/S13yZg5VQ.jpg\"}},{\"weight\":{\"imperial\":\"70 - 90\",\"metric\":\"32 - 41\"},\"height\":{\"imperial\":\"22 - 27\",\"metric\":\"56 - 69\"},\"id\":58,\"name\":\"Briard\",\"bred_for\":\"Herding, guarding sheep\",\"breed_group\":\"Herding\",\"life_span\":\"10 - 12 years\",\"temperament\":\"Fearless, Loyal, Obedient, Intelligent, Faithful, Protective\",\"reference_image_id\":\"rkVlblcEQ\",\"image\":{\"id\":\"rkVlblcEQ\",\"width\":768,\"height\":576,\"url\":\"https://cdn2.thedogapi.com/images/rkVlblcEQ.jpg\"}},{\"weight\":{\"imperial\":\"30 - 45\",\"metric\":\"14 - 20\"},\"height\":{\"imperial\":\"17.5 - 20.5\",\"metric\":\"44 - 52\"},\"id\":59,\"name\":\"Brittany\",\"bred_for\":\"Pointing, retrieving\",\"breed_group\":\"Sporting\",\"life_span\":\"12 - 14 years\",\"temperament\":\"Agile, Adaptable, Quick, Intelligent, Attentive, Happy\",\"reference_image_id\":\"HJWZZxc4X\",\"image\":{\"id\":\"HJWZZxc4X\",\"width\":900,\"height\":600,\"url\":\"https://cdn2.thedogapi.com/images/HJWZZxc4X.jpg\"}},{\"weight\":{\"imperial\":\"50 - 70\",\"metric\":\"23 - 32\"},\"height\":{\"imperial\":\"21 - 22\",\"metric\":\"53 - 56\"},\"id\":61,\"name\":\"Bull Terrier\",\"bred_for\":\"Bull baiting, Fighting\",\"breed_group\":\"Terrier\",\"life_span\":\"10 - 12 years\",\"temperament\":\"Trainable, Protective, Sweet-Tempered, Keen, Active\",\"reference_image_id\":\"VSraIEQGd\",\"image\":{\"id\":\"VSraIEQGd\",\"width\":1080,\"height\":1080,\"url\":\"https://cdn2.thedogapi.com/images/VSraIEQGd.jpg\"}},{\"weight\":{\"imperial\":\"25 - 33\",\"metric\":\"11 - 15\"},\"height\":{\"imperial\":\"10 - 14\",\"metric\":\"25 - 36\"},\"id\":62,\"name\":\"Bull Terrier (Miniature)\",\"bred_for\":\"An elegant man\\'s fashion statement\",\"life_span\":\"11 – 14 years\",\"temperament\":\"Trainable, Protective, Sweet-Tempered, Keen, Active, Territorial\",\"reference_image_id\":\"BkKZWlcVX\",\"image\":{\"id\":\"BkKZWlcVX\",\"width\":674,\"height\":450,\"url\":\"https://cdn2.thedogapi.com/images/BkKZWlcVX.jpg\"}},{\"weight\":{\"imperial\":\"100 - 130\",\"metric\":\"45 - 59\"},\"height\":{\"imperial\":\"24 - 27\",\"metric\":\"61 - 69\"},\"id\":64,\"name\":\"Bullmastiff\",\"bred_for\":\"Estate guardian\",\"breed_group\":\"Working\",\"life_span\":\"8 - 12 years\",\"temperament\":\"Docile, Reliable, Devoted, Alert, Loyal, Reserved, Loving, Protective, Powerful, Calm, Courageous\",\"reference_image_id\":\"r1ifZl5E7\",\"image\":{\"id\":\"r1ifZl5E7\",\"width\":850,\"height\":638,\"url\":\"https://cdn2.thedogapi.com/images/r1ifZl5E7.jpg\"}},{\"weight\":{\"imperial\":\"13 - 14\",\"metric\":\"6 - 6\"},\"height\":{\"imperial\":\"9 - 10\",\"metric\":\"23 - 25\"},\"id\":65,\"name\":\"Cairn Terrier\",\"bred_for\":\"Bolting of otter, foxes, other vermin\",\"breed_group\":\"Terrier\",\"life_span\":\"14 - 15 years\",\"temperament\":\"Hardy, Fearless, Assertive, Gay, Intelligent, Active\",\"reference_image_id\":\"Sk7Qbg9E7\",\"image\":{\"id\":\"Sk7Qbg9E7\",\"width\":1254,\"height\":836,\"url\":\"https://cdn2.thedogapi.com/images/Sk7Qbg9E7.jpg\"}},{\"weight\":{\"imperial\":\"88 - 120\",\"metric\":\"40 - 54\"},\"height\":{\"imperial\":\"23.5 - 27.5\",\"metric\":\"60 - 70\"},\"id\":67,\"name\":\"Cane Corso\",\"bred_for\":\"Companion, guard dog, and hunter\",\"breed_group\":\"Working\",\"life_span\":\"10 - 11 years\",\"temperament\":\"Trainable, Reserved, Stable, Quiet, Even Tempered, Calm\",\"reference_image_id\":\"r15m-lc4m\",\"image\":{\"id\":\"r15m-lc4m\",\"width\":645,\"height\":380,\"url\":\"https://cdn2.thedogapi.com/images/r15m-lc4m.jpg\"}},{\"weight\":{\"imperial\":\"25 - 38\",\"metric\":\"11 - 17\"},\"height\":{\"imperial\":\"10.5 - 12.5\",\"metric\":\"27 - 32\"},\"id\":68,\"name\":\"Cardigan Welsh Corgi\",\"bred_for\":\"Cattle droving\",\"breed_group\":\"Herding\",\"life_span\":\"12 - 14 years\",\"temperament\":\"Affectionate, Devoted, Alert, Companionable, Intelligent, Active\",\"reference_image_id\":\"SyXN-e9NX\",\"image\":{\"id\":\"SyXN-e9NX\",\"width\":800,\"height\":600,\"url\":\"https://cdn2.thedogapi.com/images/SyXN-e9NX.jpg\"}},{\"weight\":{\"imperial\":\"50 - 95\",\"metric\":\"23 - 43\"},\"height\":{\"imperial\":\"20 - 26\",\"metric\":\"51 - 66\"},\"id\":69,\"name\":\"Catahoula Leopard Dog\",\"bred_for\":\"Driving livestock\",\"breed_group\":\"Herding\",\"life_span\":\"10 - 12 years\",\"temperament\":\"Energetic, Inquisitive, Independent, Gentle, Intelligent, Loving\",\"reference_image_id\":\"BJcNbec4X\",\"image\":{\"id\":\"BJcNbec4X\",\"width\":650,\"height\":650,\"url\":\"https://cdn2.thedogapi.com/images/BJcNbec4X.jpg\"}},{\"weight\":{\"imperial\":\"80 - 100\",\"metric\":\"36 - 45\"},\"height\":{\"imperial\":\"24 - 33.5\",\"metric\":\"61 - 85\"},\"id\":70,\"name\":\"Caucasian Shepherd (Ovcharka)\",\"bred_for\":\"Guard dogs, defending sheep from predators, mainly wolves, jackals and bears\",\"breed_group\":\"Working\",\"life_span\":\"10 - 12 years\",\"temperament\":\"Alert, Quick, Dominant, Powerful, Calm, Strong\",\"reference_image_id\":\"r1rrWe5Em\",\"image\":{\"id\":\"r1rrWe5Em\",\"width\":1024,\"height\":682,\"url\":\"https://cdn2.thedogapi.com/images/r1rrWe5Em.jpg\"}},{\"weight\":{\"imperial\":\"13 - 18\",\"metric\":\"6 - 8\"},\"height\":{\"imperial\":\"12 - 13\",\"metric\":\"30 - 33\"},\"id\":71,\"name\":\"Cavalier King Charles Spaniel\",\"bred_for\":\"Flushing small birds, companion\",\"breed_group\":\"Toy\",\"life_span\":\"10 - 14 years\",\"temperament\":\"Fearless, Affectionate, Sociable, Patient, Playful, Adaptable\",\"reference_image_id\":\"HJRBbe94Q\",\"image\":{\"id\":\"HJRBbe94Q\",\"width\":961,\"height\":558,\"url\":\"https://cdn2.thedogapi.com/images/HJRBbe94Q.jpg\"}},{\"weight\":{\"imperial\":\"55 - 80\",\"metric\":\"25 - 36\"},\"height\":{\"imperial\":\"21 - 26\",\"metric\":\"53 - 66\"},\"id\":76,\"name\":\"Chesapeake Bay Retriever\",\"bred_for\":\"Water Retriever\",\"breed_group\":\"Sporting\",\"life_span\":\"10 - 13 years\",\"temperament\":\"Affectionate, Intelligent, Quiet, Dominant, Happy, Protective\",\"reference_image_id\":\"9BXwUeCc2\",\"image\":{\"id\":\"9BXwUeCc2\",\"width\":600,\"height\":600,\"url\":\"https://cdn2.thedogapi.com/images/9BXwUeCc2.jpg\"}},{\"weight\":{\"imperial\":\"10 - 13\",\"metric\":\"5 - 6\"},\"height\":{\"imperial\":\"11 - 13\",\"metric\":\"28 - 33\"},\"id\":78,\"name\":\"Chinese Crested\",\"bred_for\":\"Ratting, lapdog, curio\",\"breed_group\":\"Toy\",\"life_span\":\"10 - 14 years\",\"temperament\":\"Affectionate, Sweet-Tempered, Lively, Alert, Playful, Happy\",\"reference_image_id\":\"B1pDZx9Nm\",\"image\":{\"id\":\"B1pDZx9Nm\",\"width\":1200,\"height\":798,\"url\":\"https://cdn2.thedogapi.com/images/B1pDZx9Nm.jpg\"}},{\"weight\":{\"imperial\":\"45 - 60\",\"metric\":\"20 - 27\"},\"height\":{\"imperial\":\"18 - 20\",\"metric\":\"46 - 51\"},\"id\":79,\"name\":\"Chinese Shar-Pei\",\"bred_for\":\"Fighting\",\"breed_group\":\"Non-Sporting\",\"life_span\":\"10 years\",\"temperament\":\"Suspicious, Affectionate, Devoted, Reserved, Independent, Loving\",\"reference_image_id\":\"B1ruWl94Q\",\"image\":{\"id\":\"B1ruWl94Q\",\"width\":1049,\"height\":761,\"url\":\"https://cdn2.thedogapi.com/images/B1ruWl94Q.jpg\"}},{\"weight\":{\"imperial\":\"50 - 90\",\"metric\":\"23 - 41\"},\"height\":{\"imperial\":\"22 - 26\",\"metric\":\"56 - 66\"},\"id\":80,\"name\":\"Chinook\",\"bred_for\":\"Sled pulling\",\"breed_group\":\"Working\",\"life_span\":\"12 - 15 years\",\"temperament\":\"Friendly, Alert, Dignified, Intelligent, Calm\",\"reference_image_id\":\"Sypubg54Q\",\"image\":{\"id\":\"Sypubg54Q\",\"width\":600,\"height\":478,\"url\":\"https://cdn2.thedogapi.com/images/Sypubg54Q.jpg\"}},{\"weight\":{\"imperial\":\"40 - 70\",\"metric\":\"18 - 32\"},\"height\":{\"imperial\":\"17 - 20\",\"metric\":\"43 - 51\"},\"id\":81,\"name\":\"Chow Chow\",\"bred_for\":\"Guardian, cart pulling, hunting\",\"breed_group\":\"Non-Sporting\",\"life_span\":\"12 - 15 years\",\"temperament\":\"Aloof, Loyal, Independent, Quiet\",\"reference_image_id\":\"ry8KWgqEQ\",\"image\":{\"id\":\"ry8KWgqEQ\",\"width\":1010,\"height\":673,\"url\":\"https://cdn2.thedogapi.com/images/ry8KWgqEQ.jpg\"}},{\"weight\":{\"imperial\":\"55 - 85\",\"metric\":\"25 - 39\"},\"height\":{\"imperial\":\"17 - 20\",\"metric\":\"43 - 51\"},\"id\":84,\"name\":\"Clumber Spaniel\",\"bred_for\":\"Bird flushing, retrieving\",\"breed_group\":\"Sporting\",\"life_span\":\"10 - 12 years\",\"temperament\":\"Affectionate, Loyal, Dignified, Gentle, Calm, Great-hearted\",\"reference_image_id\":\"rkeqWgq4Q\",\"image\":{\"id\":\"rkeqWgq4Q\",\"width\":762,\"height\":533,\"url\":\"https://cdn2.thedogapi.com/images/rkeqWgq4Q.jpg\"}},{\"weight\":{\"imperial\":\"20 - 30\",\"metric\":\"9 - 14\"},\"height\":{\"imperial\":\"14 - 15\",\"metric\":\"36 - 38\"},\"id\":86,\"name\":\"Cocker Spaniel\",\"bred_for\":\"Bird flushing, retrieving\",\"breed_group\":\"Sporting\",\"life_span\":\"12 - 15 years\",\"temperament\":\"Trainable, Friendly, Affectionate, Playful, Quiet, Faithful\",\"reference_image_id\":\"1lFmrzECl\",\"image\":{\"id\":\"1lFmrzECl\",\"width\":1080,\"height\":1080,\"url\":\"https://cdn2.thedogapi.com/images/1lFmrzECl.jpg\"}},{\"weight\":{\"imperial\":\"20 - 30\",\"metric\":\"9 - 14\"},\"height\":{\"imperial\":\"14 - 15\",\"metric\":\"36 - 38\"},\"id\":87,\"name\":\"Cocker Spaniel (American)\",\"bred_for\":\"Hunting the American woodcock\",\"breed_group\":\"Sporting\",\"life_span\":\"12 - 15 years\",\"temperament\":\"Outgoing, Sociable, Trusting, Joyful, Even Tempered, Merry\",\"reference_image_id\":\"HkRcZe547\",\"image\":{\"id\":\"HkRcZe547\",\"width\":1024,\"height\":640,\"url\":\"https://cdn2.thedogapi.com/images/HkRcZe547.jpg\"}},{\"weight\":{\"imperial\":\"9 - 15\",\"metric\":\"4 - 7\"},\"height\":{\"imperial\":\"9 - 11\",\"metric\":\"23 - 28\"},\"id\":89,\"name\":\"Coton de Tulear\",\"bred_for\":\"Accompanying ladies on long sea voyages, ratters onboard ship.\",\"breed_group\":\"Non-Sporting\",\"life_span\":\"13 - 16 years\",\"temperament\":\"Affectionate, Lively, Playful, Intelligent, Trainable, Vocal\",\"reference_image_id\":\"SyviZlqNm\",\"image\":{\"id\":\"SyviZlqNm\",\"width\":2464,\"height\":1638,\"url\":\"https://cdn2.thedogapi.com/images/SyviZlqNm.jpg\"}},{\"weight\":{\"imperial\":\"50 - 55\",\"metric\":\"23 - 25\"},\"height\":{\"imperial\":\"19 - 23\",\"metric\":\"48 - 58\"},\"id\":92,\"name\":\"Dalmatian\",\"bred_for\":\"Carriage dog - trot alongside carriages to protect the occupants from banditry or other interference\",\"breed_group\":\"Non-Sporting\",\"life_span\":\"10 - 13 years\",\"temperament\":\"Outgoing, Friendly, Energetic, Playful, Sensitive, Intelligent, Active\",\"reference_image_id\":\"SkJ3blcN7\",\"image\":{\"id\":\"SkJ3blcN7\",\"width\":1200,\"height\":800,\"url\":\"https://cdn2.thedogapi.com/images/SkJ3blcN7.jpg\"}},{\"weight\":{\"imperial\":\"66 - 88\",\"metric\":\"30 - 40\"},\"height\":{\"imperial\":\"24 - 28\",\"metric\":\"61 - 71\"},\"id\":94,\"name\":\"Doberman Pinscher\",\"bred_for\":\"Guardian\",\"breed_group\":\"Working\",\"life_span\":\"10 years\",\"temperament\":\"Fearless, Energetic, Alert, Loyal, Obedient, Confident, Intelligent\",\"reference_image_id\":\"HyL3bl94Q\",\"image\":{\"id\":\"HyL3bl94Q\",\"width\":1140,\"height\":640,\"url\":\"https://cdn2.thedogapi.com/images/HyL3bl94Q.jpg\"}},{\"weight\":{\"imperial\":\"80 - 100\",\"metric\":\"36 - 45\"},\"height\":{\"imperial\":\"23.5 - 27\",\"metric\":\"60 - 69\"},\"id\":95,\"name\":\"Dogo Argentino\",\"bred_for\":\"Big-game hunting\",\"breed_group\":\"Working\",\"life_span\":\"10 - 12 years\",\"temperament\":\"Friendly, Affectionate, Cheerful, Loyal, Tolerant, Protective\",\"reference_image_id\":\"S1nhWx94Q\",\"image\":{\"id\":\"S1nhWx94Q\",\"width\":650,\"height\":467,\"url\":\"https://cdn2.thedogapi.com/images/S1nhWx94Q.jpg\"}},{\"weight\":{\"imperial\":\"50 - 70\",\"metric\":\"23 - 32\"},\"height\":{\"imperial\":\"22 - 24.5\",\"metric\":\"56 - 62\"},\"id\":98,\"name\":\"Dutch Shepherd\",\"bred_for\":\"Farms, watchdog, guard duty\",\"life_span\":\"15 years\",\"temperament\":\"Reliable, Affectionate, Alert, Loyal, Obedient, Trainable\",\"reference_image_id\":\"BkE6Wg5E7\",\"image\":{\"id\":\"BkE6Wg5E7\",\"width\":856,\"height\":511,\"url\":\"https://cdn2.thedogapi.com/images/BkE6Wg5E7.jpg\"}},{\"weight\":{\"imperial\":\"45 - 80\",\"metric\":\"20 - 36\"},\"height\":{\"imperial\":\"24 - 25\",\"metric\":\"61 - 64\"},\"id\":101,\"name\":\"English Setter\",\"bred_for\":\"Bird setting, retrieving\",\"breed_group\":\"Sporting\",\"life_span\":\"12 years\",\"temperament\":\"Strong Willed, Mischievous, Affectionate, Energetic, Playful, Companionable, Gentle, Hard-working, Intelligent, Eager, People-Oriented\",\"reference_image_id\":\"By4A-eqVX\",\"image\":{\"id\":\"By4A-eqVX\",\"width\":1024,\"height\":683,\"url\":\"https://cdn2.thedogapi.com/images/By4A-eqVX.jpg\"}},{\"weight\":{\"imperial\":\"44 - 66\",\"metric\":\"20 - 30\"},\"height\":{\"imperial\":\"18 - 23\",\"metric\":\"46 - 58\"},\"id\":102,\"name\":\"English Shepherd\",\"bred_for\":\"Herding & guarding livestock, farm watch dog\",\"breed_group\":\"Working\",\"life_span\":\"10 - 13 years\",\"temperament\":\"Kind, Energetic, Independent, Adaptable, Intelligent, Bossy\",\"reference_image_id\":\"H1QyMe5EQ\",\"image\":{\"id\":\"H1QyMe5EQ\",\"width\":1920,\"height\":1280,\"url\":\"https://cdn2.thedogapi.com/images/H1QyMe5EQ.jpg\"}},{\"weight\":{\"imperial\":\"35 - 50\",\"metric\":\"16 - 23\"},\"height\":{\"imperial\":\"19 - 20\",\"metric\":\"48 - 51\"},\"id\":103,\"name\":\"English Springer Spaniel\",\"bred_for\":\"Bird flushing, retrieving\",\"breed_group\":\"Sporting\",\"life_span\":\"12 - 14 years\",\"temperament\":\"Affectionate, Cheerful, Alert, Intelligent, Attentive, Active\",\"reference_image_id\":\"Hk0Jfe5VQ\",\"image\":{\"id\":\"Hk0Jfe5VQ\",\"width\":1440,\"height\":1080,\"url\":\"https://cdn2.thedogapi.com/images/Hk0Jfe5VQ.jpg\"}},{\"weight\":{\"imperial\":\"8 - 14\",\"metric\":\"4 - 6\"},\"height\":{\"imperial\":\"10\",\"metric\":\"25\"},\"id\":104,\"name\":\"English Toy Spaniel\",\"bred_for\":\"Companion of kings\",\"breed_group\":\"Toy\",\"life_span\":\"10 - 12 years\",\"temperament\":\"Affectionate, Reserved, Playful, Gentle, Happy, Loving\",\"reference_image_id\":\"SkIgzxqNQ\",\"image\":{\"id\":\"SkIgzxqNQ\",\"width\":800,\"height\":696,\"url\":\"https://cdn2.thedogapi.com/images/SkIgzxqNQ.jpg\"}},{\"weight\":{\"imperial\":\"6 - 8\",\"metric\":\"3 - 4\"},\"height\":{\"imperial\":\"10 - 12\",\"metric\":\"25 - 30\"},\"id\":105,\"name\":\"English Toy Terrier\",\"bred_for\":\"Rat-baiting\",\"life_span\":\"12 - 13 years\",\"temperament\":\"Stubborn, Alert, Companionable, Intelligent, Cunning, Trainable\",\"reference_image_id\":\"SJ6eMxqEQ\",\"image\":{\"id\":\"SJ6eMxqEQ\",\"width\":645,\"height\":430,\"url\":\"https://cdn2.thedogapi.com/images/SJ6eMxqEQ.jpg\"}},{\"weight\":{\"imperial\":\"40 - 70\",\"metric\":\"18 - 32\"},\"height\":{\"imperial\":\"20.5 - 23.5\",\"metric\":\"52 - 60\"},\"id\":107,\"name\":\"Eurasier\",\"bred_for\":\"Companionship\",\"breed_group\":\"Non-Sporting\",\"life_span\":\"12 - 14 years\",\"temperament\":\"Alert, Reserved, Intelligent, Even Tempered, Watchful, Calm\",\"reference_image_id\":\"S1VWGx9Nm\",\"image\":{\"id\":\"S1VWGx9Nm\",\"width\":800,\"height\":532,\"url\":\"https://cdn2.thedogapi.com/images/S1VWGx9Nm.jpg\"}},{\"weight\":{\"imperial\":\"35 - 50\",\"metric\":\"16 - 23\"},\"height\":{\"imperial\":\"17 - 18\",\"metric\":\"43 - 46\"},\"id\":108,\"name\":\"Field Spaniel\",\"bred_for\":\"Bird flushing, retrieving\",\"breed_group\":\"Sporting\",\"life_span\":\"11 - 15 years\",\"temperament\":\"Docile, Cautious, Sociable, Sensitive, Adaptable, Familial\",\"reference_image_id\":\"SkJfGecE7\",\"image\":{\"id\":\"SkJfGecE7\",\"width\":1280,\"height\":906,\"url\":\"https://cdn2.thedogapi.com/images/SkJfGecE7.jpg\"}},{\"weight\":{\"imperial\":\"33 - 53\",\"metric\":\"15 - 24\"},\"height\":{\"imperial\":\"16 - 21\",\"metric\":\"41 - 53\"},\"id\":110,\"name\":\"Finnish Lapphund\",\"bred_for\":\"Herding reindeer\",\"breed_group\":\"Herding\",\"life_span\":\"12 - 15 years\",\"temperament\":\"Friendly, Keen, Faithful, Calm, Courageous\",\"reference_image_id\":\"S1KMGg5Vm\",\"image\":{\"id\":\"S1KMGg5Vm\",\"width\":1066,\"height\":800,\"url\":\"https://cdn2.thedogapi.com/images/S1KMGg5Vm.jpg\"}},{\"weight\":{\"imperial\":\"23 - 28\",\"metric\":\"10 - 13\"},\"height\":{\"imperial\":\"15.5 - 20\",\"metric\":\"39 - 51\"},\"id\":111,\"name\":\"Finnish Spitz\",\"bred_for\":\"Hunting birds, small mammals\",\"breed_group\":\"Non-Sporting\",\"life_span\":\"12 - 15 years\",\"temperament\":\"Playful, Loyal, Independent, Intelligent, Happy, Vocal\",\"reference_image_id\":\"3PjHlQbkV\",\"image\":{\"id\":\"3PjHlQbkV\",\"width\":500,\"height\":417,\"url\":\"https://cdn2.thedogapi.com/images/3PjHlQbkV.jpg\"}},{\"weight\":{\"imperial\":\"28\",\"metric\":\"13\"},\"height\":{\"imperial\":\"11 - 12\",\"metric\":\"28 - 30\"},\"id\":113,\"name\":\"French Bulldog\",\"bred_for\":\"Lapdog\",\"breed_group\":\"Non-Sporting\",\"life_span\":\"9 - 11 years\",\"temperament\":\"Playful, Affectionate, Keen, Sociable, Lively, Alert, Easygoing, Patient, Athletic, Bright\",\"reference_image_id\":\"HyWNfxc47\",\"image\":{\"id\":\"HyWNfxc47\",\"width\":740,\"height\":430,\"url\":\"https://cdn2.thedogapi.com/images/HyWNfxc47.jpg\"}},{\"weight\":{\"imperial\":\"25 - 45\",\"metric\":\"11 - 20\"},\"height\":{\"imperial\":\"17 - 20\",\"metric\":\"43 - 51\"},\"id\":114,\"name\":\"German Pinscher\",\"bred_for\":\"Watchdog, Hunting vermin on the farm.\",\"breed_group\":\"Working\",\"life_span\":\"12 - 14 years\",\"temperament\":\"Spirited, Lively, Intelligent, Loving, Even Tempered, Familial\",\"reference_image_id\":\"B1u4zgqE7\",\"image\":{\"id\":\"B1u4zgqE7\",\"width\":740,\"height\":480,\"url\":\"https://cdn2.thedogapi.com/images/B1u4zgqE7.jpg\"}},{\"weight\":{\"imperial\":\"50 - 90\",\"metric\":\"23 - 41\"},\"height\":{\"imperial\":\"22 - 26\",\"metric\":\"56 - 66\"},\"id\":115,\"name\":\"German Shepherd Dog\",\"bred_for\":\"Herding, Guard dog\",\"breed_group\":\"Herding\",\"life_span\":\"10 - 13 years\",\"temperament\":\"Alert, Loyal, Obedient, Curious, Confident, Intelligent, Watchful, Courageous\",\"reference_image_id\":\"SJyBfg5NX\",\"image\":{\"id\":\"SJyBfg5NX\",\"width\":600,\"height\":425,\"url\":\"https://cdn2.thedogapi.com/images/SJyBfg5NX.jpg\"}},{\"weight\":{\"imperial\":\"45 - 70\",\"metric\":\"20 - 32\"},\"height\":{\"imperial\":\"21 - 25\",\"metric\":\"53 - 64\"},\"id\":116,\"name\":\"German Shorthaired Pointer\",\"bred_for\":\"General hunting\",\"breed_group\":\"Sporting\",\"life_span\":\"12 - 14 years\",\"temperament\":\"Boisterous, Bold, Affectionate, Intelligent, Cooperative, Trainable\",\"reference_image_id\":\"SJqBMg5Nm\",\"image\":{\"id\":\"SJqBMg5Nm\",\"width\":1395,\"height\":1230,\"url\":\"https://cdn2.thedogapi.com/images/SJqBMg5Nm.jpg\"}},{\"weight\":{\"imperial\":\"65 - 90\",\"metric\":\"29 - 41\"},\"height\":{\"imperial\":\"23.5 - 27.5\",\"metric\":\"60 - 70\"},\"id\":119,\"name\":\"Giant Schnauzer\",\"bred_for\":\"Herding, guarding\",\"breed_group\":\"Working\",\"life_span\":\"10 - 12 years\",\"temperament\":\"Strong Willed, Kind, Loyal, Intelligent, Dominant, Powerful\",\"reference_image_id\":\"H1NIzlcV7\",\"image\":{\"id\":\"H1NIzlcV7\",\"width\":900,\"height\":600,\"url\":\"https://cdn2.thedogapi.com/images/H1NIzlcV7.jpg\"}},{\"weight\":{\"imperial\":\"32 - 40\",\"metric\":\"15 - 18\"},\"height\":{\"imperial\":\"12.5 - 14\",\"metric\":\"32 - 36\"},\"id\":120,\"name\":\"Glen of Imaal Terrier\",\"bred_for\":\"Rid the home and farm of vermin, and hunt badger and fox\",\"breed_group\":\"Terrier\",\"life_span\":\"12 - 15 years\",\"temperament\":\"Spirited, Agile, Loyal, Gentle, Active, Courageous\",\"reference_image_id\":\"H1oLMe94m\",\"image\":{\"id\":\"H1oLMe94m\",\"width\":645,\"height\":380,\"url\":\"https://cdn2.thedogapi.com/images/H1oLMe94m.jpg\"}},{\"weight\":{\"imperial\":\"55 - 75\",\"metric\":\"25 - 34\"},\"height\":{\"imperial\":\"21.5 - 24\",\"metric\":\"55 - 61\"},\"id\":121,\"name\":\"Golden Retriever\",\"bred_for\":\"Retrieving\",\"breed_group\":\"Sporting\",\"life_span\":\"10 - 12 years\",\"temperament\":\"Intelligent, Kind, Reliable, Friendly, Trustworthy, Confident\",\"reference_image_id\":\"HJ7Pzg5EQ\",\"image\":{\"id\":\"HJ7Pzg5EQ\",\"width\":900,\"height\":652,\"url\":\"https://cdn2.thedogapi.com/images/HJ7Pzg5EQ.jpg\"}},{\"weight\":{\"imperial\":\"45 - 80\",\"metric\":\"20 - 36\"},\"height\":{\"imperial\":\"23 - 27\",\"metric\":\"58 - 69\"},\"id\":123,\"name\":\"Gordon Setter\",\"bred_for\":\"Find and point gamebirds\",\"breed_group\":\"Sporting\",\"life_span\":\"10 - 12 years\",\"temperament\":\"Fearless, Alert, Loyal, Confident, Gay, Eager\",\"reference_image_id\":\"SJ5vzx5NX\",\"image\":{\"id\":\"SJ5vzx5NX\",\"width\":622,\"height\":467,\"url\":\"https://cdn2.thedogapi.com/images/SJ5vzx5NX.jpg\"}},{\"weight\":{\"imperial\":\"110 - 190\",\"metric\":\"50 - 86\"},\"height\":{\"imperial\":\"28 - 32\",\"metric\":\"71 - 81\"},\"id\":124,\"name\":\"Great Dane\",\"bred_for\":\"Hunting & holding boars, Guardian\",\"breed_group\":\"Working\",\"life_span\":\"7 - 10 years\",\"temperament\":\"Friendly, Devoted, Reserved, Gentle, Confident, Loving\",\"reference_image_id\":\"B1Edfl9NX\",\"image\":{\"id\":\"B1Edfl9NX\",\"width\":800,\"height\":732,\"url\":\"https://cdn2.thedogapi.com/images/B1Edfl9NX.jpg\"}},{\"weight\":{\"imperial\":\"85 - 115\",\"metric\":\"39 - 52\"},\"height\":{\"imperial\":\"25 - 32\",\"metric\":\"64 - 81\"},\"id\":125,\"name\":\"Great Pyrenees\",\"bred_for\":\"Sheep guardian\",\"breed_group\":\"Working\",\"life_span\":\"10 - 12 years\",\"temperament\":\"Strong Willed, Fearless, Affectionate, Patient, Gentle, Confident\",\"reference_image_id\":\"B12uzg9V7\",\"image\":{\"id\":\"B12uzg9V7\",\"width\":800,\"height\":550,\"url\":\"https://cdn2.thedogapi.com/images/B12uzg9V7.png\"}},{\"weight\":{\"imperial\":\"50 - 70\",\"metric\":\"23 - 32\"},\"height\":{\"imperial\":\"27 - 30\",\"metric\":\"69 - 76\"},\"id\":127,\"name\":\"Greyhound\",\"bred_for\":\"Coursing hares\",\"breed_group\":\"Hound\",\"life_span\":\"10 - 13 years\",\"temperament\":\"Affectionate, Athletic, Gentle, Intelligent, Quiet, Even Tempered\",\"reference_image_id\":\"ryNYMx94X\",\"image\":{\"id\":\"ryNYMx94X\",\"width\":1024,\"height\":681,\"url\":\"https://cdn2.thedogapi.com/images/ryNYMx94X.jpg\"}},{\"weight\":{\"imperial\":\"12\",\"metric\":\"5\"},\"height\":{\"imperial\":\"9 - 11\",\"metric\":\"23 - 28\"},\"id\":128,\"name\":\"Griffon Bruxellois\",\"bred_for\":\"Hunt and kill vermin in stables\",\"life_span\":\"10 – 15 years\",\"temperament\":\"Self-important, Inquisitive, Alert, Companionable, Sensitive, Watchful\",\"reference_image_id\":\"ryoYGec4Q\",\"image\":{\"id\":\"ryoYGec4Q\",\"width\":645,\"height\":380,\"url\":\"https://cdn2.thedogapi.com/images/ryoYGec4Q.jpg\"}},{\"weight\":{\"imperial\":\"40 - 60\",\"metric\":\"18 - 27\"},\"height\":{\"imperial\":\"18 - 22\",\"metric\":\"46 - 56\"},\"id\":129,\"name\":\"Harrier\",\"bred_for\":\"Hunting hares by trailing them\",\"breed_group\":\"Hound\",\"life_span\":\"12 - 15 years\",\"temperament\":\"Outgoing, Friendly, Cheerful, Sweet-Tempered, Tolerant, Active\",\"reference_image_id\":\"B1IcfgqE7\",\"image\":{\"id\":\"B1IcfgqE7\",\"width\":1920,\"height\":1080,\"url\":\"https://cdn2.thedogapi.com/images/B1IcfgqE7.jpg\"}},{\"weight\":{\"imperial\":\"7 - 13\",\"metric\":\"3 - 6\"},\"height\":{\"imperial\":\"8.5 - 11.5\",\"metric\":\"22 - 29\"},\"id\":130,\"name\":\"Havanese\",\"bred_for\":\"Companionship\",\"breed_group\":\"Toy\",\"life_span\":\"14 - 15 years\",\"temperament\":\"Affectionate, Responsive, Playful, Companionable, Gentle, Intelligent\",\"reference_image_id\":\"rkXiGl9V7\",\"image\":{\"id\":\"rkXiGl9V7\",\"width\":800,\"height\":507,\"url\":\"https://cdn2.thedogapi.com/images/rkXiGl9V7.jpg\"}},{\"weight\":{\"imperial\":\"35 - 70\",\"metric\":\"16 - 32\"},\"height\":{\"imperial\":\"24 - 27\",\"metric\":\"61 - 69\"},\"id\":134,\"name\":\"Irish Setter\",\"bred_for\":\"Bird setting, retrieving\",\"breed_group\":\"Sporting\",\"life_span\":\"10 - 11 years\",\"temperament\":\"Affectionate, Energetic, Lively, Independent, Playful, Companionable\",\"reference_image_id\":\"S1osGeqVm\",\"image\":{\"id\":\"S1osGeqVm\",\"width\":818,\"height\":522,\"url\":\"https://cdn2.thedogapi.com/images/S1osGeqVm.jpg\"}},{\"weight\":{\"imperial\":\"25 - 27\",\"metric\":\"11 - 12\"},\"height\":{\"imperial\":\"18\",\"metric\":\"46\"},\"id\":135,\"name\":\"Irish Terrier\",\"breed_group\":\"Terrier\",\"life_span\":\"12 - 16 years\",\"temperament\":\"Respectful, Lively, Intelligent, Dominant, Protective, Trainable\",\"reference_image_id\":\"By-hGecVX\",\"image\":{\"id\":\"By-hGecVX\",\"width\":800,\"height\":626,\"url\":\"https://cdn2.thedogapi.com/images/By-hGecVX.jpg\"}},{\"weight\":{\"imperial\":\"105 - 180\",\"metric\":\"48 - 82\"},\"height\":{\"imperial\":\"30 - 35\",\"metric\":\"76 - 89\"},\"id\":137,\"name\":\"Irish Wolfhound\",\"bred_for\":\"Coursing wolves, elk\",\"breed_group\":\"Hound\",\"life_span\":\"6 - 8 years\",\"temperament\":\"Sweet-Tempered, Loyal, Dignified, Patient, Thoughtful, Generous\",\"reference_image_id\":\"Hyd2zgcEX\",\"image\":{\"id\":\"Hyd2zgcEX\",\"width\":1000,\"height\":630,\"url\":\"https://cdn2.thedogapi.com/images/Hyd2zgcEX.jpg\"}},{\"weight\":{\"imperial\":\"7 - 15\",\"metric\":\"3 - 7\"},\"height\":{\"imperial\":\"13 - 15\",\"metric\":\"33 - 38\"},\"id\":138,\"name\":\"Italian Greyhound\",\"bred_for\":\"Lapdog\",\"breed_group\":\"Toy\",\"life_span\":\"12 - 15 years\",\"temperament\":\"Mischievous, Affectionate, Agile, Athletic, Companionable, Intelligent\",\"reference_image_id\":\"SJAnzg9NX\",\"image\":{\"id\":\"SJAnzg9NX\",\"width\":640,\"height\":377,\"url\":\"https://cdn2.thedogapi.com/images/SJAnzg9NX.jpg\"}},{\"weight\":{\"imperial\":\"4 - 9\",\"metric\":\"2 - 4\"},\"height\":{\"imperial\":\"8 - 11\",\"metric\":\"20 - 28\"},\"id\":140,\"name\":\"Japanese Chin\",\"bred_for\":\"Lapdog\",\"breed_group\":\"Toy\",\"life_span\":\"12 - 14 years\",\"temperament\":\"Alert, Loyal, Independent, Intelligent, Loving, Cat-like\",\"reference_image_id\":\"r1H6feqEm\",\"image\":{\"id\":\"r1H6feqEm\",\"width\":900,\"height\":581,\"url\":\"https://cdn2.thedogapi.com/images/r1H6feqEm.jpg\"}},{\"weight\":{\"imperial\":\"15 - 19\",\"metric\":\"7 - 9\"},\"height\":{\"imperial\":\"12 - 15\",\"metric\":\"30 - 38\"},\"id\":141,\"name\":\"Japanese Spitz\",\"bred_for\":\"Companion\",\"life_span\":\"10 – 16 years\",\"temperament\":\"Affectionate, Obedient, Playful, Companionable, Intelligent, Proud\",\"reference_image_id\":\"HksaMxqNX\",\"image\":{\"id\":\"HksaMxqNX\",\"width\":600,\"height\":351,\"url\":\"https://cdn2.thedogapi.com/images/HksaMxqNX.jpg\"}},{\"weight\":{\"imperial\":\"35 - 45\",\"metric\":\"16 - 20\"},\"height\":{\"imperial\":\"17 - 18\",\"metric\":\"43 - 46\"},\"id\":142,\"name\":\"Keeshond\",\"bred_for\":\"Barge watchdog\",\"breed_group\":\"Non-Sporting\",\"life_span\":\"12 - 15 years\",\"temperament\":\"Agile, Obedient, Playful, Quick, Sturdy, Bright\",\"reference_image_id\":\"S1GAGg9Vm\",\"image\":{\"id\":\"S1GAGg9Vm\",\"width\":1024,\"height\":683,\"url\":\"https://cdn2.thedogapi.com/images/S1GAGg9Vm.jpg\"}},{\"weight\":{\"imperial\":\"80 - 100\",\"metric\":\"36 - 45\"},\"height\":{\"imperial\":\"25.5 - 27.5\",\"metric\":\"65 - 70\"},\"id\":144,\"name\":\"Komondor\",\"bred_for\":\"Sheep guardian\",\"breed_group\":\"Working\",\"life_span\":\"10 - 12 years\",\"temperament\":\"Steady, Fearless, Affectionate, Independent, Gentle, Calm\",\"reference_image_id\":\"Bko0fl547\",\"image\":{\"id\":\"Bko0fl547\",\"width\":1030,\"height\":772,\"url\":\"https://cdn2.thedogapi.com/images/Bko0fl547.jpg\"}},{\"weight\":{\"imperial\":\"20 - 30\",\"metric\":\"9 - 14\"},\"height\":{\"imperial\":\"14 - 16\",\"metric\":\"36 - 41\"},\"id\":145,\"name\":\"Kooikerhondje\",\"bred_for\":\"Luring ducks into traps - \\\\\"tolling\\\\\"\",\"breed_group\":\"Sporting\",\"life_span\":\"12 - 15 years\",\"temperament\":\"Benevolent, Agile, Alert, Intelligent, Active, Territorial\",\"reference_image_id\":\"kOMy84GQE\",\"image\":{\"id\":\"kOMy84GQE\",\"width\":1080,\"height\":1080,\"url\":\"https://cdn2.thedogapi.com/images/kOMy84GQE.jpg\"}},{\"weight\":{\"imperial\":\"70 - 115\",\"metric\":\"32 - 52\"},\"height\":{\"imperial\":\"26 - 30\",\"metric\":\"66 - 76\"},\"id\":147,\"name\":\"Kuvasz\",\"bred_for\":\"Guardian, hunting large game\",\"breed_group\":\"Working\",\"life_span\":\"8 - 10 years\",\"temperament\":\"Clownish, Loyal, Patient, Independent, Intelligent, Protective\",\"reference_image_id\":\"BykZ7ecVX\",\"image\":{\"id\":\"BykZ7ecVX\",\"width\":960,\"height\":768,\"url\":\"https://cdn2.thedogapi.com/images/BykZ7ecVX.jpg\"}},{\"weight\":{\"imperial\":\"55 - 80\",\"metric\":\"25 - 36\"},\"height\":{\"imperial\":\"21.5 - 24.5\",\"metric\":\"55 - 62\"},\"id\":149,\"name\":\"Labrador Retriever\",\"bred_for\":\"Water retrieving\",\"breed_group\":\"Sporting\",\"life_span\":\"10 - 13 years\",\"temperament\":\"Kind, Outgoing, Agile, Gentle, Intelligent, Trusting, Even Tempered\",\"reference_image_id\":\"B1uW7l5VX\",\"image\":{\"id\":\"B1uW7l5VX\",\"width\":992,\"height\":667,\"url\":\"https://cdn2.thedogapi.com/images/B1uW7l5VX.jpg\"}},{\"weight\":{\"imperial\":\"24 - 35\",\"metric\":\"11 - 16\"},\"height\":{\"imperial\":\"16 - 19\",\"metric\":\"41 - 48\"},\"id\":151,\"name\":\"Lagotto Romagnolo\",\"bred_for\":\"Water retrieval dog in the marshes of Romagna\",\"breed_group\":\"Sporting\",\"life_span\":\"14 - 16 years\",\"temperament\":\"Keen, Loyal, Companionable, Loving, Active, Trainable\",\"reference_image_id\":\"ryzzmgqE7\",\"image\":{\"id\":\"ryzzmgqE7\",\"width\":1600,\"height\":1200,\"url\":\"https://cdn2.thedogapi.com/images/ryzzmgqE7.jpg\"}},{\"weight\":{\"imperial\":\"6 - 13\",\"metric\":\"3 - 6\"},\"height\":{\"imperial\":\"10 - 12\",\"metric\":\"25 - 30\"},\"id\":153,\"name\":\"Lancashire Heeler\",\"bred_for\":\"Cattle herding, Ratting, Driving cattle to market.\",\"life_span\":\"12 – 15 years\",\"temperament\":\"Clever, Friendly, Alert, Intelligent\",\"reference_image_id\":\"S1RGml5Em\",\"image\":{\"id\":\"S1RGml5Em\",\"width\":680,\"height\":453,\"url\":\"https://cdn2.thedogapi.com/images/S1RGml5Em.jpg\"}},{\"weight\":{\"imperial\":\"120 - 170\",\"metric\":\"54 - 77\"},\"height\":{\"imperial\":\"25.5 - 31.5\",\"metric\":\"65 - 80\"},\"id\":155,\"name\":\"Leonberger\",\"bred_for\":\"Guardian, appearance.\",\"breed_group\":\"Working\",\"life_span\":\"6 - 8 years\",\"temperament\":\"Obedient, Fearless, Loyal, Companionable, Adaptable, Loving\",\"reference_image_id\":\"ByrmQlqVm\",\"image\":{\"id\":\"ByrmQlqVm\",\"width\":1024,\"height\":694,\"url\":\"https://cdn2.thedogapi.com/images/ByrmQlqVm.jpg\"}},{\"weight\":{\"imperial\":\"12 - 18\",\"metric\":\"5 - 8\"},\"height\":{\"imperial\":\"10 - 11\",\"metric\":\"25 - 28\"},\"id\":156,\"name\":\"Lhasa Apso\",\"bred_for\":\"Guarding inside the home, companion\",\"breed_group\":\"Non-Sporting\",\"life_span\":\"12 - 15 years\",\"temperament\":\"Steady, Fearless, Friendly, Devoted, Assertive, Spirited, Energetic, Lively, Alert, Obedient, Playful, Intelligent\",\"reference_image_id\":\"SJp7Qe5EX\",\"image\":{\"id\":\"SJp7Qe5EX\",\"width\":680,\"height\":444,\"url\":\"https://cdn2.thedogapi.com/images/SJp7Qe5EX.jpg\"}},{\"weight\":{\"imperial\":\"4 - 7\",\"metric\":\"2 - 3\"},\"height\":{\"imperial\":\"8 - 10\",\"metric\":\"20 - 25\"},\"id\":161,\"name\":\"Maltese\",\"bred_for\":\"Lapdog\",\"breed_group\":\"Toy\",\"life_span\":\"15 - 18 years\",\"temperament\":\"Playful, Docile, Fearless, Affectionate, Sweet-Tempered, Lively, Responsive, Easygoing, Gentle, Intelligent, Active\",\"reference_image_id\":\"B1SV7gqN7\",\"image\":{\"id\":\"B1SV7gqN7\",\"width\":680,\"height\":453,\"url\":\"https://cdn2.thedogapi.com/images/B1SV7gqN7.jpg\"}},{\"weight\":{\"imperial\":\"20 - 40\",\"metric\":\"9 - 18\"},\"height\":{\"imperial\":\"13 - 18\",\"metric\":\"33 - 46\"},\"id\":165,\"name\":\"Miniature American Shepherd\",\"breed_group\":\"Herding\",\"life_span\":\"12 - 15 years\",\"temperament\":\"Energetic, Loyal, Intelligent, Trainable\",\"reference_image_id\":\"BkHHQgcN7\",\"image\":{\"id\":\"BkHHQgcN7\",\"width\":920,\"height\":640,\"url\":\"https://cdn2.thedogapi.com/images/BkHHQgcN7.jpg\"}},{\"weight\":{\"imperial\":\"8 - 11\",\"metric\":\"4 - 5\"},\"height\":{\"imperial\":\"10 - 12.5\",\"metric\":\"25 - 32\"},\"id\":167,\"name\":\"Miniature Pinscher\",\"bred_for\":\"Small vermin hunting\",\"breed_group\":\"Toy\",\"life_span\":\"15 years\",\"temperament\":\"Clever, Outgoing, Friendly, Energetic, Responsive, Playful\",\"reference_image_id\":\"Hy3H7g94X\",\"image\":{\"id\":\"Hy3H7g94X\",\"width\":1500,\"height\":1125,\"url\":\"https://cdn2.thedogapi.com/images/Hy3H7g94X.jpg\"}},{\"weight\":{\"imperial\":\"11 - 20\",\"metric\":\"5 - 9\"},\"height\":{\"imperial\":\"12 - 14\",\"metric\":\"30 - 36\"},\"id\":168,\"name\":\"Miniature Schnauzer\",\"bred_for\":\"Ratting\",\"breed_group\":\"Terrier\",\"life_span\":\"12 - 14 years\",\"temperament\":\"Fearless, Friendly, Spirited, Alert, Obedient, Intelligent\",\"reference_image_id\":\"SJIUQl9NX\",\"image\":{\"id\":\"SJIUQl9NX\",\"width\":800,\"height\":533,\"url\":\"https://cdn2.thedogapi.com/images/SJIUQl9NX.jpg\"}},{\"weight\":{\"imperial\":\"100 - 150\",\"metric\":\"45 - 68\"},\"height\":{\"imperial\":\"26 - 28\",\"metric\":\"66 - 71\"},\"id\":171,\"name\":\"Newfoundland\",\"bred_for\":\"All purpose water dog, fishing aid\",\"breed_group\":\"Working\",\"life_span\":\"8 - 10 years\",\"temperament\":\"Sweet-Tempered, Gentle, Trainable\",\"reference_image_id\":\"Sk4DXl54m\",\"image\":{\"id\":\"Sk4DXl54m\",\"width\":1174,\"height\":986,\"url\":\"https://cdn2.thedogapi.com/images/Sk4DXl54m.jpg\"}},{\"weight\":{\"imperial\":\"11 - 12\",\"metric\":\"5 - 5\"},\"height\":{\"imperial\":\"9 - 10\",\"metric\":\"23 - 25\"},\"id\":172,\"name\":\"Norfolk Terrier\",\"bred_for\":\"Ratting, fox bolting\",\"breed_group\":\"Terrier\",\"life_span\":\"12 - 15 years\",\"temperament\":\"Self-confidence, Fearless, Spirited, Companionable, Happy, Lovable\",\"reference_image_id\":\"B1ADQg94X\",\"image\":{\"id\":\"B1ADQg94X\",\"width\":1468,\"height\":1092,\"url\":\"https://cdn2.thedogapi.com/images/B1ADQg94X.jpg\"}},{\"weight\":{\"imperial\":\"11 - 12\",\"metric\":\"5 - 5\"},\"height\":{\"imperial\":\"10\",\"metric\":\"25\"},\"id\":176,\"name\":\"Norwich Terrier\",\"bred_for\":\"Ratting, fox bolting\",\"breed_group\":\"Terrier\",\"life_span\":\"12 - 15 years\",\"temperament\":\"Hardy, Affectionate, Energetic, Sensitive, Intelligent\",\"reference_image_id\":\"BkgKXlqE7\",\"image\":{\"id\":\"BkgKXlqE7\",\"width\":1140,\"height\":640,\"url\":\"https://cdn2.thedogapi.com/images/BkgKXlqE7.jpg\"}},{\"weight\":{\"imperial\":\"35 - 50\",\"metric\":\"16 - 23\"},\"height\":{\"imperial\":\"17 - 21\",\"metric\":\"43 - 53\"},\"id\":177,\"name\":\"Nova Scotia Duck Tolling Retriever\",\"breed_group\":\"Sporting\",\"life_span\":\"12 - 14 years\",\"temperament\":\"Outgoing, Alert, Patient, Intelligent, Loving\",\"reference_image_id\":\"SyYtQe5V7\",\"image\":{\"id\":\"SyYtQe5V7\",\"width\":630,\"height\":420,\"url\":\"https://cdn2.thedogapi.com/images/SyYtQe5V7.jpg\"}},{\"weight\":{\"imperial\":\"60 - 100\",\"metric\":\"27 - 45\"},\"height\":{\"imperial\":\"21\",\"metric\":\"53\"},\"id\":178,\"name\":\"Old English Sheepdog\",\"bred_for\":\"Driving sheep, cattle\",\"breed_group\":\"Herding\",\"life_span\":\"10 - 12 years\",\"temperament\":\"Sociable, Bubbly, Playful, Adaptable, Intelligent, Loving\",\"reference_image_id\":\"HkZ57lq4m\",\"image\":{\"id\":\"HkZ57lq4m\",\"width\":1334,\"height\":889,\"url\":\"https://cdn2.thedogapi.com/images/HkZ57lq4m.jpg\"}},{\"weight\":{\"imperial\":\"65 – 85\",\"metric\":\"NaN\"},\"height\":{\"imperial\":\"15 - 19\",\"metric\":\"38 - 48\"},\"id\":179,\"name\":\"Olde English Bulldogge\",\"life_span\":\"9 – 14 years\",\"temperament\":\"Friendly, Alert, Confident, Loving, Courageous, Strong\",\"reference_image_id\":\"B1d5me547\",\"image\":{\"id\":\"B1d5me547\",\"width\":554,\"height\":546,\"url\":\"https://cdn2.thedogapi.com/images/B1d5me547.jpg\"}},{\"weight\":{\"imperial\":\"3 - 12\",\"metric\":\"1 - 5\"},\"height\":{\"imperial\":\"8 - 11\",\"metric\":\"20 - 28\"},\"id\":181,\"name\":\"Papillon\",\"bred_for\":\"Lapdog\",\"breed_group\":\"Toy\",\"life_span\":\"13 - 17 years\",\"temperament\":\"Hardy, Friendly, Energetic, Alert, Intelligent, Happy\",\"reference_image_id\":\"SkJj7e547\",\"image\":{\"id\":\"SkJj7e547\",\"width\":960,\"height\":765,\"url\":\"https://cdn2.thedogapi.com/images/SkJj7e547.jpg\"}},{\"weight\":{\"imperial\":\"14\",\"metric\":\"6\"},\"height\":{\"imperial\":\"6 - 9\",\"metric\":\"15 - 23\"},\"id\":183,\"name\":\"Pekingese\",\"bred_for\":\"Lapdog\",\"breed_group\":\"Toy\",\"life_span\":\"14 - 18 years\",\"temperament\":\"Opinionated, Good-natured, Stubborn, Affectionate, Aggressive, Intelligent\",\"reference_image_id\":\"ByIiml9Nm\",\"image\":{\"id\":\"ByIiml9Nm\",\"width\":960,\"height\":640,\"url\":\"https://cdn2.thedogapi.com/images/ByIiml9Nm.jpg\"}},{\"weight\":{\"imperial\":\"25 - 30\",\"metric\":\"11 - 14\"},\"height\":{\"imperial\":\"10 - 12\",\"metric\":\"25 - 30\"},\"id\":184,\"name\":\"Pembroke Welsh Corgi\",\"bred_for\":\"Driving stock to market in northern Wales\",\"breed_group\":\"Herding\",\"life_span\":\"12 - 14 years\",\"temperament\":\"Tenacious, Outgoing, Friendly, Bold, Playful, Protective\",\"reference_image_id\":\"rJ6iQeqEm\",\"image\":{\"id\":\"rJ6iQeqEm\",\"width\":1280,\"height\":720,\"url\":\"https://cdn2.thedogapi.com/images/rJ6iQeqEm.jpg\"}},{\"weight\":{\"imperial\":\"88 - 110\",\"metric\":\"40 - 50\"},\"height\":{\"imperial\":\"22 - 25.5\",\"metric\":\"56 - 65\"},\"id\":185,\"name\":\"Perro de Presa Canario\",\"breed_group\":\"Working\",\"life_span\":\"10 - 12 years\",\"temperament\":\"Strong Willed, Suspicious, Gentle, Dominant, Calm\",\"reference_image_id\":\"S1V3Qeq4X\",\"image\":{\"id\":\"S1V3Qeq4X\",\"width\":600,\"height\":483,\"url\":\"https://cdn2.thedogapi.com/images/S1V3Qeq4X.jpg\"}},{\"weight\":{\"imperial\":\"40 - 60\",\"metric\":\"18 - 27\"},\"height\":{\"imperial\":\"21 - 25\",\"metric\":\"53 - 64\"},\"id\":188,\"name\":\"Pharaoh Hound\",\"bred_for\":\"Hunting rabbits\",\"breed_group\":\"Hound\",\"life_span\":\"12 - 14 years\",\"temperament\":\"Affectionate, Sociable, Playful, Intelligent, Active, Trainable\",\"reference_image_id\":\"Byz6mgqEQ\",\"image\":{\"id\":\"Byz6mgqEQ\",\"width\":3918,\"height\":2938,\"url\":\"https://cdn2.thedogapi.com/images/Byz6mgqEQ.jpg\"}},{\"weight\":{\"imperial\":\"40 - 60\",\"metric\":\"18 - 27\"},\"height\":{\"imperial\":\"20 - 25\",\"metric\":\"51 - 64\"},\"id\":189,\"name\":\"Plott\",\"bred_for\":\"Hunting big-game like Boar.\",\"breed_group\":\"Hound\",\"life_span\":\"12 - 14 years\",\"temperament\":\"Bold, Alert, Loyal, Intelligent\",\"reference_image_id\":\"B1i67l5VQ\",\"image\":{\"id\":\"B1i67l5VQ\",\"width\":640,\"height\":480,\"url\":\"https://cdn2.thedogapi.com/images/B1i67l5VQ.jpg\"}},{\"weight\":{\"imperial\":\"3 - 7\",\"metric\":\"1 - 3\"},\"height\":{\"imperial\":\"8 - 12\",\"metric\":\"20 - 30\"},\"id\":193,\"name\":\"Pomeranian\",\"bred_for\":\"Companion\",\"breed_group\":\"Toy\",\"life_span\":\"15 years\",\"temperament\":\"Extroverted, Friendly, Sociable, Playful, Intelligent, Active\",\"reference_image_id\":\"HJd0XecNX\",\"image\":{\"id\":\"HJd0XecNX\",\"width\":800,\"height\":532,\"url\":\"https://cdn2.thedogapi.com/images/HJd0XecNX.jpg\"}},{\"weight\":{\"imperial\":\"15 - 17\",\"metric\":\"7 - 8\"},\"height\":{\"imperial\":\"11 - 15\",\"metric\":\"28 - 38\"},\"id\":196,\"name\":\"Poodle (Miniature)\",\"life_span\":\"12 – 15 years\",\"reference_image_id\":\"Hkxk4ecVX\",\"image\":{\"id\":\"Hkxk4ecVX\",\"width\":1280,\"height\":853,\"url\":\"https://cdn2.thedogapi.com/images/Hkxk4ecVX.jpg\"}},{\"weight\":{\"imperial\":\"6 - 9\",\"metric\":\"3 - 4\"},\"height\":{\"imperial\":\"9 - 11\",\"metric\":\"23 - 28\"},\"id\":197,\"name\":\"Poodle (Toy)\",\"life_span\":\"18 years\",\"reference_image_id\":\"rJFJVxc4m\",\"image\":{\"id\":\"rJFJVxc4m\",\"width\":620,\"height\":403,\"url\":\"https://cdn2.thedogapi.com/images/rJFJVxc4m.jpg\"}},{\"weight\":{\"imperial\":\"14 - 18\",\"metric\":\"6 - 8\"},\"height\":{\"imperial\":\"10 - 12\",\"metric\":\"25 - 30\"},\"id\":201,\"name\":\"Pug\",\"bred_for\":\"Lapdog\",\"breed_group\":\"Toy\",\"life_span\":\"12 - 14 years\",\"temperament\":\"Docile, Clever, Charming, Stubborn, Sociable, Playful, Quiet, Attentive\",\"reference_image_id\":\"HyJvcl9N7\",\"image\":{\"id\":\"HyJvcl9N7\",\"width\":800,\"height\":600,\"url\":\"https://cdn2.thedogapi.com/images/HyJvcl9N7.jpg\"}},{\"weight\":{\"imperial\":\"25 - 35\",\"metric\":\"11 - 16\"},\"height\":{\"imperial\":\"16 - 17\",\"metric\":\"41 - 43\"},\"id\":204,\"name\":\"Puli\",\"bred_for\":\"Herding\",\"breed_group\":\"Herding\",\"life_span\":\"12 - 16 Years years\",\"temperament\":\"Energetic, Agile, Loyal, Obedient, Intelligent, Faithful\",\"reference_image_id\":\"ryPgVl5N7\",\"image\":{\"id\":\"ryPgVl5N7\",\"width\":1199,\"height\":829,\"url\":\"https://cdn2.thedogapi.com/images/ryPgVl5N7.jpg\"}},{\"weight\":{\"imperial\":\"18 - 33\",\"metric\":\"8 - 15\"},\"height\":{\"imperial\":\"15 - 18.5\",\"metric\":\"38 - 47\"},\"id\":205,\"name\":\"Pumi\",\"breed_group\":\"Herding\",\"life_span\":\"13 - 15 years\",\"temperament\":\"Lively, Reserved, Intelligent, Active, Protective, Vocal\",\"reference_image_id\":\"SyRe4xcN7\",\"image\":{\"id\":\"SyRe4xcN7\",\"width\":695,\"height\":391,\"url\":\"https://cdn2.thedogapi.com/images/SyRe4xcN7.jpg\"}},{\"weight\":{\"imperial\":\"8 - 25\",\"metric\":\"4 - 11\"},\"height\":{\"imperial\":\"10 - 13\",\"metric\":\"25 - 33\"},\"id\":207,\"name\":\"Rat Terrier\",\"breed_group\":\"Terrier\",\"life_span\":\"12 - 18 years\",\"temperament\":\"Affectionate, Lively, Inquisitive, Alert, Intelligent, Loving\",\"reference_image_id\":\"HkXWNl9E7\",\"image\":{\"id\":\"HkXWNl9E7\",\"width\":825,\"height\":689,\"url\":\"https://cdn2.thedogapi.com/images/HkXWNl9E7.jpg\"}},{\"weight\":{\"imperial\":\"45 - 80\",\"metric\":\"20 - 36\"},\"height\":{\"imperial\":\"21 - 27\",\"metric\":\"53 - 69\"},\"id\":208,\"name\":\"Redbone Coonhound\",\"bred_for\":\"Hunting raccoon, deer, bear, and cougar.\",\"breed_group\":\"Hound\",\"life_span\":\"10 - 12 years\",\"temperament\":\"Affectionate, Energetic, Independent, Companionable, Familial, Unflappable\",\"reference_image_id\":\"HJMzEl5N7\",\"image\":{\"id\":\"HJMzEl5N7\",\"width\":1537,\"height\":1323,\"url\":\"https://cdn2.thedogapi.com/images/HJMzEl5N7.jpg\"}},{\"weight\":{\"imperial\":\"75 - 80\",\"metric\":\"34 - 36\"},\"height\":{\"imperial\":\"24 - 27\",\"metric\":\"61 - 69\"},\"id\":209,\"name\":\"Rhodesian Ridgeback\",\"bred_for\":\"Big game hunting, guarding\",\"breed_group\":\"Hound\",\"life_span\":\"10 - 12 years\",\"temperament\":\"Strong Willed, Mischievous, Loyal, Dignified, Sensitive, Intelligent\",\"reference_image_id\":\"By9zNgqE7\",\"image\":{\"id\":\"By9zNgqE7\",\"width\":1000,\"height\":667,\"url\":\"https://cdn2.thedogapi.com/images/By9zNgqE7.jpg\"}},{\"weight\":{\"imperial\":\"75 - 110\",\"metric\":\"34 - 50\"},\"height\":{\"imperial\":\"22 - 27\",\"metric\":\"56 - 69\"},\"id\":210,\"name\":\"Rottweiler\",\"bred_for\":\"Cattle drover, guardian, draft\",\"breed_group\":\"Working\",\"life_span\":\"8 - 10 years\",\"temperament\":\"Steady, Good-natured, Fearless, Devoted, Alert, Obedient, Confident, Self-assured, Calm, Courageous\",\"reference_image_id\":\"r1xXEgcNX\",\"image\":{\"id\":\"r1xXEgcNX\",\"width\":736,\"height\":595,\"url\":\"https://cdn2.thedogapi.com/images/r1xXEgcNX.jpg\"}},{\"weight\":{\"imperial\":\"3 - 6\",\"metric\":\"1 - 3\"},\"height\":{\"imperial\":\"7.5 - 10.5\",\"metric\":\"19 - 27\"},\"id\":211,\"name\":\"Russian Toy\",\"breed_group\":\"Toy\",\"life_span\":\"10 - 12 years\",\"reference_image_id\":\"HkP7Vxc4Q\",\"image\":{\"id\":\"HkP7Vxc4Q\",\"width\":645,\"height\":380,\"url\":\"https://cdn2.thedogapi.com/images/HkP7Vxc4Q.jpg\"}},{\"weight\":{\"imperial\":\"130 - 180\",\"metric\":\"59 - 82\"},\"height\":{\"imperial\":\"25.5 - 27.5\",\"metric\":\"65 - 70\"},\"id\":212,\"name\":\"Saint Bernard\",\"bred_for\":\"Draft, search, rescue\",\"breed_group\":\"Working\",\"life_span\":\"7 - 10 years\",\"temperament\":\"Friendly, Lively, Gentle, Watchful, Calm\",\"reference_image_id\":\"_Qf9nfRzL\",\"image\":{\"id\":\"_Qf9nfRzL\",\"width\":1080,\"height\":1084,\"url\":\"https://cdn2.thedogapi.com/images/_Qf9nfRzL.png\"}},{\"weight\":{\"imperial\":\"35 - 65\",\"metric\":\"16 - 29\"},\"height\":{\"imperial\":\"23 - 28\",\"metric\":\"58 - 71\"},\"id\":213,\"name\":\"Saluki\",\"bred_for\":\"Coursing gazelle and hare\",\"breed_group\":\"Hound\",\"life_span\":\"12 - 14 years\",\"temperament\":\"Aloof, Reserved, Intelligent, Quiet\",\"reference_image_id\":\"fjFIuehNo\",\"image\":{\"id\":\"fjFIuehNo\",\"width\":750,\"height\":450,\"url\":\"https://cdn2.thedogapi.com/images/fjFIuehNo.jpg\"}},{\"weight\":{\"imperial\":\"50 - 60\",\"metric\":\"23 - 27\"},\"height\":{\"imperial\":\"19 - 23.5\",\"metric\":\"48 - 60\"},\"id\":214,\"name\":\"Samoyed\",\"bred_for\":\"Herding reindeer, guardian, draft\",\"breed_group\":\"Working\",\"life_span\":\"12 - 14 years\",\"temperament\":\"Stubborn, Friendly, Sociable, Lively, Alert, Playful\",\"reference_image_id\":\"S1T8Ee9Nm\",\"image\":{\"id\":\"S1T8Ee9Nm\",\"width\":1200,\"height\":797,\"url\":\"https://cdn2.thedogapi.com/images/S1T8Ee9Nm.jpg\"}},{\"weight\":{\"imperial\":\"10 - 16\",\"metric\":\"5 - 7\"},\"height\":{\"imperial\":\"10 - 13\",\"metric\":\"25 - 33\"},\"id\":216,\"name\":\"Schipperke\",\"bred_for\":\"Barge watchdog\",\"breed_group\":\"Non-Sporting\",\"life_span\":\"13 - 15 years\",\"temperament\":\"Fearless, Agile, Curious, Independent, Confident, Faithful\",\"reference_image_id\":\"SyBvVgc47\",\"image\":{\"id\":\"SyBvVgc47\",\"width\":1024,\"height\":681,\"url\":\"https://cdn2.thedogapi.com/images/SyBvVgc47.jpg\"}},{\"weight\":{\"imperial\":\"70 - 130\",\"metric\":\"32 - 59\"},\"height\":{\"imperial\":\"28 - 32\",\"metric\":\"71 - 81\"},\"id\":218,\"name\":\"Scottish Deerhound\",\"bred_for\":\"Coursing deer\",\"breed_group\":\"Hound\",\"life_span\":\"8 - 10 years\",\"temperament\":\"Docile, Friendly, Dignified, Gentle\",\"reference_image_id\":\"SkNjqx9NQ\",\"image\":{\"id\":\"SkNjqx9NQ\",\"width\":700,\"height\":480,\"url\":\"https://cdn2.thedogapi.com/images/SkNjqx9NQ.jpg\"}},{\"weight\":{\"imperial\":\"18 - 22\",\"metric\":\"8 - 10\"},\"height\":{\"imperial\":\"10\",\"metric\":\"25\"},\"id\":219,\"name\":\"Scottish Terrier\",\"bred_for\":\"Vermin hunting\",\"breed_group\":\"Terrier\",\"life_span\":\"11 - 13 years\",\"temperament\":\"Feisty, Alert, Independent, Playful, Quick, Self-assured\",\"reference_image_id\":\"Bklnce5NX\",\"image\":{\"id\":\"Bklnce5NX\",\"width\":1280,\"height\":976,\"url\":\"https://cdn2.thedogapi.com/images/Bklnce5NX.jpg\"}},{\"weight\":{\"imperial\":\"30\",\"metric\":\"14\"},\"height\":{\"imperial\":\"13 - 16\",\"metric\":\"33 - 41\"},\"id\":221,\"name\":\"Shetland Sheepdog\",\"bred_for\":\"Sheep herding\",\"breed_group\":\"Herding\",\"life_span\":\"12 - 14 years\",\"temperament\":\"Affectionate, Lively, Responsive, Alert, Loyal, Reserved, Playful, Gentle, Intelligent, Active, Trainable, Strong\",\"reference_image_id\":\"rJa29l9E7\",\"image\":{\"id\":\"rJa29l9E7\",\"width\":824,\"height\":640,\"url\":\"https://cdn2.thedogapi.com/images/rJa29l9E7.jpg\"}},{\"weight\":{\"imperial\":\"17 - 23\",\"metric\":\"8 - 10\"},\"height\":{\"imperial\":\"13.5 - 16.5\",\"metric\":\"34 - 42\"},\"id\":222,\"name\":\"Shiba Inu\",\"bred_for\":\"Hunting in the mountains of Japan, Alert Watchdog\",\"breed_group\":\"Non-Sporting\",\"life_span\":\"12 - 16 years\",\"temperament\":\"Charming, Fearless, Keen, Alert, Confident, Faithful\",\"reference_image_id\":\"Zn3IjPX3f\",\"image\":{\"id\":\"Zn3IjPX3f\",\"width\":1080,\"height\":1080,\"url\":\"https://cdn2.thedogapi.com/images/Zn3IjPX3f.jpg\"}},{\"weight\":{\"imperial\":\"9 - 16\",\"metric\":\"4 - 7\"},\"height\":{\"imperial\":\"8 - 11\",\"metric\":\"20 - 28\"},\"id\":223,\"name\":\"Shih Tzu\",\"bred_for\":\"Lapdog\",\"breed_group\":\"Toy\",\"life_span\":\"10 - 18 years\",\"temperament\":\"Clever, Spunky, Outgoing, Friendly, Affectionate, Lively, Alert, Loyal, Independent, Playful, Gentle, Intelligent, Happy, Active, Courageous\",\"reference_image_id\":\"BkrJjgcV7\",\"image\":{\"id\":\"BkrJjgcV7\",\"width\":800,\"height\":600,\"url\":\"https://cdn2.thedogapi.com/images/BkrJjgcV7.jpg\"}},{\"weight\":{\"imperial\":\"120 - 140\",\"metric\":\"54 - 64\"},\"height\":{\"imperial\":\"26 - 30\",\"metric\":\"66 - 76\"},\"id\":225,\"name\":\"Shiloh Shepherd\",\"bred_for\":\"Swimming, Carrying backpacks, Pulling carts or sleds\",\"life_span\":\"9 – 14 years\",\"temperament\":\"Outgoing, Loyal, Companionable, Gentle, Loving, Trainable\",\"reference_image_id\":\"SJJxjecEX\",\"image\":{\"id\":\"SJJxjecEX\",\"width\":1005,\"height\":803,\"url\":\"https://cdn2.thedogapi.com/images/SJJxjecEX.jpg\"}},{\"weight\":{\"imperial\":\"35 - 60\",\"metric\":\"16 - 27\"},\"height\":{\"imperial\":\"20 - 23.5\",\"metric\":\"51 - 60\"},\"id\":226,\"name\":\"Siberian Husky\",\"bred_for\":\"Sled pulling\",\"breed_group\":\"Working\",\"life_span\":\"12 years\",\"temperament\":\"Outgoing, Friendly, Alert, Gentle, Intelligent\",\"reference_image_id\":\"S17ZilqNm\",\"image\":{\"id\":\"S17ZilqNm\",\"width\":1920,\"height\":1280,\"url\":\"https://cdn2.thedogapi.com/images/S17ZilqNm.jpg\"}},{\"weight\":{\"imperial\":\"8 - 10\",\"metric\":\"4 - 5\"},\"height\":{\"imperial\":\"9 - 10\",\"metric\":\"23 - 25\"},\"id\":228,\"name\":\"Silky Terrier\",\"bred_for\":\"Small vermin hunting, companionship\",\"breed_group\":\"Toy\",\"life_span\":\"12 - 15 years\",\"temperament\":\"Friendly, Responsive, Inquisitive, Alert, Quick, Joyful\",\"reference_image_id\":\"ByzGsl5Nm\",\"image\":{\"id\":\"ByzGsl5Nm\",\"width\":1599,\"height\":1142,\"url\":\"https://cdn2.thedogapi.com/images/ByzGsl5Nm.jpg\"}},{\"weight\":{\"imperial\":\"up - 18\",\"metric\":\"NaN - 8\"},\"height\":{\"imperial\":\"15.5\",\"metric\":\"39\"},\"id\":232,\"name\":\"Smooth Fox Terrier\",\"bred_for\":\"Fox bolting\",\"breed_group\":\"Terrier\",\"life_span\":\"12 - 14 years\",\"temperament\":\"Fearless, Affectionate, Alert, Playful, Intelligent, Active\",\"reference_image_id\":\"Syszjx9Em\",\"image\":{\"id\":\"Syszjx9Em\",\"width\":1600,\"height\":1031,\"url\":\"https://cdn2.thedogapi.com/images/Syszjx9Em.jpg\"}},{\"weight\":{\"imperial\":\"30 - 40\",\"metric\":\"14 - 18\"},\"height\":{\"imperial\":\"16 - 18\",\"metric\":\"41 - 46\"},\"id\":233,\"name\":\"Soft Coated Wheaten Terrier\",\"bred_for\":\"Vermin hunting, guarding, all-around farm helper\",\"breed_group\":\"Terrier\",\"life_span\":\"12 - 15 years\",\"temperament\":\"Affectionate, Spirited, Energetic, Playful, Intelligent, Faithful\",\"reference_image_id\":\"HJHmix5NQ\",\"image\":{\"id\":\"HJHmix5NQ\",\"width\":1200,\"height\":800,\"url\":\"https://cdn2.thedogapi.com/images/HJHmix5NQ.jpg\"}},{\"weight\":{\"imperial\":\"30 - 50\",\"metric\":\"14 - 23\"},\"height\":{\"imperial\":\"16 - 20\",\"metric\":\"41 - 51\"},\"id\":235,\"name\":\"Spanish Water Dog\",\"bred_for\":\"Herding flocks of sheep and goats from one pasture to another\",\"breed_group\":\"Sporting\",\"life_span\":\"12 - 15 years\",\"temperament\":\"Trainable, Diligent, Affectionate, Loyal, Athletic, Intelligent\",\"reference_image_id\":\"HJf4jl9VX\",\"image\":{\"id\":\"HJf4jl9VX\",\"width\":1200,\"height\":922,\"url\":\"https://cdn2.thedogapi.com/images/HJf4jl9VX.jpg\"}},{\"weight\":{\"imperial\":\"61 - 85\",\"metric\":\"28 - 39\"},\"height\":{\"imperial\":\"22.5 - 27.5\",\"metric\":\"57 - 70\"},\"id\":236,\"name\":\"Spinone Italiano\",\"breed_group\":\"Sporting\",\"life_span\":\"10 - 12 years\",\"temperament\":\"Docile, Friendly, Affectionate, Loyal, Patient, Gentle\",\"reference_image_id\":\"rk5Eoe5Nm\",\"image\":{\"id\":\"rk5Eoe5Nm\",\"width\":1030,\"height\":772,\"url\":\"https://cdn2.thedogapi.com/images/rk5Eoe5Nm.jpg\"}},{\"weight\":{\"imperial\":\"24 - 38\",\"metric\":\"11 - 17\"},\"height\":{\"imperial\":\"14 - 16\",\"metric\":\"36 - 41\"},\"id\":238,\"name\":\"Staffordshire Bull Terrier\",\"bred_for\":\"\",\"breed_group\":\"Terrier\",\"life_span\":\"12 - 14 years\",\"temperament\":\"Reliable, Fearless, Bold, Affectionate, Loyal, Intelligent, Courageous\",\"reference_image_id\":\"H1zSie9V7\",\"image\":{\"id\":\"H1zSie9V7\",\"width\":1280,\"height\":852,\"url\":\"https://cdn2.thedogapi.com/images/H1zSie9V7.jpg\"}},{\"weight\":{\"imperial\":\"30 - 50\",\"metric\":\"14 - 23\"},\"height\":{\"imperial\":\"17.5 - 19.5\",\"metric\":\"44 - 50\"},\"id\":239,\"name\":\"Standard Schnauzer\",\"bred_for\":\"Ratting, guarding\",\"breed_group\":\"Working\",\"life_span\":\"13 - 15 years\",\"temperament\":\"Trainable, Good-natured, Devoted, Lively, Playful, Intelligent\",\"reference_image_id\":\"tmzeu6ID_\",\"image\":{\"id\":\"tmzeu6ID_\",\"width\":650,\"height\":585,\"url\":\"https://cdn2.thedogapi.com/images/tmzeu6ID_.jpg\"}},{\"weight\":{\"imperial\":\"20 - 30\",\"metric\":\"9 - 14\"},\"height\":{\"imperial\":\"11.5 - 13.5\",\"metric\":\"29 - 34\"},\"id\":242,\"name\":\"Swedish Vallhund\",\"breed_group\":\"Herding\",\"life_span\":\"12 - 14 years\",\"temperament\":\"Fearless, Friendly, Energetic, Alert, Intelligent, Watchful\",\"reference_image_id\":\"HJ-Dix94Q\",\"image\":{\"id\":\"HJ-Dix94Q\",\"width\":1280,\"height\":851,\"url\":\"https://cdn2.thedogapi.com/images/HJ-Dix94Q.jpg\"}},{\"weight\":{\"imperial\":\"35 - 55\",\"metric\":\"16 - 25\"},\"height\":{\"imperial\":\"20 - 24\",\"metric\":\"51 - 61\"},\"id\":243,\"name\":\"Thai Ridgeback\",\"breed_group\":\"Hound\",\"life_span\":\"10 - 12 years\",\"temperament\":\"Protective, Loyal, Independent, Intelligent, Loving, Familial\",\"reference_image_id\":\"zv89hR-O8\",\"image\":{\"id\":\"zv89hR-O8\",\"width\":1080,\"height\":720,\"url\":\"https://cdn2.thedogapi.com/images/zv89hR-O8.jpg\"}},{\"weight\":{\"imperial\":\"85 - 140\",\"metric\":\"39 - 64\"},\"height\":{\"imperial\":\"24 - 26\",\"metric\":\"61 - 66\"},\"id\":244,\"name\":\"Tibetan Mastiff\",\"breed_group\":\"Working\",\"life_span\":\"10 - 14 years\",\"temperament\":\"Strong Willed, Tenacious, Aloof, Stubborn, Intelligent, Protective\",\"reference_image_id\":\"SkM9sec47\",\"image\":{\"id\":\"SkM9sec47\",\"width\":1600,\"height\":1375,\"url\":\"https://cdn2.thedogapi.com/images/SkM9sec47.jpg\"}},{\"weight\":{\"imperial\":\"9 - 15\",\"metric\":\"4 - 7\"},\"height\":{\"imperial\":\"10\",\"metric\":\"25\"},\"id\":245,\"name\":\"Tibetan Spaniel\",\"breed_group\":\"Non-Sporting\",\"life_span\":\"12 - 15 years\",\"temperament\":\"Willful, Aloof, Assertive, Independent, Playful, Intelligent, Happy\",\"reference_image_id\":\"Hyjcol947\",\"image\":{\"id\":\"Hyjcol947\",\"width\":1023,\"height\":825,\"url\":\"https://cdn2.thedogapi.com/images/Hyjcol947.jpg\"}},{\"weight\":{\"imperial\":\"20 - 24\",\"metric\":\"9 - 11\"},\"height\":{\"imperial\":\"14 - 17\",\"metric\":\"36 - 43\"},\"id\":246,\"name\":\"Tibetan Terrier\",\"bred_for\":\"Good luck charms, mascots, watchdogs, herding dogs, and companions\",\"breed_group\":\"Non-Sporting\",\"life_span\":\"12 - 15 years\",\"temperament\":\"Affectionate, Energetic, Amiable, Reserved, Gentle, Sensitive\",\"reference_image_id\":\"6f5n_42mB\",\"image\":{\"id\":\"6f5n_42mB\",\"width\":981,\"height\":1226,\"url\":\"https://cdn2.thedogapi.com/images/6f5n_42mB.jpg\"}},{\"weight\":{\"imperial\":\"4 - 9\",\"metric\":\"2 - 4\"},\"height\":{\"imperial\":\"8 - 11\",\"metric\":\"20 - 28\"},\"id\":248,\"name\":\"Toy Fox Terrier\",\"breed_group\":\"Toy\",\"life_span\":\"12 - 15 years\",\"temperament\":\"Friendly, Spirited, Alert, Loyal, Playful, Intelligent\",\"reference_image_id\":\"B17ase9V7\",\"image\":{\"id\":\"B17ase9V7\",\"width\":1200,\"height\":1024,\"url\":\"https://cdn2.thedogapi.com/images/B17ase9V7.jpg\"}},{\"weight\":{\"imperial\":\"45 - 80\",\"metric\":\"20 - 36\"},\"height\":{\"imperial\":\"20 - 27\",\"metric\":\"51 - 69\"},\"id\":250,\"name\":\"Treeing Walker Coonhound\",\"breed_group\":\"Hound\",\"life_span\":\"10 - 13 years\",\"temperament\":\"Clever, Affectionate, Confident, Intelligent, Loving, Trainable\",\"reference_image_id\":\"SkRpsgc47\",\"image\":{\"id\":\"SkRpsgc47\",\"width\":1920,\"height\":1080,\"url\":\"https://cdn2.thedogapi.com/images/SkRpsgc47.jpg\"}},{\"weight\":{\"imperial\":\"50 - 65\",\"metric\":\"23 - 29\"},\"height\":{\"imperial\":\"21 - 24\",\"metric\":\"53 - 61\"},\"id\":251,\"name\":\"Vizsla\",\"bred_for\":\"Pointing and trailing\",\"breed_group\":\"Sporting\",\"life_span\":\"10 - 14 years\",\"temperament\":\"Affectionate, Energetic, Loyal, Gentle, Quiet\",\"reference_image_id\":\"r1o0jx9Em\",\"image\":{\"id\":\"r1o0jx9Em\",\"width\":2269,\"height\":1276,\"url\":\"https://cdn2.thedogapi.com/images/r1o0jx9Em.jpg\"}},{\"weight\":{\"imperial\":\"55 - 90\",\"metric\":\"25 - 41\"},\"height\":{\"imperial\":\"23 - 27\",\"metric\":\"58 - 69\"},\"id\":253,\"name\":\"Weimaraner\",\"bred_for\":\"Large game trailing and versatile gundog\",\"breed_group\":\"Sporting\",\"life_span\":\"12 - 15 years\",\"temperament\":\"Steady, Aloof, Stubborn, Energetic, Alert, Intelligent, Powerful, Fast\",\"reference_image_id\":\"SyU12l9V7\",\"image\":{\"id\":\"SyU12l9V7\",\"width\":901,\"height\":954,\"url\":\"https://cdn2.thedogapi.com/images/SyU12l9V7.jpg\"}},{\"weight\":{\"imperial\":\"35 - 55\",\"metric\":\"16 - 25\"},\"height\":{\"imperial\":\"17 - 19\",\"metric\":\"43 - 48\"},\"id\":254,\"name\":\"Welsh Springer Spaniel\",\"bred_for\":\"Flushing and retrieving birds\",\"breed_group\":\"Sporting\",\"life_span\":\"12 - 15 years\",\"temperament\":\"Stubborn, Friendly, Affectionate, Loyal, Playful, Active\",\"reference_image_id\":\"BJ1gnx5Vm\",\"image\":{\"id\":\"BJ1gnx5Vm\",\"width\":1331,\"height\":944,\"url\":\"https://cdn2.thedogapi.com/images/BJ1gnx5Vm.jpg\"}},{\"weight\":{\"imperial\":\"15 - 22\",\"metric\":\"7 - 10\"},\"height\":{\"imperial\":\"10 - 11\",\"metric\":\"25 - 28\"},\"id\":256,\"name\":\"West Highland White Terrier\",\"bred_for\":\"Fox, badger, vermin hunting\",\"breed_group\":\"Terrier\",\"life_span\":\"15 - 20 years\",\"temperament\":\"Hardy, Friendly, Alert, Independent, Gay, Active, Courageous\",\"reference_image_id\":\"Bkdx2g5Em\",\"image\":{\"id\":\"Bkdx2g5Em\",\"width\":1065,\"height\":1032,\"url\":\"https://cdn2.thedogapi.com/images/Bkdx2g5Em.jpg\"}},{\"weight\":{\"imperial\":\"25 - 35\",\"metric\":\"11 - 16\"},\"height\":{\"imperial\":\"18 - 22\",\"metric\":\"46 - 56\"},\"id\":257,\"name\":\"Whippet\",\"bred_for\":\"Coursing, racing\",\"breed_group\":\"Hound\",\"life_span\":\"12 - 15 years\",\"temperament\":\"Friendly, Affectionate, Lively, Gentle, Intelligent, Quiet\",\"reference_image_id\":\"Hyv-ne94m\",\"image\":{\"id\":\"Hyv-ne94m\",\"width\":1600,\"height\":1071,\"url\":\"https://cdn2.thedogapi.com/images/Hyv-ne94m.jpg\"}},{\"weight\":{\"imperial\":\"60 - 85\",\"metric\":\"27 - 39\"},\"height\":{\"imperial\":\"22 - 25\",\"metric\":\"56 - 64\"},\"id\":258,\"name\":\"White Shepherd\",\"life_span\":\"12 – 14 years\",\"temperament\":\"Self-confidence, Aloof, Fearless, Alert, Companionable, Eager\",\"reference_image_id\":\"r14M3e9E7\",\"image\":{\"id\":\"r14M3e9E7\",\"width\":1200,\"height\":800,\"url\":\"https://cdn2.thedogapi.com/images/r14M3e9E7.jpg\"}},{\"weight\":{\"imperial\":\"15 - 19\",\"metric\":\"7 - 9\"},\"height\":{\"imperial\":\"13 - 16\",\"metric\":\"33 - 41\"},\"id\":259,\"name\":\"Wire Fox Terrier\",\"bred_for\":\"Vermin hunting, fox bolting\",\"life_span\":\"13 – 14 years\",\"history\":\" England\",\"temperament\":\"Fearless, Friendly, Bold, Keen, Alert, Quick\",\"reference_image_id\":\"SJ6f2g9EQ\",\"image\":{\"id\":\"SJ6f2g9EQ\",\"width\":1000,\"height\":795,\"url\":\"https://cdn2.thedogapi.com/images/SJ6f2g9EQ.jpg\"}},{\"weight\":{\"imperial\":\"45 - 70\",\"metric\":\"20 - 32\"},\"height\":{\"imperial\":\"20 - 24\",\"metric\":\"51 - 61\"},\"id\":260,\"name\":\"Wirehaired Pointing Griffon\",\"bred_for\":\"Gundog, \\\\\"swamp-tromping\\\\\", Flushing, pointing, and retrieving water fowl & game birds\",\"breed_group\":\"Sporting\",\"life_span\":\"12 - 14 years\",\"temperament\":\"Loyal, Gentle, Vigilant, Trainable, Proud\",\"reference_image_id\":\"Bkam2l9Vm\",\"image\":{\"id\":\"Bkam2l9Vm\",\"width\":2328,\"height\":1604,\"url\":\"https://cdn2.thedogapi.com/images/Bkam2l9Vm.jpg\"}},{\"weight\":{\"imperial\":\"45 - 65\",\"metric\":\"20 - 29\"},\"height\":{\"imperial\":\"21.5 - 25\",\"metric\":\"55 - 64\"},\"id\":261,\"name\":\"Wirehaired Vizsla\",\"breed_group\":\"Sporting\",\"life_span\":\"12 - 14 years\",\"reference_image_id\":\"r1I4hl5Em\",\"image\":{\"id\":\"r1I4hl5Em\",\"width\":1024,\"height\":770,\"url\":\"https://cdn2.thedogapi.com/images/r1I4hl5Em.jpg\"}},{\"weight\":{\"imperial\":\"9 - 31\",\"metric\":\"4 - 14\"},\"height\":{\"imperial\":\"10 - 23\",\"metric\":\"25 - 58\"},\"id\":262,\"name\":\"Xoloitzcuintli\",\"breed_group\":\"Non-Sporting\",\"life_span\":\"12 - 14 years\",\"temperament\":\"Cheerful, Alert, Companionable, Intelligent, Protective, Calm\",\"reference_image_id\":\"HkNS3gqEm\",\"image\":{\"id\":\"HkNS3gqEm\",\"width\":1500,\"height\":1350,\"url\":\"https://cdn2.thedogapi.com/images/HkNS3gqEm.jpg\"}},{\"weight\":{\"imperial\":\"4 - 7\",\"metric\":\"2 - 3\"},\"height\":{\"imperial\":\"8 - 9\",\"metric\":\"20 - 23\"},\"id\":264,\"name\":\"Yorkshire Terrier\",\"bred_for\":\"Small vermin hunting\",\"breed_group\":\"Toy\",\"life_span\":\"12 - 16 years\",\"temperament\":\"Bold, Independent, Confident, Intelligent, Courageous\",\"reference_image_id\":\"B12BnxcVQ\",\"image\":{\"id\":\"B12BnxcVQ\",\"width\":1024,\"height\":683,\"url\":\"https://cdn2.thedogapi.com/images/B12BnxcVQ.jpg\"}}]'"
            ],
            "application/vnd.google.colaboratory.intrinsic+json": {
              "type": "string"
            }
          },
          "metadata": {},
          "execution_count": 53
        }
      ]
    },
    {
      "cell_type": "code",
      "source": [
        "response.status_code"
      ],
      "metadata": {
        "colab": {
          "base_uri": "https://localhost:8080/"
        },
        "id": "37bfGmzHAAUO",
        "outputId": "33ac1e6a-6c62-45a1-dbd2-21a044ed8338"
      },
      "execution_count": null,
      "outputs": [
        {
          "output_type": "execute_result",
          "data": {
            "text/plain": [
              "200"
            ]
          },
          "metadata": {},
          "execution_count": 55
        }
      ]
    },
    {
      "cell_type": "code",
      "source": [
        "response.headers"
      ],
      "metadata": {
        "colab": {
          "base_uri": "https://localhost:8080/"
        },
        "id": "QxYg878QAEup",
        "outputId": "5a6ae435-1892-436e-96ba-6cfb5afa7397"
      },
      "execution_count": null,
      "outputs": [
        {
          "output_type": "execute_result",
          "data": {
            "text/plain": [
              "{'x-dns-prefetch-control': 'off', 'x-frame-options': 'SAMEORIGIN', 'strict-transport-security': 'max-age=15552000; includeSubDomains', 'x-download-options': 'noopen', 'x-content-type-options': 'nosniff', 'x-xss-protection': '1; mode=block', 'vary': 'Origin', 'pagination-count': '172', 'pagination-page': '0', 'pagination-limit': '1000', 'access-control-expose-headers': 'Pagination-Count, Pagination-Page, Pagination-Limit', 'content-type': 'application/json; charset=utf-8', 'x-response-time': '7ms', 'X-Cloud-Trace-Context': 'e2d81c269ad9a5c10e54afb2b0175906', 'Date': 'Thu, 08 Jun 2023 22:21:12 GMT', 'Server': 'Google Frontend', 'Content-Length': '76246'}"
            ]
          },
          "metadata": {},
          "execution_count": 56
        }
      ]
    },
    {
      "cell_type": "code",
      "source": [
        "response.reason"
      ],
      "metadata": {
        "colab": {
          "base_uri": "https://localhost:8080/",
          "height": 36
        },
        "id": "LbP1R5qGAGTV",
        "outputId": "3542279c-60ee-478b-be32-80c80d494708"
      },
      "execution_count": null,
      "outputs": [
        {
          "output_type": "execute_result",
          "data": {
            "text/plain": [
              "'OK'"
            ],
            "application/vnd.google.colaboratory.intrinsic+json": {
              "type": "string"
            }
          },
          "metadata": {},
          "execution_count": 57
        }
      ]
    },
    {
      "cell_type": "code",
      "source": [
        "response.headers.get(\"Content-Type\")"
      ],
      "metadata": {
        "colab": {
          "base_uri": "https://localhost:8080/",
          "height": 36
        },
        "id": "Gug_V9UdAxtF",
        "outputId": "6ad8f2a9-6442-46d4-9273-6bd325338554"
      },
      "execution_count": null,
      "outputs": [
        {
          "output_type": "execute_result",
          "data": {
            "text/plain": [
              "'application/json; charset=utf-8'"
            ],
            "application/vnd.google.colaboratory.intrinsic+json": {
              "type": "string"
            }
          },
          "metadata": {},
          "execution_count": 58
        }
      ]
    },
    {
      "cell_type": "code",
      "source": [
        "# COntent-type\n",
        "response = requests.get(\"http://placegoat.com/200/200\")\n",
        "response.headers.get(\"Content-Type\")"
      ],
      "metadata": {
        "colab": {
          "base_uri": "https://localhost:8080/",
          "height": 36
        },
        "id": "pWP_QAqZGb4h",
        "outputId": "c41ec3fe-5c80-4bb4-d639-c9ef26632c7a"
      },
      "execution_count": null,
      "outputs": [
        {
          "output_type": "execute_result",
          "data": {
            "text/plain": [
              "'text/html; charset=utf-8'"
            ],
            "application/vnd.google.colaboratory.intrinsic+json": {
              "type": "string"
            }
          },
          "metadata": {},
          "execution_count": 61
        }
      ]
    },
    {
      "cell_type": "markdown",
      "source": [
        "The Content-Type header is very important for you to know how to handle a response and what to do with its content. There are hundreds of other acceptable content types, including audio, video, fonts, and more."
      ],
      "metadata": {
        "id": "fhLlzM4bGyOE"
      }
    },
    {
      "cell_type": "markdown",
      "source": [
        "# Reponse content"
      ],
      "metadata": {
        "id": "OxRqWZ0cG1mN"
      }
    },
    {
      "cell_type": "markdown",
      "source": [
        "The type of content you find in the API response will vary according to the Content-Type header. To properly read the response contents according to the different Content-Type headers, the requests package comes with a couple of different Response attributes you can use to manipulate the response data:\n",
        "\n",
        "- .text returns the response contents in Unicode format.\n",
        "- .content returns the response contents in bytes."
      ],
      "metadata": {
        "id": "4ag6x5IoG78m"
      }
    },
    {
      "cell_type": "code",
      "source": [
        "response = requests.get(\"https://api.thedogapi.com/v1/breeds/1\")\n",
        "print(response.headers.get(\"Content-Type\"))\n",
        "print(response.content)\n",
        "print(response.text)   # no big difference btween .content and .text "
      ],
      "metadata": {
        "colab": {
          "base_uri": "https://localhost:8080/"
        },
        "id": "PSJQvlEfGl7r",
        "outputId": "fc42ffcc-1f6e-47b9-de05-0b7ab6f0b11c"
      },
      "execution_count": null,
      "outputs": [
        {
          "output_type": "stream",
          "name": "stdout",
          "text": [
            "application/json; charset=utf-8\n",
            "b'{\"weight\":{\"imperial\":\"6 - 13\",\"metric\":\"3 - 6\"},\"height\":{\"imperial\":\"9 - 11.5\",\"metric\":\"23 - 29\"},\"id\":1,\"name\":\"Affenpinscher\",\"bred_for\":\"Small rodent hunting, lapdog\",\"breed_group\":\"Toy\",\"life_span\":\"10 - 12 years\",\"temperament\":\"Stubborn, Curious, Playful, Adventurous, Active, Fun-loving\",\"origin\":\"Germany, France\",\"reference_image_id\":\"BJa4kxc4X\"}'\n",
            "{\"weight\":{\"imperial\":\"6 - 13\",\"metric\":\"3 - 6\"},\"height\":{\"imperial\":\"9 - 11.5\",\"metric\":\"23 - 29\"},\"id\":1,\"name\":\"Affenpinscher\",\"bred_for\":\"Small rodent hunting, lapdog\",\"breed_group\":\"Toy\",\"life_span\":\"10 - 12 years\",\"temperament\":\"Stubborn, Curious, Playful, Adventurous, Active, Fun-loving\",\"origin\":\"Germany, France\",\"reference_image_id\":\"BJa4kxc4X\"}\n"
          ]
        }
      ]
    },
    {
      "cell_type": "code",
      "source": [
        "response.json()"
      ],
      "metadata": {
        "colab": {
          "base_uri": "https://localhost:8080/"
        },
        "id": "ch0S32F0HKWN",
        "outputId": "2fc12c2f-466f-409d-fc59-d3ab4d287803"
      },
      "execution_count": null,
      "outputs": [
        {
          "output_type": "execute_result",
          "data": {
            "text/plain": [
              "{'weight': {'imperial': '6 - 13', 'metric': '3 - 6'},\n",
              " 'height': {'imperial': '9 - 11.5', 'metric': '23 - 29'},\n",
              " 'id': 1,\n",
              " 'name': 'Affenpinscher',\n",
              " 'bred_for': 'Small rodent hunting, lapdog',\n",
              " 'breed_group': 'Toy',\n",
              " 'life_span': '10 - 12 years',\n",
              " 'temperament': 'Stubborn, Curious, Playful, Adventurous, Active, Fun-loving',\n",
              " 'origin': 'Germany, France',\n",
              " 'reference_image_id': 'BJa4kxc4X'}"
            ]
          },
          "metadata": {},
          "execution_count": 64
        }
      ]
    },
    {
      "cell_type": "code",
      "source": [
        "response.json()['name']"
      ],
      "metadata": {
        "colab": {
          "base_uri": "https://localhost:8080/",
          "height": 36
        },
        "id": "CACmi4OdHcpb",
        "outputId": "1f829d49-fd30-4c96-ef01-a0676589aae5"
      },
      "execution_count": null,
      "outputs": [
        {
          "output_type": "execute_result",
          "data": {
            "text/plain": [
              "'Affenpinscher'"
            ],
            "application/vnd.google.colaboratory.intrinsic+json": {
              "type": "string"
            }
          },
          "metadata": {},
          "execution_count": 65
        }
      ]
    },
    {
      "cell_type": "code",
      "source": [
        "# a different example\n",
        "response = requests.get(\"http://placegoat.com/200/200\")\n",
        "print(response)\n",
        "print(response.headers.get(\"Content-Type\"))\n",
        "print(response.content)"
      ],
      "metadata": {
        "colab": {
          "base_uri": "https://localhost:8080/"
        },
        "id": "vYQzVADyHfBF",
        "outputId": "14af8de1-253a-4e50-9b95-5160fa68f824"
      },
      "execution_count": null,
      "outputs": [
        {
          "output_type": "stream",
          "name": "stdout",
          "text": [
            "<Response [200]>\n",
            "text/html; charset=utf-8\n",
            "b'<!DOCTYPE html>\\n<html lang=\"en\">\\n<head>\\n\\n<script id=\"cookieyes\" type=\"text/javascript\" src=\"https://cdn-cookieyes.com/client_data/e71bc53f1cb88666d160c1e2/script.js\"></script>\\n\\n<meta http-equiv=\"Content-Type\" content=\"text/html; charset=UTF-8\">\\n\\n<meta name=\"viewport\" content=\"width=device-width, initial-scale=1, shrink-to-fit=no\">\\n<link rel=\"preconnect\" href=\"https://www.google.com\">\\n<link rel=\"preconnect\" href=\"https://www.gstatic.com\" crossorigin>\\n<link rel=\"stylesheet\" href=\"https://cdn.jsdelivr.net/gh/fancyapps/fancybox@3.5.7/dist/jquery.fancybox.min.css\" />\\n<link rel=\"stylesheet\" href=\"https://static.HugeDomains.com/css/hdv3-css/reboot.min.css\">\\n<link rel=\"stylesheet\" href=\"https://static.HugeDomains.com/css/hdv3-css/style.css?aa=2021-06-09a\">\\n<link rel=\"stylesheet\" href=\"https://static.HugeDomains.com/css/hdv3-css/responsive.css?aa=2021-06-09a\">\\n<link rel=\"stylesheet\" href=\"https://static.HugeDomains.com/css/hdv3-css/hd-style.css?aa=2022-10-33\">\\n<meta name=\"theme-color\" content=\"#4e73b7\">\\n<meta property=\"og:site_name\" content=\"HugeDomains\">\\n<meta property=\"og:type\" content=\"website\">\\n<meta property=\"og:image\" content=\"https://static.HugeDomains.com/images/hdv3-img/og_hugedomains.png\" />\\n<title>PlaceGoat.com is for sale | HugeDomains</title>\\n<meta property=\"og:title\" content=\"PlaceGoat.com is for sale | HugeDomains\" />\\n<meta property=\"og:url\" content=\"https://www.HugeDomains.com/domain_profile.cfm?d=PlaceGoat.com\" />\\n<link rel=\"canonical\" href=\"https://www.HugeDomains.com/domain_profile.cfm?d=PlaceGoat.com\" />\\n<meta property=\"og:description\" content=\"Friendly and helpful customer support that goes above and beyond. We help you get the perfect domain name.\" />\\n<meta name=\"description\" content=\"Friendly and helpful customer support that goes above and beyond. We help you get the perfect domain name.\" />\\n<link rel=\"stylesheet\" href=\"https://fonts.googleapis.com/css?family=Noto+Sans:400,700&display=swap\">\\n<link rel=\"stylesheet\" href=\"https://use.typekit.net/zyw6mds.css\">\\n\\n<script async src=\"https://www.googletagmanager.com/gtag/js?id=UA-7117339-4\"></script>\\n<script>\\r\\nwindow.dataLayer = window.dataLayer || [];\\r\\nfunction gtag(){dataLayer.push(arguments);}\\r\\ngtag(\\'js\\', new Date());\\r\\n/* gtag(\\'config\\', \\'UA-7117339-4\\'); */\\r\\ngtag(\\'config\\', \\'UA-7117339-4\\', {\\r\\n\\'custom_map\\': {\\r\\n\\'dimension3\\': \\'siteversion\\'\\r\\n}\\r\\n});\\r\\ngtag(\\'event\\', \\'pageLoad\\', { \\'siteversion\\': \\'HDv3\\' });\\r\\n</script>\\n</head>\\n<body>\\n<a href=\"#main\" class=\"skip-main\">Skip to main content</a>\\n<header id=\"header\" class=\"hdv3HeaderDarkBlue\">\\n<div class=\"js-overlay-modal overlay-modal\"></div>\\n<div class=\"container \">\\n<div class=\"header-top d-flex ai-center \">\\n<div class=\"navBurger\" role=\"button\" id=\"navToggle\" aria-label=\"Navigation Toggle\"></div>\\n<a class=\"logo\" href=\"https://www.HugeDomains.com/index.cfm\"><img src=\"https://static.HugeDomains.com/images/hdv3-img/hugedomains_logo_notag_white.png\\r\\n\" alt=\"logo\" class=\"img-fluid\"></a>\\n<div class=\"d-flex ai-center jc-end\">\\n<div class=\"search-trigger\">\\n<a href=\"tel:1-303-893-0552\" class=\"header-tel headerMobileSearchPhone\"><img src=\"https://static.HugeDomains.com/images/hdv3-img/phone-icon-white.png\" alt=\"\" border=\"0\"></a>\\n<input type=\"image\" class=\"headerSearchMagInputImg\" src=\"https://static.HugeDomains.com/images/hdv3-img/search-icon-white.png\" tabindex=\"0\" alt=\"Header Mobile Search\" border=\"0\" onclick=\"headerMobileSearchMagFunc(); return false;\">\\n</div>\\n<div class=\"search-box \" id=\"hdv3HeaderSearchBoxDivID\">\\n\\n<form action=\"https://www.HugeDomains.com/domain_search.cfm\" method=\"get\" class=\"search-form\" id=\"siteHeaderFormSearchID\">\\n<input type=\"text\" name=\"domain_name\" value=\"\" class=\"search-input\" id=\"hdv3HeaderSearchTextID\" aria-label=\"Header Domain Search\">\\n<button type=\"submit\" value=\"\" class=\"search-btn\" onClick=\"hdv3HeaderSearchSubmitFunc(); return false; \" style=\"min-width:90px; height:35px;\" id=\"hdv3HeaderSearchButtonID\">Search</button>\\n<button type=\"button\" value=\"\" id=\"hdv3HeaderSearchProcessingID\" class=\"search-btn btn hiddenAtLoad width50\" onclick=\"return false;\" style=\" height:35px; min-width:90px; width:90px; padding-left:0px; padding-right:0px; padding-bottom:0px; padding-top:0px; margin-bottom:0px; overflow:hidden;\">\\n<div class=\"circularJ circularBlackJ \" style=\"margin-left:0px; margin-right:0px; margin-top:2px; display:inline-block;\">\\n<div class=\"circularJ_1\"></div>\\n<div class=\"circularJ_2\"></div>\\n<div class=\"circularJ_3\"></div>\\n<div class=\"circularJ_4\"></div>\\n<div class=\"circularJ_5\"></div>\\n<div class=\"circularJ_6\"></div>\\n<div class=\"circularJ_7\"></div>\\n<div class=\"circularJ_8\"></div>\\n</div>\\n</button>\\n</form>\\n</div>\\n<a href=\"tel:1-303-893-0552\" class=\"header-tel hideAt991Width\"><img src=\"https://static.HugeDomains.com/images/hdv3-img/phone-icon.png\" alt=\"\"><span class=\"tell-text\">+1-303-893-0552</span></a>\\n</div>\\n</div>\\n</div>\\n<nav class=\"navbar hQQQideAt991Width\">\\n<div class=\"overDrawerLay \" onclick=\" $( \\'#navToggle\\' ).click(); \"></div>\\n<div class=\"overlay \">\\n<div class=\"overlayMenu d-flex ai-center jc-between\">\\n<ul class=\"navbar-nav\">\\n<li class=\"nav-item\">\\n<a class=\"nav-link \" href=\"https://www.HugeDomains.com/index.cfm\">Home</a>\\n</li>\\n<li class=\"nav-item\">\\n<a class=\"nav-link \" href=\"https://www.HugeDomains.com/faq.cfm\">FAQs</b></a>\\n</li>\\n<li class=\"nav-item\">\\n<a class=\"nav-link \" href=\"https://www.HugeDomains.com/about.cfm\">About us</b></a>\\n</li>\\n<li class=\"nav-item\">\\n<a class=\"nav-link \" href=\"https://www.HugeDomains.com/contact.cfm\">Contact us</b></a>\\n</li>\\n<li class=\"nav-item\">\\n<a href=\"https://www.HugeDomains.com/payment-plan-login.cfm\" class=\"nav-link \">My account</a>\\n</li>\\n</ul>\\n<div class=\"shop-links\">\\n<div class=\"cart-icon favorit-ico \" style=\"padding-top:0px;\"><a href=\"https://www.HugeDomains.com/my-favorites.cfm\" class=\"whiteLink \" id=\"hdv3HeaderFavIconLinkID\" aria-label=\"My favorites\"><span class=\"mobile-show\">My favorites</span><img src=\"https://static.HugeDomains.com/images/hdv3-img/favorite-header.png\" alt=\"\"><span class=\"cart-number hiddenAtLoad\" id=\"hdv3FavNumberSpanID\"></span></a></div>\\n<div class=\"cart-icon\" style=\"padding-top:0px;\"><a href=\"https://www.HugeDomains.com/shopping_cart.cfm\" class=\"whiteLink \" id=\"hdv3HeaderShoppingCartLinkID\" aria-label=\"Shopping Cart\"><span class=\"mobile-show\">Shopping cart</span><img src=\"https://static.HugeDomains.com/images/hdv3-img/cart.png\" alt=\"\"><span class=\"cart-number hiddenAtLoad\" id=\"hdv3CartNumberSpanID\"></span></a></div>\\n</div>\\n</div>\\n</div>\\n</nav>\\n</header>\\n<main class=\"site-main \">\\n\\n\\n<div class=\"product-fav-wrapp container\">\\n<div class=\"side-wrapp dn-mobile\">\\n<div class=\"slide-sidebar-block\">\\n<div class=\"ss-block-inner\">\\n<div class=\"ss-block-inner-new\">\\n<span class=\"ss-block-title green\">PlaceGoat.com</span>\\n<span class=\"row-save ss-bn \">\\n<span>Buy now:</span><span class=\"big-text green\">$10,295</span>\\n</span>\\n\\n<a href=\"https://www.HugeDomains.com/shopping_cart.cfm?d=PlaceGoat&e=com\" class=\"btn m-b-0 m-t-0 \" id=\"hdv3Billboard197BuyID\" onClick=\"$(\\'#hdv3Billboard197BuyID\\').addClass(\\'hiddenAtLoad\\'); $(\\'#hdv3Billboard197BuyProceID\\').removeClass(\\'hiddenAtLoad\\'); landerFunc52C00D79E59E4DF5B137D932302156D5Func(); return false;\" style=\"height:50px; padding-right:30px;\">&#9656; Buy now</a>\\n<button type=\"button\" value=\"\" id=\"hdv3Billboard197BuyProceID\" class=\" place-order-btn paymentpay-accaunt-content-btn btn hiddenAtLoad\" onclick=\"return false;\" style=\"height:50px; margin-left:0px; min-width:273px; margin-top:0px; margin-bottom:0px; display:flex;\">Processing\\n<div class=\"circularJ\">\\n<div class=\"circularJ_1\"></div>\\n<div class=\"circularJ_2\"></div>\\n<div class=\"circularJ_3\"></div>\\n<div class=\"circularJ_4\"></div>\\n<div class=\"circularJ_5\"></div>\\n<div class=\"circularJ_6\"></div>\\n<div class=\"circularJ_7\"></div>\\n<div class=\"circularJ_8\"></div>\\n</div>\\n</button>\\n<span class=\"or\">or</span>\\n\\n<a href=\"https://www.HugeDomains.com/payment-plan-setup.cfm?d=PlaceGoat.com\" class=\"btn m-t-0 \" id=\"hdv3Billboard197PPID\" onClick=\"$(\\'#hdv3Billboard197PPID\\').addClass(\\'hiddenAtLoad\\'); $(\\'#hdv3Billboard197PPProceID\\').removeClass(\\'hiddenAtLoad\\');\" style=\"height:50px; padding-right:30px;\">&#9656; Start payment plan</a>\\n<button type=\"button\" value=\"\" id=\"hdv3Billboard197PPProceID\" class=\" place-order-btn paymentpay-accaunt-content-btn btn hiddenAtLoad\" onclick=\"return false;\" style=\"height:50px; margin-left:0px; min-width:273px; margin-top:0px; margin-bottom:25px; display:flex;\">Processing\\n<div class=\"circularJ\">\\n<div class=\"circularJ_1\"></div>\\n<div class=\"circularJ_2\"></div>\\n<div class=\"circularJ_3\"></div>\\n<div class=\"circularJ_4\"></div>\\n<div class=\"circularJ_5\"></div>\\n<div class=\"circularJ_6\"></div>\\n<div class=\"circularJ_7\"></div>\\n<div class=\"circularJ_8\"></div>\\n</div>\\n</button>\\n<span class=\"ssblock-footer\">Only $857.92/mo. for 12 months</span>\\n<a href=\"https://www.HugeDomains.com/payment-plan-setup.cfm?d=PlaceGoat.com\" class=\"link dif-l\">See details</a>\\n</div>\\n<div class=\"crediti \">\\n<ul>\\n<li>\\n<div class=\"img\">\\n<img src=\"https://static.HugeDomains.com/images/hdv3-img/30daysmallico.png\" alt=\"\">\\n</div>\\n<div class=\"content\">\\n<span>30-day money back guarantee</span>\\n</div>\\n</li>\\n<li>\\n<div class=\"img\">\\n<img src=\"https://static.HugeDomains.com/images/hdv3-img/roket-side-ico.png\" alt=\"\">\\n</div>\\n<div class=\"content\">\\n<span>Take immediate ownership</span>\\n</div>\\n</li>\\n<li>\\n<div class=\"img\">\\n<img src=\"https://static.HugeDomains.com/images/hdv3-img/safesmallico.png\" alt=\"\">\\n</div>\\n<div class=\"content\">\\n<span>Safe and secure shopping</span>\\n</div>\\n</li>\\n</ul>\\n</div>\\n</div>\\n</div>\\n</div>\\n\\n<form action=\"https://www.HugeDomains.com/shopping_cart.cfm?d=PlaceGoat.com\" method=\"post\" id=\"landerForm52C00D79E59E4DF5B137D932302156D5ID\">\\n<input type=\"hidden\" name=\"cartCheck\" value=\"0\" id=\"landerForm52C00D79E59E4DF5B137D932302156D5CheckID\">\\n</form>\\n<script>\\r\\nfunction landerFunc52C00D79E59E4DF5B137D932302156D5Func() {\\r\\ndocument.getElementById(\\'landerForm52C00D79E59E4DF5B137D932302156D5CheckID\\').value = 42;\\r\\ndocument.getElementById(\\'landerForm52C00D79E59E4DF5B137D932302156D5ID\\').submit();\\r\\n}\\r\\n</script>\\n<div class=\"content-wrapp\">\\n<section class=\"buy-now single-product top-container-new-product\">\\n<div class=\"container\">\\n<div class=\"single-product-block\">\\n<div class=\"bn-block\">\\n<h1 id=\"main\" class=\"domain-name\">PlaceGoat.com</h1>\\n<p class=\"d-t-n\">This domain is for sale: <span class=\"green\">$10,295</span></p>\\n</div>\\n\\n<div class=\"tablet-block-s\">\\n<p class=\"text-center\">Buy now for <span class=\"green\">$10,295</span> or pay <span class=\"green\">$857.92</span> per month for 12 months</p>\\n<div class=\"tablet-block-row\">\\n<div class=\"tablet-block-left\">\\n<a href=\"https://www.HugeDomains.com/shopping_cart.cfm?d=PlaceGoat&e=com\" class=\"btn\" style=\"padding-right:30px; width:170px; min-width:170px; margin-top:10px; \" id=\"hdv3Billboard197BuyTabID\" onClick=\"$(\\'#hdv3Billboard197BuyTabID\\').addClass(\\'hiddenAtLoad\\'); $(\\'#hdv3Billboard197BuyTabProceID\\').removeClass(\\'hiddenAtLoad\\'); landerFunc52C00D79E59E4DF5B137D932302156D5Func(); return false;\">&#9656; Buy now</a>\\n<button type=\"button\" value=\"\" id=\"hdv3Billboard197BuyTabProceID\" class=\" place-order-btn paymentpay-accaunt-content-btn btn hiddenAtLoad\" onclick=\"return false;\" style=\"height:50px; margin-left:0px; min-width:170px; margin-top:10px; margin-bottom:25px; display:flex;\">Processing\\n<div class=\"circularJ\">\\n<div class=\"circularJ_1\"></div>\\n<div class=\"circularJ_2\"></div>\\n<div class=\"circularJ_3\"></div>\\n<div class=\"circularJ_4\"></div>\\n<div class=\"circularJ_5\"></div>\\n<div class=\"circularJ_6\"></div>\\n<div class=\"circularJ_7\"></div>\\n<div class=\"circularJ_8\"></div>\\n</div>\\n</button>\\n</div>\\n<div class=\"tablet-block-midle\" style=\"padding-bottom:25px;\">\\n<span style=\"font-size:16px;\">or</span>\\n</div>\\n<div class=\"tablet-block-right\">\\n<a href=\"https://www.HugeDomains.com/payment-plan-setup.cfm?d=PlaceGoat.com\" class=\"btn\" style=\"padding-right:30px; width:247px; min-width:247px; margin-top:10px; \" id=\"hdv3Billboard197BuyTabPPID\" onClick=\"$(\\'#hdv3Billboard197BuyTabPPID\\').addClass(\\'hiddenAtLoad\\'); $(\\'#hdv3Billboard197BuyTabPPProceID\\').removeClass(\\'hiddenAtLoad\\');\">&#9656; Start payment plan</a>\\n<button type=\"button\" value=\"\" id=\"hdv3Billboard197BuyTabPPProceID\" class=\" place-order-btn paymentpay-accaunt-content-btn btn hiddenAtLoad\" onclick=\"return false;\" style=\"height:50px; margin-left:0px; min-width:247px; margin-top:10px; margin-bottom:25px; display:flex;\">Processing\\n<div class=\"circularJ\">\\n<div class=\"circularJ_1\"></div>\\n<div class=\"circularJ_2\"></div>\\n<div class=\"circularJ_3\"></div>\\n<div class=\"circularJ_4\"></div>\\n<div class=\"circularJ_5\"></div>\\n<div class=\"circularJ_6\"></div>\\n<div class=\"circularJ_7\"></div>\\n<div class=\"circularJ_8\"></div>\\n</div>\\n</button>\\n</div>\\n</div>\\n\\n<div class=\"tablet-block-footer hdv3Product3b196TabletPPOneLine\" style=\"\" id=\"\">\\n<p>\\n<span>Make 12 monthly payments</span>\\n<span>Pay 0% interest</span>\\n<span>Start using the domain today. <a href=\"https://www.HugeDomains.com/payment-plan-setup.cfm?d=PlaceGoat.com\" class=\"blueLink linkUnderlineHover\">See details</a></span>\\n</p>\\n</div>\\n\\n<div class=\"tablet-block-footer hdv3Product3b196TabletPPTwoLine\" style=\"margin-top:0px;\">\\n<p>\\n<span>Make 12 monthly payments</span>\\n<span>Pay 0% interest</span>\\n</p>\\n<p>\\n<span>Start using the domain today. <a href=\"https://www.HugeDomains.com/payment-plan-setup.cfm?d=PlaceGoat.com\" class=\"blueLink linkUnderlineHover\">See details</a></span>\\n</p>\\n</div>\\n</div>\\n\\n<div class=\"moble-block leftRightMargin20Mobile560\">\\n<p class=\"text-center\" style=\"margin-bottom:0px;\">This domain is for sale: <span class=\"green\">$10,295</span></p>\\n<div class=\"ss-block-inner-new bb-none\">\\n<a href=\"https://www.HugeDomains.com/shopping_cart.cfm?d=PlaceGoat&e=com\" class=\"btn m-b-0 m-t-0\" id=\"hdv3Billboard197BuyMobileID\" onClick=\"$(\\'#hdv3Billboard197BuyMobileID\\').addClass(\\'hiddenAtLoad\\'); $(\\'#hdv3Billboard197BuyMobileProceID\\').removeClass(\\'hiddenAtLoad\\'); landerFunc52C00D79E59E4DF5B137D932302156D5Func(); return false;\" style=\"height:50px; padding-right:30px;\">&#9656; Buy now</a>\\n\\n<button type=\"button\" value=\"\" id=\"hdv3Billboard197BuyMobileProceID\" class=\" place-order-btn paymentpay-accaunt-content-btn btn hiddenAtLoad\" onclick=\"return false;\" style=\"height:50px; margin-left:0px; min-width:170px; margin-top:0px; margin-bottom:0px; display:flex;\"><span style=\"font-size:20px;\">Processing</span>\\n<div class=\"circularJ\">\\n<div class=\"circularJ_1\"></div>\\n<div class=\"circularJ_2\"></div>\\n<div class=\"circularJ_3\"></div>\\n<div class=\"circularJ_4\"></div>\\n<div class=\"circularJ_5\"></div>\\n<div class=\"circularJ_6\"></div>\\n<div class=\"circularJ_7\"></div>\\n<div class=\"circularJ_8\"></div>\\n</div>\\n</button>\\n<span class=\"or\" style=\"text-align:center;\">or</span>\\n<a href=\"https://www.HugeDomains.com/payment-plan-setup.cfm?d=PlaceGoat.com\" class=\"btn m-t-0\" id=\"hdv3Billboard197BuyMobilePPID\" onClick=\"$(\\'#hdv3Billboard197BuyMobilePPID\\').addClass(\\'hiddenAtLoad\\'); $(\\'#hdv3Billboard197BuyMobilePPProceID\\').removeClass(\\'hiddenAtLoad\\');\" style=\"height:50px; padding-right:30px;\">&#9656; Start payment plan</a>\\n\\n<button type=\"button\" value=\"\" id=\"hdv3Billboard197BuyMobilePPProceID\" class=\" place-order-btn paymentpay-accaunt-content-btn btn hiddenAtLoad\" onclick=\"return false;\" style=\"height:50px; margin-left:0px; min-width:247px; margin-top:0px; margin-bottom:25px; display:flex;\"><span style=\"font-size:20px;\">Processing</span>\\n<div class=\"circularJ\">\\n<div class=\"circularJ_1\"></div>\\n<div class=\"circularJ_2\"></div>\\n<div class=\"circularJ_3\"></div>\\n<div class=\"circularJ_4\"></div>\\n<div class=\"circularJ_5\"></div>\\n<div class=\"circularJ_6\"></div>\\n<div class=\"circularJ_7\"></div>\\n<div class=\"circularJ_8\"></div>\\n</div>\\n</button>\\n<span class=\"ssblock-footer\">Only $857.92/mo. for 12 month</span>\\n<a href=\"https://www.HugeDomains.com/payment-plan-setup.cfm?d=PlaceGoat.com\" class=\"link dif-l\">See details</a>\\n</div>\\n</div>\\n\\n<div class=\"full-width-favorite favorite-left-side\">\\n<div class=\"favorite-check-wrap topBottomMargin4Mobile560\">\\n<label for=\"hdv3ProductFavoriteHeartID\">\\n<input type=\"checkbox\" id=\"hdv3ProductFavoriteHeartID\" onChange=\"favoriteProductBarFirstFunc(\\'PlaceGoat.com\\');\">\\n<span>Favorite <span id=\"hdv3ProductHurrySpanID\" class=\"hiddenAtLoad\"></span></span>\\n</label>\\n</div>\\n</div>\\n<div style=\"\" class=\"leftRightMargin20Mobile560 borderTopGreyBar560 marginTop15px560\"></div>\\n<div class=\"top-bottom-bordered-block noBorderTop560 noMarginTop560 \">\\n<span>Questions? Talk to a domain expert: <a href=\"tel:1-303-893-0552\" class=\"link\">1&#8209;303&#8209;893&#8209;0552</a></span>\\n</div>\\n</div>\\n</div>\\n</section>\\n<div class=\"crediti tablet-block hdv3pitch noMobileLeftRightBorder560 leftRightPadding20Mobile560\">\\n<ul>\\n<li>\\n<div class=\"img\">\\n<img src=\"https://static.HugeDomains.com/images/hdv3-img/zero-side-ico.png\" alt=\"\">\\n</div>\\n<div class=\"content\">\\n<span>Enjoy zero percent financing</span>\\n</div>\\n</li>\\n<li>\\n<div class=\"img\">\\n<img src=\"https://static.HugeDomains.com/images/hdv3-img/roket-side-ico.png\" alt=\"\">\\n</div>\\n<div class=\"content\">\\n<span>Quick delivery of the domain</span>\\n</div>\\n</li>\\n<li>\\n<div class=\"img\">\\n<img src=\"https://static.HugeDomains.com/images/hdv3-img/safesmallico.png\" alt=\"\">\\n</div>\\n<div class=\"content\">\\n<span>Safe and secure shopping</span>\\n</div>\\n</li>\\n</ul>\\n</div>\\n\\n<section class=\"testimonails single-product hdv3pitch leftRightPadding20Mobile991 leftRightPadding20Mobile560 leftRightPaddingImp20Mobile991 \" style=\"border-bottom:0px; \">\\n<div class=\"testimonails-wrap container\">\\n<div class=\"single-product-block\">\\n<h2>Since 2005, we\\'ve helped thousands of people get the perfect domain name</h2>\\n\\n<div class=\"testimonials-container\">\\n<div class=\"testimonials-item\">\\n<div class=\"testimonials-item_image\"><div class=\"img-placeholder darkblue\" style=\"background-color:#9085ff;\">T</div></div>\\n<div class=\"testimonials-item_content bb-quotes-content\">\\n<p class=\"feedback\">Smooth transition</p>\\n<span class=\"feedback-owner\">- Terrance Harris, February 28, 2023</span>\\n</div>\\n</div>\\n<div class=\"testimonials-item\">\\n<div class=\"testimonials-item_image\"><div class=\"img-placeholder darkblue\" style=\"background-color:#0047af;\">S</div></div>\\n<div class=\"testimonials-item_content bb-quotes-content\">\\n<p class=\"feedback\">Fast and easy</p>\\n<span class=\"feedback-owner\">- Steven Radgowski, February 27, 2023</span>\\n</div>\\n</div>\\n<div class=\"testimonials-item\">\\n<div class=\"testimonials-item_image\"><div class=\"img-placeholder darkblue\" style=\"background-color:#830000;\">D</div></div>\\n<div class=\"testimonials-item_content bb-quotes-content\">\\n<p class=\"feedback\">Very simple to complete, trust and process the transaction!\\nThank you</p>\\n<span class=\"feedback-owner\">- Douglas Bretthauer, February 25, 2023</span>\\n</div>\\n</div>\\n<div class=\"testimonials-item\">\\n<div class=\"testimonials-item_image\"><div class=\"img-placeholder darkblue\" style=\"background-color:#89969f;\">L</div></div>\\n<div class=\"testimonials-item_content bb-quotes-content\">\\n<p class=\"feedback\">The guys were totally low-key, easy to work with, flexible and overall fantastic. We had a lot of issues that were 100% on our end and HugeDomains was always easy to reach, helpful and on top of communication. This is was the most expensive domain purchase I&#39;ve made to date was really nervous and unsure about working with an unknown company, but they were completely legitimate and though monotone, did go above and beyond what was expected in helping us complete the domain purchase and payment plan successfully. I hope that I get a chance to do business with them again and recommend them wholeheartedly.</p>\\n<span class=\"feedback-owner\">- Lorin McCann, February 21, 2023</span>\\n</div>\\n</div>\\n<div class=\"testimonials-item\">\\n<div class=\"testimonials-item_image\"><div class=\"img-placeholder darkblue\" style=\"background-color:#2aa527;\">M</div></div>\\n<div class=\"testimonials-item_content bb-quotes-content\">\\n<p class=\"feedback\">For the first view everything is ok. I bought domain which I dreamt. Hope everything will be fine and further.</p>\\n<span class=\"feedback-owner\">- Maksim Diakonov, February 20, 2023</span>\\n</div>\\n</div>\\n</div>\\n<a href=\"https://www.HugeDomains.com/testimonials.cfm\" class=\"see-more testim-see-more blueLink linkUnderlineHover centerTextAt560Width\" target=\"_blank\">See more testimonials</a>\\n</div>\\n</div>\\n</section>\\n\\n<style>\\r\\n.testimonailQQQs {\\r\\nborder-bottom: 0px solid #d2d6da !important;\\r\\n}\\r\\n</style>\\n<h2 class=\"size24\">Our promise to you</h2>\\n<section class=\"noMobileLeftRightBorder560 leftRightMargin20Mobile991 noLeftRightMargin20Mobile560 noMiddleBorderBottomMobile991 width100Minus42Mobile991 widthQQQ100Mobile991 width100Mobile560 testimonails single-product colored-section m-mb-0 boreder-b-none hdv3pitch \">\\n<div class=\"testimonails-wrap container widthQQQ100Mobile991 widthAutoMobile991 \">\\n<div class=\"single-product-block small-p\">\\n<h3 class=\"subtitels\">30-day money back guarantee</h3>\\n<p>HugeDomains provides a 100% satisfaction guarantee on every domain name that we sell through our website. If you buy a domain and are unhappy with it, we will accept the return within 30 days and issue a full refund \\xe2\\x80\\x93 no questions asked.</p>\\n</div>\\n</div>\\n</section>\\n<section class=\"testimonails single-product colored-section m-mb-0 boreder-t-none boreder-b-none m-border-block noMobileLeftRightBorder560 leftRightMargin20Mobile991 width100Mobile560 noLeftRightMargin20Mobile560 noMiddleBorderBottomMobile991 width100Minus42Mobile991 widthQQQ100Mobile991\">\\n<div class=\"testimonails-wrap container widthAutoMobile991\">\\n<div class=\"single-product-block small-p\">\\n<h3 class=\"subtitels\">Quick delivery of the domain</h3>\\n<p>In most cases access to the domain will be available within one to two hours of purchase, however access to domains purchased after business hours will be available within the next business day.</p>\\n</div>\\n</div>\\n</section>\\n<section class=\"testimonails single-product colored-section boreder-t-none noMobileLeftRightBorder560 leftRightMargin20Mobile991 noLeftRightMargin20Mobile560 width100Minus42Mobile991 width100Mobile560 widthQQQ100Mobile991\">\\n<div class=\"testimonails-wrap container widthAutoMobile991\">\\n<div class=\"single-product-block small-p\">\\n<h3 class=\"subtitels\">Safe and secure shopping</h3>\\n<p>Your online safety and security is our top priority. We understand the importance of protecting your personal information.</p>\\n<br />\\n<p>We protect your information through SSL encryption technology, providing the safest, most secure shopping experience possible. Additionally, you may checkout with PayPal or Escrow.com.</p>\\n</div>\\n</div>\\n</section>\\n\\n\\n<section class=\"faq-section single-product bordered-section hdv3pitch lQQQeftRightPadding20Mobile991 leftRightPadding20Mobile560 lQQQeftRightPaddingImp20Mobile991 LeftRightPaddingImp20Mobile560 lQQQeftRightMargin20Mobile560 width100Minus40Mobile991 leftRightMargin20Mobile991 noLeftRightPaddingImpMobile991 \">\\n<div class=\"container\">\\n<div class=\"single-product-block\">\\n<div class=\"oter-domain-title d-flex jc-between\">\\n<h2 class=\"size24\">FAQs</h2>\\n<a href=\"https://www.HugeDomains.com/faq.cfm\" class=\"see-more-domains blueLink linkUnderlineHover hideAt560Width\" target=\"_blank\">See more FAQs</a>\\n</div>\\n\\n<div class=\"faq-block\">\\n\\n\\n<div class=\"faq-block-item\">\\n<div class=\"faq-bi-title\"><a href=\"#\" style=\"color:white; \">How do I transfer to another registrar such as GoDaddy?</a></div>\\n<div class=\"faq-bi-content\"><p>Yes, you can transfer your domain to any registrar or hosting company once you have purchased it. Since domain transfers are a manual process, it can take up to 5 days to transfer the domain.</p>\\n<p>&nbsp;</p>\\n<p>Domains purchased with payment plans are not eligible to transfer until all payments have been made. Please remember that our 30-day money back guarantee is void once a domain has been transferred.</p>\\n<p>&nbsp;</p>\\n<p>For transfer instructions to GoDaddy, please <a href=\"https://www.HugeDomains.com/transfer-domain-to-godaddy.cfm\" class=\"whiteLink\" style=\"text-decoration:underline;\">click here</a>.</p>\\n</div>\\n</div>\\n<div class=\"faq-block-item\">\\n<div class=\"faq-bi-title\"><a href=\"#\" style=\"color:white; \">How do I get the domain after the purchase?</a></div>\\n<div class=\"faq-bi-content\"><p>Once you purchase the domain we will push it into an account for you at our registrar, NameBright.com, we will then send you an email with your NameBright username and password. In most cases access to the domain will be available within one to two hours of purchase, however access to domains purchased after business hours will be available within the next business day.</p></div>\\n</div>\\n<div class=\"faq-block-item\">\\n<div class=\"faq-bi-title\"><a href=\"#\" style=\"color:white; \">What comes with the domain name?</a></div>\\n<div class=\"faq-bi-content\"><p>Nothing else is included with the purchase of the domain name. Our registrar NameBright.com does offer email packages for a yearly fee, however you will need to find hosting and web design services on your own.</p></div>\\n</div>\\n<div class=\"faq-block-item\">\\n<div class=\"faq-bi-title\"><a href=\"#\" style=\"color:white; \">Do you offer payment plans?</a></div>\\n<div class=\"faq-bi-content\"><p>Yes we offer payment plans for up to 12 months. <a href=\"https://www.HugeDomains.com/payment-plans.cfm?d=PlaceGoat.com\" style=\"color:white; text-decoration:underline;\" target=\"_blank\">See details</a>.</p></div>\\n</div>\\n<div class=\"faq-block-item\">\\n<div class=\"faq-bi-title\"><a href=\"#\" style=\"color:white; \">How do I keep my personal information private?</a></div>\\n<div class=\"faq-bi-content\"><p>If you wish the domain ownership information to be private, add WhoIs Privacy Protection to your domain. This hides your personal information from the general public.</p>\\n<p>&nbsp;</p>\\n<p>To add privacy protection to your domain, do so within your registrar account. NameBright offers WhoIs Privacy Protection for free for the first year, and then for a small fee for subsequent years.</p>\\n<p>&nbsp;</p>\\n<p>Whois information is not updated immediately. It typically takes several hours for Whois data to update, and different registrars are faster than others. Usually your Whois information will be fully updated within two days.</p></div>\\n</div>\\n\\n<div class=\"more-w hiddenAtLoad showAt560Width\">\\n<a href=\"https://www.HugeDomains.com/faq.cfm\" class=\"see-more-faq link blueLink\" target=\"_blank\">See more FAQs</a>\\n</div>\\n</div>\\n</div>\\n\\n\\n</section>\\n\\n\\n\\n\\n<section class=\"testimonails single-product bordered-section hdv3pitch lQQQeftRightPadding20Mobile991 leftRightPadding20Mobile560 width100Minus40Mobile991 leftRightMargin20Mobile991 noLeftRightPaddingImpMobile991 \">\\n<div class=\"testimonails-wrap container\">\\n<div class=\"single-product-block\">\\n<div class=\"video-block\">\\n<iframe aria-label=\"Find out why a good domain name is important\" width=\"480\" height=\"270\" src=\"https://www.youtube.com/embed/bqLUp7GuUTg?rel=0&autoplay=0&showinfo=0&controls=0\" frameborder=\"0\" allow=\"accelerometer; autoplay; encrypted-media; gyroscope; picture-in-picture\" allowfullscreen></iframe>\\n</div>\\n<div class=\"text-video hideAt630Width \"><p>Your Web address means everything \\xe2\\x80\\x93 watch our video see why</p></div>\\n<div class=\"text-video showAt630Width \"><p align=\"center\">Your Web address means everything<br />watch our video see why</p></div>\\n</div>\\n</div>\\n</section>\\n\\n<section class=\"other-domains-update-v-1 single-product\">\\n<div class=\"container\">\\n<div class=\"single-product-block\">\\n<div class=\"oter-domain-title d-flex jc-between\">\\n<h2 class=\"size24\">Other domains you might like</h2>\\n</div>\\n<div class=\"domains-table border-none\">\\n<div class=\"domain-row\">\\n<div class=\"domain\">\\n<a href=\"https://www.HugeDomains.com/domain_profile.cfm?d=GoatPodz.com\">GoatPodz.com</a>\\n<a href=\"https://www.HugeDomains.com/domain_profile.cfm?d=GoatPodz.com\" class=\"btn\" style=\"height:35px;\">&#9656; See domain</a>\\n<span class=\"price\">$3,295</span>\\n</div>\\n</div>\\n<div class=\"domain-row\">\\n<div class=\"domain\">\\n<a href=\"https://www.HugeDomains.com/domain_profile.cfm?d=ProudGoat.com\">ProudGoat.com</a>\\n<a href=\"https://www.HugeDomains.com/domain_profile.cfm?d=ProudGoat.com\" class=\"btn\" style=\"height:35px;\">&#9656; See domain</a>\\n<span class=\"price\">$2,395</span>\\n</div>\\n</div>\\n<div class=\"domain-row\">\\n<div class=\"domain\">\\n<a href=\"https://www.HugeDomains.com/domain_profile.cfm?d=GoatHorns.com\">GoatHorns.com</a>\\n<a href=\"https://www.HugeDomains.com/domain_profile.cfm?d=GoatHorns.com\" class=\"btn\" style=\"height:35px;\">&#9656; See domain</a>\\n<span class=\"price\">$2,095</span>\\n</div>\\n</div>\\n\\n</div>\\n</div>\\n</div>\\n</section>\\n\\n<section class=\"quick-stats-section single-product hdv3pitch leftRightMargin20Mobile991 width100Minus40Mobile991\" style=\"margin-top:30px;\">\\n<div class=\"container\">\\n<div class=\"single-product-block\">\\n<div class=\"oter-domain-title d-flex jc-between\">\\n<h2 class=\"size24\">Quick stats</h2>\\n</div>\\n<div class=\"quick-stat-block\">\\n<div class=\"qs-row\">\\n<div>Domain length</div>\\n<div>9 characters</div>\\n</div>\\n<div class=\"qs-row\">\\n<div>Keywords</div>\\n<div>\\n<a href=\"https://www.HugeDomains.com/domain_search.cfm?domain_name=Place\">Place</a>, <a href=\"https://www.HugeDomains.com/domain_search.cfm?domain_name=Goat\">Goat</a>\\n</div>\\n</div>\\n<div class=\"qs-row\">\\n<div>Base domain</div>\\n<div>PlaceGoat</div>\\n</div>\\n<div class=\"qs-row\">\\n<div>TLD extension</div>\\n<div>.com</div>\\n</div>\\n</div>\\n</div>\\n</div>\\n</section>\\n\\n</div>\\n<div class=\"mobile-fixed-block hiddenAtLoad\" style=\"border-top:1px solid #d2d6da;\" id=\"hdv3Product3FooterBarrID\">\\n<div class=\"ss-block-inner-new\">\\n<span class=\"ss-block-title\">PlaceGoat.com</span>\\n\\n<a href=\"https://www.HugeDomains.com/shopping_cart.cfm?d=PlaceGoat&e=com\" class=\"btn\" style=\"margin-bottom:5px; padding-right:30px; height:50px; \" id=\"hdv3Billboard184BuyID\" onClick=\"$(\\'#hdv3Billboard184BuyID\\').addClass(\\'hiddenAtLoad\\'); $(\\'#hdv3Billboard184BuyProceID\\').removeClass(\\'hiddenAtLoad\\'); landerFunc3287788319B24E689D88C8EA32CDA77FFunc(); return false;\">&rtrif; Buy now</a>\\n<button type=\"button\" value=\"\" id=\"hdv3Billboard184BuyProceID\" class=\" place-order-btn paymentpay-accaunt-content-btn btn hiddenAtLoad\" onclick=\"return false;\" style=\"height:50px; margin-left:0px; min-width:30px; margin-top:0px; margin-bottom:5px; display:block;\">\\n<div class=\"circularJ\">\\n<div class=\"circularJ_1\"></div>\\n<div class=\"circularJ_2\"></div>\\n<div class=\"circularJ_3\"></div>\\n<div class=\"circularJ_4\"></div>\\n<div class=\"circularJ_5\"></div>\\n<div class=\"circularJ_6\"></div>\\n<div class=\"circularJ_7\"></div>\\n<div class=\"circularJ_8\"></div>\\n</div>\\n</button>\\n\\n<a href=\"https://www.HugeDomains.com/payment-plan-setup.cfm?d=PlaceGoat.com\" class=\"btn bordered-btn\" style=\"border:3px solid #2aa527; background-color:white; color:#2aa527; height:50px; padding-top:8px; padding-bottom:0px; padding-right:30px; \" onclick=\"hdv39ADA26CE378541BB87C9F7DA7FE78A7DFunc(); return false;\" id=\"hdv39ADA26CE378541BB87C9F7DA7FE78A7DLinkID\">&#9656; Start Payment Plan</a>\\n<button type=\"button\" value=\"\" id=\"hdv39ADA26CE378541BB87C9F7DA7FE78A7DProcID\" class=\" place-order-btn paymentpay-accaunt-content-btn btn hiddenAtLoad\" onclick=\"return false;\" style=\"height:50px; margin-left:0px; margin-top:0px; width:100%;\">\\n<div class=\"circularJ\">\\n<div class=\"circularJ_1\"></div>\\n<div class=\"circularJ_2\"></div>\\n<div class=\"circularJ_3\"></div>\\n<div class=\"circularJ_4\"></div>\\n<div class=\"circularJ_5\"></div>\\n<div class=\"circularJ_6\"></div>\\n<div class=\"circularJ_7\"></div>\\n<div class=\"circularJ_8\"></div>\\n</div>\\n</button>\\n<script>\\r\\nfunction hdv39ADA26CE378541BB87C9F7DA7FE78A7DFunc() {\\r\\n$(\\'#hdv39ADA26CE378541BB87C9F7DA7FE78A7DLinkID\\').addClass(\\'hiddenAtLoad\\');\\r\\n$(\\'#hdv39ADA26CE378541BB87C9F7DA7FE78A7DProcID\\').removeClass(\\'hiddenAtLoad\\');\\r\\n/* reset the button */\\r\\nwindow.addEventListener(\"unload\", function(event) {\\r\\n$(\\'#hdv39ADA26CE378541BB87C9F7DA7FE78A7DLinkID\\').removeClass(\\'hiddenAtLoad\\');\\r\\n$(\\'#hdv39ADA26CE378541BB87C9F7DA7FE78A7DProcID\\').addClass(\\'hiddenAtLoad\\');\\r\\n});\\r\\nwindow.addEventListener(\"pageshow\", function(event) {\\r\\nif (event.persisted) {\\r\\n}\\r\\n$(\\'#hdv39ADA26CE378541BB87C9F7DA7FE78A7DLinkID\\').removeClass(\\'hiddenAtLoad\\');\\r\\n$(\\'#hdv39ADA26CE378541BB87C9F7DA7FE78A7DProcID\\').addClass(\\'hiddenAtLoad\\');\\r\\n});\\r\\nwindow.location.href = \\'https://www.HugeDomains.com/payment-plan-setup.cfm?d=PlaceGoat.com\\';\\r\\nreturn false;\\r\\n}\\r\\n</script>\\n</div>\\n</div>\\n</div>\\n\\n<form action=\"https://www.HugeDomains.com/shopping_cart.cfm?d=PlaceGoat.com\" method=\"post\" id=\"landerForm3287788319B24E689D88C8EA32CDA77FID\">\\n<input type=\"hidden\" name=\"cartCheck\" value=\"0\" id=\"landerForm3287788319B24E689D88C8EA32CDA77FCheckID\">\\n</form>\\n<script>\\r\\nfunction landerFunc3287788319B24E689D88C8EA32CDA77FFunc() {\\r\\ndocument.getElementById(\\'landerForm3287788319B24E689D88C8EA32CDA77FCheckID\\').value = 42;\\r\\ndocument.getElementById(\\'landerForm3287788319B24E689D88C8EA32CDA77FID\\').submit();\\r\\n}\\r\\n</script>\\n<script>\\r\\ngtag(\\'event\\', \\'view_item\\', {\\r\\n\"items\": [\\r\\n{\\r\\n\"name\": \"PlaceGoat.com\",\\r\\n\"list_name\": \"Product Page\",\\r\\n\"quantity\": 1,\\r\\n\"price\": \\'10295\\'\\r\\n}\\r\\n]\\r\\n});\\r\\n</script>\\n<div class=\"fab-btn-wrap\">\\n<a href=\"https://www.HugeDomains.com/contact.cfm\" class=\"fab-btn modal-trigger\" data-modal=\"contact-form-modal\" id=\"fabButtonIconLinkID\" aria-label=\"Contact HugeDomains with our FAB Icon\"><img src=\"https://static.HugeDomains.com/images/hdv3-img/mail-icon.png\" alt=\"\" id=\"fabButtonIconID\"></a>\\n</div>\\n<script>\\r\\nvar fabButtonIconLinkExists = document.getElementById(\\'fabButtonIconLinkID\\');\\r\\nif (typeof(fabButtonIconLinkExists) != \\'undefined\\' && fabButtonIconLinkExists != null)\\r\\n{\\r\\ndocument.getElementById(\\'fabButtonIconLinkID\\').addEventListener(\"click\", function(){\\r\\nfigureOutFab();\\r\\n});\\r\\n}\\r\\nfunction figureOutFab() {\\r\\n$(\\'#fabButtonPopopOuterDivID\\').load(\"https://www.HugeDomains.com/rjs/hdv3-rjs/contact.cfm\", function() { $(\\'#fabButtonPopopHeadID\\').html(\\'Email us\\'); $(\\'#fabButtonPopopErrorDivID\\').hide(); $(\\'#hdv3FabContactSubjectID\\').val(\\'PlaceGoat.com\\'); $(\\'#hdv3FabContactSubjectRowID\\').hide(); figureOutFabContactDried = 0; figureOutFabContactDoubleDown = 0; figureOutFabContactDdp = 0; $(\\'#hdv3FabContactNameID\\').focus(); } );\\r\\n}\\r\\n</script>\\n<div class=\"contact-modal modal\" data-modal=\"contact-form-modal\" id=\"hdv3FabPopupDivOuterID\">\\n<div class=\"modal-header\">\\n<span class=\"head\" id=\"fabButtonPopopHeadID\"></span>\\n<span class=\"close-modal js-modal-close\" tabindex=\"-1\" id=\"hdv3FabPopupDivCloseID\"></span>\\n</div>\\n<div class=\"modal-content hass-errore\" id=\"fabButtonPopopOuterDivID\">\\n</div>\\n</div>\\n</main>\\n<footer id=\"footer\">\\n<div class=\"container \">\\n<div class=\"d-flex footer-links jc-between threeColFooterNav\">\\n<div class=\"col\">\\n<span class=\"font24 colorWhite\">Shop</span>\\n<ul class=\"footer-menu\">\\n<li><a href=\"https://www.HugeDomains.com/index.cfm\" class=\"link whiteLink\">Home</a></li>\\n<li><a href=\"https://www.HugeDomains.com/categories.cfm\" class=\"link whiteLink\">Categories</a></li>\\n<li><a href=\"https://www.HugeDomains.com/payment-plans.cfm\" class=\"link whiteLink\">Payment plans</a></li>\\n<li><a href=\"https://www.HugeDomains.com/payment-plan-login.cfm\" class=\"link whiteLink\">My account</a></li>\\n</ul>\\n</div>\\n<div class=\"col\">\\n<span class=\"font24 colorWhite\">Safe and secure</span>\\n<ul class=\"footer-menu\">\\n<li><a href=\"https://www.HugeDomains.com/satisfaction_guaranteed.cfm\" class=\"link whiteLink\">Money back guarantee</a></li>\\n<li><a href=\"https://www.HugeDomains.com/escrow.cfm\" class=\"link whiteLink\">Escrow.com</a></li>\\n<li><a href=\"https://www.HugeDomains.com/namebright.cfm\" class=\"link whiteLink\">NameBright.com</a></li>\\n<li><a href=\"https://www.HugeDomains.com/testimonials.cfm\" class=\"link whiteLink\">Testimonials</a></li>\\n</ul>\\n</div>\\n<div class=\"col\">\\n<span class=\"font24 colorWhite\">Helpful Tips</span>\\n<ul class=\"footer-menu\">\\n<li><a href=\"https://www.HugeDomains.com/buying_guide.cfm\" class=\"link whiteLink\">Buying guide</a></li>\\n<li><a href=\"https://www.HugeDomains.com/case-studies.cfm\" class=\"link whiteLink\">Case studies</a></li>\\n<li><a href=\"https://www.HugeDomains.com/faq.cfm\" class=\"link whiteLink\">FAQs</a></li>\\n</ul>\\n</div>\\n<div class=\"col\">\\n<span class=\"font24 colorWhite\">About us</span>\\n<ul class=\"footer-menu\">\\n<li><a href=\"https://www.HugeDomains.com/about.cfm\" class=\"link whiteLink\">Overview</a></li>\\n<li><a href=\"https://www.HugeDomains.com/contact.cfm\" class=\"link whiteLink\">Contact us</a></li>\\n<li><a href=\"https://www.HugeDomains.com/terms.cfm\" class=\"link whiteLink\">Terms and conditions</a></li>\\n<li><a href=\"https://www.HugeDomains.com/privacy_policy.cfm\" class=\"link whiteLink\">Privacy policy</a></li>\\n</ul> \\n</div>\\n</div>\\n<div class=\"d-flex badge-row ai-center threeColFooterNavLogos\">\\n<div class=\"d-flex jc-center threeColFooterNavLogo1\"><a href=\"https://www.HugeDomains.com/buying_guide.cfm\" aria-label=\"Explore the HugeDomains buying guides to learn about .com domains\"><img src=\"https://static.HugeDomains.com/images/hdv3-img/footer-logo-1.png\" alt=\"\" border=\"0\"></a></div>\\n<div class=\"d-flex jc-center threeColFooterNavLogo2\"><a href=\"https://www.HugeDomains.com/namebright.cfm\" aria-label=\"NameBright.com is a HugeDomains partner\"><img src=\"https://static.HugeDomains.com/images/hdv3-img/footer-logo-2.png\" alt=\"\" border=\"0\"></a></div>\\n<div class=\"d-flex jc-center threeColFooterNavLogo3\"><img src=\"https://static.HugeDomains.com/images/hdv3-img/footer-logo-3.png\" alt=\"\"></div>\\n<div class=\"d-flex jc-center threeColFooterNavLogo4\"><img src=\"https://static.HugeDomains.com/images/hdv3-img/footer-logo-4.png\" alt=\"\"></div>\\n<div class=\"d-flex jc-center threeColFooterNavLogo5\"><a href=\"https://www.HugeDomains.com/escrow.cfm\" aria-label=\"Escrow.com is a HugeDomains partner\"><img src=\"https://static.HugeDomains.com/images/hdv3-img/footer-logo-5.png\" alt=\"\" border=\"0\"></a></div>\\n</div>\\n<div class=\"text-center\">\\n<span class=\"cta font24\">Talk to a domain expert: <a href=\"tel:1-303-893-0552\" class=\"link\">+1-303-893-0552</a></span>\\n</div>\\n<p class=\"copyright text-center\">&copy; 2023 HugeDomains.com. All rights reserved.</p>\\n<a href=\"https://www.HugeDomains.com/domain-info.cfm\" tabindex=\"-1\" aria-label=\"more.\"></a>\\n</div>\\n</footer>\\n<script src=\"https://www.google.com/recaptcha/enterprise.js?render=6LdRB9UiAAAAABaf3jRLyU_gwaGIp-3OvR51myRx\"></script>\\n<script src=\"https://static.HugeDomains.com/js/hdv3-js/jquery.min.js\"></script>\\n<script src=\"https://static.HugeDomains.com/js/hdv3-js/intlTelInput.js\"></script>\\n<script src=\"https://static.HugeDomains.com/js/hdv3-js/script.js?aa=2022-10-32\"></script>\\n<script src=\"https://static.HugeDomains.com/js/hdv3-js/common.js\"></script>\\n<script src=\"https://static.HugeDomains.com/js/hdv3-js/hd-js.js?a=20220124b\"></script>\\n<script src=\"https://www.HugeDomains.com/rjs/hdv3-rjs/hd-js.cfm?aa=2022-10-32\"></script>\\n<script>\\r\\n/* shopping cart number */\\r\\ncartJs = readCookie(\\'SHOPPINGCART\\');\\r\\nif ((cartJs == \\'\\') || (cartJs == \\'%2C\\') || (cartJs == \\',\\')) {\\r\\n/* empty */\\r\\n$(\\'#hdv3HeaderCartIconDivID\\').addClass(\\'empty-cart\\');\\r\\n} else if (cartJs !== null) {\\r\\ncartItems = readCookie(\\'SHOPPINGCART\\').split(\"%2C\");\\r\\n$(\\'#hdv3HeaderCartIconDivID\\').removeClass(\\'empty-cart\\');\\r\\n$(\\'#hdv3CartNumberSpanID\\').removeClass(\\'hiddenAtLoad\\');\\r\\n$(\\'#hdv3CartNumberSpanID\\').html(cartItems.length);\\r\\n}\\r\\ndomainNumberFavorite(\\'hdv3FavNumberSpanID\\');\\r\\n</script>\\n<script>\\r\\ndomainHurryProductThree(\\'PlaceGoat.com\\');\\r\\ndomainStarredFavorite(\\'PlaceGoat.com\\', \\'hdv3ProductFavoriteHeartID\\' );\\r\\n$(function() {\\r\\nvar wv = $(window).outerWidth();\\r\\nif (wv > 768) {\\r\\nvar $window = $(window);\\r\\nvar $sidebar = $(\".ss-block-inner\");\\r\\nvar $sidebarTop = $sidebar.position().top ;\\r\\nvar $sidebarHeight = $sidebar.height();\\r\\nvar $footer = $(\\'#footer\\');\\r\\nvar $footerTop = $footer.position().top;\\r\\nvar $footerTop = $footerTop - 85;\\r\\n$window.scroll(function(event) {\\r\\n$sidebar.addClass(\"fixed\");\\r\\nvar $scrollTop = $window.scrollTop();\\r\\nvar $topPosition = Math.max(85, $sidebarTop - $scrollTop);\\r\\nvar $maindiv = $(\".site-main\");\\r\\nvar $maindivTop = $maindiv.position().top;\\r\\nvar $maindivTop = $maindivTop - 85;\\r\\n/* qqq */\\r\\n/* required */\\r\\nif ($scrollTop + $sidebarHeight > $footerTop ) {\\r\\nvar $topPosition = Math.min($topPosition, $footerTop - $scrollTop - $sidebarHeight );\\r\\n}\\r\\nif ( false == $( \"header#header\" ).hasClass( \"fixed-header\" ) ) {\\r\\nif ($topPosition == 85) {\\r\\n$topPosition = 140; /* 140 org */\\r\\n}\\r\\nif (140 > $topPosition) {\\r\\n$topPosition = 140; /* 140 org */\\r\\n}\\r\\n}\\r\\n$sidebar.css(\"top\", $topPosition );\\r\\n});\\r\\n}\\r\\n});\\r\\n$(window).scroll(function () {\\r\\nif ( $(\\'.hdv3pitch\\').length ) {\\r\\nvar offset = $(\".hdv3pitch\").offset();\\r\\nvar w = $(window);\\r\\nvar ww = offset.top-w.scrollTop();\\r\\nif ( ww > 85) {\\r\\n$(\\'#hdv3Product3FooterBarrID\\').addClass(\\'hiddenAtLoad\\');\\r\\n} else if ( ww <= 85) {\\r\\n$(\\'#hdv3Product3FooterBarrID\\').removeClass(\\'hiddenAtLoad\\');\\r\\n}\\r\\n} else {\\r\\n$(\\'#hdv3Product3FooterBarrID\\').removeClass(\\'hiddenAtLoad\\');\\r\\n}\\r\\n});\\r\\n</script>\\n\\n<script>(function(){var js = \"window[\\'__CF$cv$params\\']={r:\\'7d44f54eafbfb984\\',m:\\'xI6dRrkvwkkmxRX1KlXlzQnRvOYMJpZvt8J9gTZpJic-1686267399-0-AQEgjk9UG3D0IryBLs0Pwguv37q/Fb/FegyoEeOd7ZcL\\'};_cpo=document.createElement(\\'script\\');_cpo.nonce=\\'\\',_cpo.src=\\'/cdn-cgi/challenge-platform/scripts/invisible.js\\',document.getElementsByTagName(\\'head\\')[0].appendChild(_cpo);\";var _0xh = document.createElement(\\'iframe\\');_0xh.height = 1;_0xh.width = 1;_0xh.style.position = \\'absolute\\';_0xh.style.top = 0;_0xh.style.left = 0;_0xh.style.border = \\'none\\';_0xh.style.visibility = \\'hidden\\';document.body.appendChild(_0xh);function handler() {var _0xi = _0xh.contentDocument || _0xh.contentWindow.document;if (_0xi) {var _0xj = _0xi.createElement(\\'script\\');_0xj.nonce = \\'\\';_0xj.innerHTML = js;_0xi.getElementsByTagName(\\'head\\')[0].appendChild(_0xj);}}if (document.readyState !== \\'loading\\') {handler();} else if (window.addEventListener) {document.addEventListener(\\'DOMContentLoaded\\', handler);} else {var prev = document.onreadystatechange || function () {};document.onreadystatechange = function (e) {prev(e);if (document.readyState !== \\'loading\\') {document.onreadystatechange = prev;handler();}};}})();</script></body></html>\\n'\n"
          ]
        }
      ]
    },
    {
      "cell_type": "code",
      "source": [],
      "metadata": {
        "id": "Ch0sVb9THsjn"
      },
      "execution_count": null,
      "outputs": []
    }
  ]
}