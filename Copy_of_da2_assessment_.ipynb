{
  "cells": [
    {
      "cell_type": "markdown",
      "metadata": {
        "id": "view-in-github",
        "colab_type": "text"
      },
      "source": [
        "<a href=\"https://colab.research.google.com/github/nirmalaJ21/-CircleChallenge/blob/main/Copy_of_da2_assessment_.ipynb\" target=\"_parent\"><img src=\"https://colab.research.google.com/assets/colab-badge.svg\" alt=\"Open In Colab\"/></a>"
      ]
    },
    {
      "cell_type": "code",
      "execution_count": null,
      "id": "92364496",
      "metadata": {
        "id": "92364496"
      },
      "outputs": [],
      "source": [
        "import pandas as pd\n",
        "import matplotlib.pyplot as plt\n",
        "import seaborn as sns"
      ]
    },
    {
      "cell_type": "code",
      "execution_count": null,
      "id": "068c7115",
      "metadata": {
        "id": "068c7115"
      },
      "outputs": [],
      "source": [
        "data = pd.read_csv('present.csv')"
      ]
    },
    {
      "cell_type": "code",
      "execution_count": null,
      "id": "c1f0f5ef",
      "metadata": {
        "id": "c1f0f5ef",
        "outputId": "a73d56a0-94ce-4000-9760-35601b8d6403"
      },
      "outputs": [
        {
          "name": "stdout",
          "output_type": "stream",
          "text": [
            "<class 'pandas.core.frame.DataFrame'>\n",
            "RangeIndex: 74 entries, 0 to 73\n",
            "Data columns (total 6 columns):\n",
            " #   Column             Non-Null Count  Dtype  \n",
            "---  ------             --------------  -----  \n",
            " 0   head_of_state      74 non-null     object \n",
            " 1   year               74 non-null     int64  \n",
            " 2   boys               74 non-null     int64  \n",
            " 3   girls              74 non-null     int64  \n",
            " 4   total              74 non-null     int64  \n",
            " 5   boy_to_girl_ratio  74 non-null     float64\n",
            "dtypes: float64(1), int64(4), object(1)\n",
            "memory usage: 3.6+ KB\n"
          ]
        }
      ],
      "source": [
        "data.info()"
      ]
    },
    {
      "cell_type": "code",
      "execution_count": null,
      "id": "0aba3784",
      "metadata": {
        "id": "0aba3784",
        "outputId": "a0fa76e6-14cc-4411-b5df-1f60a734e762"
      },
      "outputs": [
        {
          "data": {
            "text/html": [
              "<div>\n",
              "<style scoped>\n",
              "    .dataframe tbody tr th:only-of-type {\n",
              "        vertical-align: middle;\n",
              "    }\n",
              "\n",
              "    .dataframe tbody tr th {\n",
              "        vertical-align: top;\n",
              "    }\n",
              "\n",
              "    .dataframe thead th {\n",
              "        text-align: right;\n",
              "    }\n",
              "</style>\n",
              "<table border=\"1\" class=\"dataframe\">\n",
              "  <thead>\n",
              "    <tr style=\"text-align: right;\">\n",
              "      <th></th>\n",
              "      <th>head_of_state</th>\n",
              "      <th>year</th>\n",
              "      <th>boys</th>\n",
              "      <th>girls</th>\n",
              "      <th>total</th>\n",
              "      <th>boy_to_girl_ratio</th>\n",
              "    </tr>\n",
              "  </thead>\n",
              "  <tbody>\n",
              "    <tr>\n",
              "      <th>0</th>\n",
              "      <td>Franklin D. Roosevelt</td>\n",
              "      <td>1940</td>\n",
              "      <td>1211684</td>\n",
              "      <td>1148715</td>\n",
              "      <td>2360399</td>\n",
              "      <td>1.055</td>\n",
              "    </tr>\n",
              "    <tr>\n",
              "      <th>1</th>\n",
              "      <td>Franklin D. Roosevelt</td>\n",
              "      <td>1941</td>\n",
              "      <td>1289734</td>\n",
              "      <td>1223693</td>\n",
              "      <td>2513427</td>\n",
              "      <td>1.054</td>\n",
              "    </tr>\n",
              "    <tr>\n",
              "      <th>2</th>\n",
              "      <td>Franklin D. Roosevelt</td>\n",
              "      <td>1942</td>\n",
              "      <td>1444365</td>\n",
              "      <td>1364631</td>\n",
              "      <td>2808996</td>\n",
              "      <td>1.058</td>\n",
              "    </tr>\n",
              "    <tr>\n",
              "      <th>3</th>\n",
              "      <td>Franklin D. Roosevelt</td>\n",
              "      <td>1943</td>\n",
              "      <td>1508959</td>\n",
              "      <td>1427901</td>\n",
              "      <td>2936860</td>\n",
              "      <td>1.057</td>\n",
              "    </tr>\n",
              "    <tr>\n",
              "      <th>4</th>\n",
              "      <td>Franklin D. Roosevelt</td>\n",
              "      <td>1944</td>\n",
              "      <td>1435301</td>\n",
              "      <td>1359499</td>\n",
              "      <td>2794800</td>\n",
              "      <td>1.056</td>\n",
              "    </tr>\n",
              "  </tbody>\n",
              "</table>\n",
              "</div>"
            ],
            "text/plain": [
              "           head_of_state  year     boys    girls    total  boy_to_girl_ratio\n",
              "0  Franklin D. Roosevelt  1940  1211684  1148715  2360399              1.055\n",
              "1  Franklin D. Roosevelt  1941  1289734  1223693  2513427              1.054\n",
              "2  Franklin D. Roosevelt  1942  1444365  1364631  2808996              1.058\n",
              "3  Franklin D. Roosevelt  1943  1508959  1427901  2936860              1.057\n",
              "4  Franklin D. Roosevelt  1944  1435301  1359499  2794800              1.056"
            ]
          },
          "execution_count": 5,
          "metadata": {},
          "output_type": "execute_result"
        }
      ],
      "source": [
        "data.head()"
      ]
    },
    {
      "cell_type": "code",
      "execution_count": null,
      "id": "200b6b15",
      "metadata": {
        "id": "200b6b15",
        "outputId": "bc57e9bf-9485-42d6-ba6d-9bcea1bd7bb0"
      },
      "outputs": [
        {
          "data": {
            "text/html": [
              "<div>\n",
              "<style scoped>\n",
              "    .dataframe tbody tr th:only-of-type {\n",
              "        vertical-align: middle;\n",
              "    }\n",
              "\n",
              "    .dataframe tbody tr th {\n",
              "        vertical-align: top;\n",
              "    }\n",
              "\n",
              "    .dataframe thead th {\n",
              "        text-align: right;\n",
              "    }\n",
              "</style>\n",
              "<table border=\"1\" class=\"dataframe\">\n",
              "  <thead>\n",
              "    <tr style=\"text-align: right;\">\n",
              "      <th></th>\n",
              "      <th>year</th>\n",
              "      <th>boys</th>\n",
              "      <th>girls</th>\n",
              "      <th>total</th>\n",
              "      <th>boy_to_girl_ratio</th>\n",
              "    </tr>\n",
              "  </thead>\n",
              "  <tbody>\n",
              "    <tr>\n",
              "      <th>count</th>\n",
              "      <td>74.000000</td>\n",
              "      <td>7.400000e+01</td>\n",
              "      <td>7.400000e+01</td>\n",
              "      <td>7.400000e+01</td>\n",
              "      <td>74.000000</td>\n",
              "    </tr>\n",
              "    <tr>\n",
              "      <th>mean</th>\n",
              "      <td>1976.500000</td>\n",
              "      <td>1.917502e+06</td>\n",
              "      <td>1.825037e+06</td>\n",
              "      <td>3.742539e+06</td>\n",
              "      <td>1.050946</td>\n",
              "    </tr>\n",
              "    <tr>\n",
              "      <th>std</th>\n",
              "      <td>21.505813</td>\n",
              "      <td>2.238978e+05</td>\n",
              "      <td>2.162904e+05</td>\n",
              "      <td>4.401747e+05</td>\n",
              "      <td>0.002871</td>\n",
              "    </tr>\n",
              "    <tr>\n",
              "      <th>min</th>\n",
              "      <td>1940.000000</td>\n",
              "      <td>1.211684e+06</td>\n",
              "      <td>1.148715e+06</td>\n",
              "      <td>2.360399e+06</td>\n",
              "      <td>1.046000</td>\n",
              "    </tr>\n",
              "    <tr>\n",
              "      <th>25%</th>\n",
              "      <td>1958.250000</td>\n",
              "      <td>1.823071e+06</td>\n",
              "      <td>1.731210e+06</td>\n",
              "      <td>3.554604e+06</td>\n",
              "      <td>1.049000</td>\n",
              "    </tr>\n",
              "    <tr>\n",
              "      <th>50%</th>\n",
              "      <td>1976.500000</td>\n",
              "      <td>1.988038e+06</td>\n",
              "      <td>1.897810e+06</td>\n",
              "      <td>3.886194e+06</td>\n",
              "      <td>1.051000</td>\n",
              "    </tr>\n",
              "    <tr>\n",
              "      <th>75%</th>\n",
              "      <td>1994.750000</td>\n",
              "      <td>2.076156e+06</td>\n",
              "      <td>1.979778e+06</td>\n",
              "      <td>4.055934e+06</td>\n",
              "      <td>1.053000</td>\n",
              "    </tr>\n",
              "    <tr>\n",
              "      <th>max</th>\n",
              "      <td>2013.000000</td>\n",
              "      <td>2.208071e+06</td>\n",
              "      <td>2.108162e+06</td>\n",
              "      <td>4.316233e+06</td>\n",
              "      <td>1.059000</td>\n",
              "    </tr>\n",
              "  </tbody>\n",
              "</table>\n",
              "</div>"
            ],
            "text/plain": [
              "              year          boys         girls         total  \\\n",
              "count    74.000000  7.400000e+01  7.400000e+01  7.400000e+01   \n",
              "mean   1976.500000  1.917502e+06  1.825037e+06  3.742539e+06   \n",
              "std      21.505813  2.238978e+05  2.162904e+05  4.401747e+05   \n",
              "min    1940.000000  1.211684e+06  1.148715e+06  2.360399e+06   \n",
              "25%    1958.250000  1.823071e+06  1.731210e+06  3.554604e+06   \n",
              "50%    1976.500000  1.988038e+06  1.897810e+06  3.886194e+06   \n",
              "75%    1994.750000  2.076156e+06  1.979778e+06  4.055934e+06   \n",
              "max    2013.000000  2.208071e+06  2.108162e+06  4.316233e+06   \n",
              "\n",
              "       boy_to_girl_ratio  \n",
              "count          74.000000  \n",
              "mean            1.050946  \n",
              "std             0.002871  \n",
              "min             1.046000  \n",
              "25%             1.049000  \n",
              "50%             1.051000  \n",
              "75%             1.053000  \n",
              "max             1.059000  "
            ]
          },
          "execution_count": 6,
          "metadata": {},
          "output_type": "execute_result"
        }
      ],
      "source": [
        "data.describe()"
      ]
    },
    {
      "cell_type": "markdown",
      "id": "fb385ac1",
      "metadata": {
        "id": "fb385ac1"
      },
      "source": [
        "# What range of years does this data represent? Your answer should be two year values."
      ]
    },
    {
      "cell_type": "code",
      "execution_count": null,
      "id": "e01cd86e",
      "metadata": {
        "id": "e01cd86e",
        "outputId": "47e53746-d800-4345-8e5b-ef40a59d315d"
      },
      "outputs": [
        {
          "name": "stdout",
          "output_type": "stream",
          "text": [
            "min:  1940\n",
            "max:  2013\n"
          ]
        }
      ],
      "source": [
        "print(\"min: \", data['year'].min())\n",
        "print(\"max: \", data['year'].max())"
      ]
    },
    {
      "cell_type": "markdown",
      "id": "be6c0b36",
      "metadata": {
        "id": "be6c0b36"
      },
      "source": [
        "# What is the average number of children born per decade?\n"
      ]
    },
    {
      "cell_type": "code",
      "execution_count": null,
      "id": "c88952c2",
      "metadata": {
        "id": "c88952c2",
        "outputId": "58bc3ee8-9cb6-4b18-e28f-93974a8668d0"
      },
      "outputs": [
        {
          "data": {
            "text/html": [
              "<div>\n",
              "<style scoped>\n",
              "    .dataframe tbody tr th:only-of-type {\n",
              "        vertical-align: middle;\n",
              "    }\n",
              "\n",
              "    .dataframe tbody tr th {\n",
              "        vertical-align: top;\n",
              "    }\n",
              "\n",
              "    .dataframe thead th {\n",
              "        text-align: right;\n",
              "    }\n",
              "</style>\n",
              "<table border=\"1\" class=\"dataframe\">\n",
              "  <thead>\n",
              "    <tr style=\"text-align: right;\">\n",
              "      <th></th>\n",
              "      <th>head_of_state</th>\n",
              "      <th>year</th>\n",
              "      <th>boys</th>\n",
              "      <th>girls</th>\n",
              "      <th>total</th>\n",
              "      <th>boy_to_girl_ratio</th>\n",
              "      <th>decade</th>\n",
              "    </tr>\n",
              "  </thead>\n",
              "  <tbody>\n",
              "    <tr>\n",
              "      <th>0</th>\n",
              "      <td>Franklin D. Roosevelt</td>\n",
              "      <td>1940</td>\n",
              "      <td>1211684</td>\n",
              "      <td>1148715</td>\n",
              "      <td>2360399</td>\n",
              "      <td>1.055</td>\n",
              "      <td>1940</td>\n",
              "    </tr>\n",
              "    <tr>\n",
              "      <th>1</th>\n",
              "      <td>Franklin D. Roosevelt</td>\n",
              "      <td>1941</td>\n",
              "      <td>1289734</td>\n",
              "      <td>1223693</td>\n",
              "      <td>2513427</td>\n",
              "      <td>1.054</td>\n",
              "      <td>1940</td>\n",
              "    </tr>\n",
              "    <tr>\n",
              "      <th>2</th>\n",
              "      <td>Franklin D. Roosevelt</td>\n",
              "      <td>1942</td>\n",
              "      <td>1444365</td>\n",
              "      <td>1364631</td>\n",
              "      <td>2808996</td>\n",
              "      <td>1.058</td>\n",
              "      <td>1940</td>\n",
              "    </tr>\n",
              "    <tr>\n",
              "      <th>3</th>\n",
              "      <td>Franklin D. Roosevelt</td>\n",
              "      <td>1943</td>\n",
              "      <td>1508959</td>\n",
              "      <td>1427901</td>\n",
              "      <td>2936860</td>\n",
              "      <td>1.057</td>\n",
              "      <td>1940</td>\n",
              "    </tr>\n",
              "    <tr>\n",
              "      <th>4</th>\n",
              "      <td>Franklin D. Roosevelt</td>\n",
              "      <td>1944</td>\n",
              "      <td>1435301</td>\n",
              "      <td>1359499</td>\n",
              "      <td>2794800</td>\n",
              "      <td>1.056</td>\n",
              "      <td>1940</td>\n",
              "    </tr>\n",
              "  </tbody>\n",
              "</table>\n",
              "</div>"
            ],
            "text/plain": [
              "           head_of_state  year     boys    girls    total  boy_to_girl_ratio  \\\n",
              "0  Franklin D. Roosevelt  1940  1211684  1148715  2360399              1.055   \n",
              "1  Franklin D. Roosevelt  1941  1289734  1223693  2513427              1.054   \n",
              "2  Franklin D. Roosevelt  1942  1444365  1364631  2808996              1.058   \n",
              "3  Franklin D. Roosevelt  1943  1508959  1427901  2936860              1.057   \n",
              "4  Franklin D. Roosevelt  1944  1435301  1359499  2794800              1.056   \n",
              "\n",
              "   decade  \n",
              "0    1940  \n",
              "1    1940  \n",
              "2    1940  \n",
              "3    1940  \n",
              "4    1940  "
            ]
          },
          "execution_count": 10,
          "metadata": {},
          "output_type": "execute_result"
        }
      ],
      "source": [
        "data['decade'] = data['year']//10*10\n",
        "data.head()"
      ]
    },
    {
      "cell_type": "code",
      "execution_count": null,
      "id": "80cbc049",
      "metadata": {
        "id": "80cbc049",
        "outputId": "0de594cf-d4b3-4e0b-e0a6-2c9157ca5dc0"
      },
      "outputs": [
        {
          "data": {
            "text/html": [
              "<div>\n",
              "<style scoped>\n",
              "    .dataframe tbody tr th:only-of-type {\n",
              "        vertical-align: middle;\n",
              "    }\n",
              "\n",
              "    .dataframe tbody tr th {\n",
              "        vertical-align: top;\n",
              "    }\n",
              "\n",
              "    .dataframe thead th {\n",
              "        text-align: right;\n",
              "    }\n",
              "</style>\n",
              "<table border=\"1\" class=\"dataframe\">\n",
              "  <thead>\n",
              "    <tr style=\"text-align: right;\">\n",
              "      <th></th>\n",
              "      <th>head_of_state</th>\n",
              "      <th>year</th>\n",
              "      <th>boys</th>\n",
              "      <th>girls</th>\n",
              "      <th>total</th>\n",
              "      <th>boy_to_girl_ratio</th>\n",
              "      <th>decade</th>\n",
              "    </tr>\n",
              "  </thead>\n",
              "  <tbody>\n",
              "    <tr>\n",
              "      <th>69</th>\n",
              "      <td>Barack Obama</td>\n",
              "      <td>2009</td>\n",
              "      <td>2113739</td>\n",
              "      <td>2016926</td>\n",
              "      <td>4130665</td>\n",
              "      <td>1.048</td>\n",
              "      <td>2000</td>\n",
              "    </tr>\n",
              "    <tr>\n",
              "      <th>70</th>\n",
              "      <td>Barack Obama</td>\n",
              "      <td>2010</td>\n",
              "      <td>2046561</td>\n",
              "      <td>1952825</td>\n",
              "      <td>3999386</td>\n",
              "      <td>1.048</td>\n",
              "      <td>2010</td>\n",
              "    </tr>\n",
              "    <tr>\n",
              "      <th>71</th>\n",
              "      <td>Barack Obama</td>\n",
              "      <td>2011</td>\n",
              "      <td>2024068</td>\n",
              "      <td>1929522</td>\n",
              "      <td>3953590</td>\n",
              "      <td>1.049</td>\n",
              "      <td>2010</td>\n",
              "    </tr>\n",
              "    <tr>\n",
              "      <th>72</th>\n",
              "      <td>Barack Obama</td>\n",
              "      <td>2012</td>\n",
              "      <td>2021800</td>\n",
              "      <td>1931041</td>\n",
              "      <td>3952841</td>\n",
              "      <td>1.047</td>\n",
              "      <td>2010</td>\n",
              "    </tr>\n",
              "    <tr>\n",
              "      <th>73</th>\n",
              "      <td>Barack Obama</td>\n",
              "      <td>2013</td>\n",
              "      <td>2013108</td>\n",
              "      <td>1919073</td>\n",
              "      <td>3932181</td>\n",
              "      <td>1.049</td>\n",
              "      <td>2010</td>\n",
              "    </tr>\n",
              "  </tbody>\n",
              "</table>\n",
              "</div>"
            ],
            "text/plain": [
              "   head_of_state  year     boys    girls    total  boy_to_girl_ratio  decade\n",
              "69  Barack Obama  2009  2113739  2016926  4130665              1.048    2000\n",
              "70  Barack Obama  2010  2046561  1952825  3999386              1.048    2010\n",
              "71  Barack Obama  2011  2024068  1929522  3953590              1.049    2010\n",
              "72  Barack Obama  2012  2021800  1931041  3952841              1.047    2010\n",
              "73  Barack Obama  2013  2013108  1919073  3932181              1.049    2010"
            ]
          },
          "execution_count": 11,
          "metadata": {},
          "output_type": "execute_result"
        }
      ],
      "source": [
        "data.tail()"
      ]
    },
    {
      "cell_type": "code",
      "execution_count": null,
      "id": "c144455c",
      "metadata": {
        "id": "c144455c"
      },
      "outputs": [],
      "source": [
        "new_data = data.groupby('decade')['total'].mean()"
      ]
    },
    {
      "cell_type": "code",
      "execution_count": null,
      "id": "22c1a200",
      "metadata": {
        "id": "22c1a200",
        "outputId": "f93e3039-a818-4e52-892e-7ebf44c8c1a3"
      },
      "outputs": [
        {
          "data": {
            "text/plain": [
              "decade\n",
              "1940    3023314.7\n",
              "1950    3998524.4\n",
              "1960    3880840.9\n",
              "1970    3330898.5\n",
              "1980    3750707.7\n",
              "1990    3986008.7\n",
              "2000    4140697.1\n",
              "2010    3959499.5\n",
              "Name: total, dtype: float64"
            ]
          },
          "execution_count": 13,
          "metadata": {},
          "output_type": "execute_result"
        }
      ],
      "source": [
        "new_data"
      ]
    },
    {
      "cell_type": "code",
      "execution_count": null,
      "id": "9173150d",
      "metadata": {
        "id": "9173150d"
      },
      "outputs": [],
      "source": [
        "data['new_decade'] = data['year'].apply(str).str[-2] + '0s'"
      ]
    },
    {
      "cell_type": "code",
      "execution_count": null,
      "id": "726a42f6",
      "metadata": {
        "id": "726a42f6",
        "outputId": "7ea8ab1a-92b6-405b-f47f-f1433c2de527"
      },
      "outputs": [
        {
          "data": {
            "text/html": [
              "<div>\n",
              "<style scoped>\n",
              "    .dataframe tbody tr th:only-of-type {\n",
              "        vertical-align: middle;\n",
              "    }\n",
              "\n",
              "    .dataframe tbody tr th {\n",
              "        vertical-align: top;\n",
              "    }\n",
              "\n",
              "    .dataframe thead th {\n",
              "        text-align: right;\n",
              "    }\n",
              "</style>\n",
              "<table border=\"1\" class=\"dataframe\">\n",
              "  <thead>\n",
              "    <tr style=\"text-align: right;\">\n",
              "      <th></th>\n",
              "      <th>head_of_state</th>\n",
              "      <th>year</th>\n",
              "      <th>boys</th>\n",
              "      <th>girls</th>\n",
              "      <th>total</th>\n",
              "      <th>boy_to_girl_ratio</th>\n",
              "      <th>decade</th>\n",
              "      <th>new_decade</th>\n",
              "    </tr>\n",
              "  </thead>\n",
              "  <tbody>\n",
              "    <tr>\n",
              "      <th>0</th>\n",
              "      <td>Franklin D. Roosevelt</td>\n",
              "      <td>1940</td>\n",
              "      <td>1211684</td>\n",
              "      <td>1148715</td>\n",
              "      <td>2360399</td>\n",
              "      <td>1.055</td>\n",
              "      <td>1940</td>\n",
              "      <td>40s</td>\n",
              "    </tr>\n",
              "    <tr>\n",
              "      <th>1</th>\n",
              "      <td>Franklin D. Roosevelt</td>\n",
              "      <td>1941</td>\n",
              "      <td>1289734</td>\n",
              "      <td>1223693</td>\n",
              "      <td>2513427</td>\n",
              "      <td>1.054</td>\n",
              "      <td>1940</td>\n",
              "      <td>40s</td>\n",
              "    </tr>\n",
              "    <tr>\n",
              "      <th>2</th>\n",
              "      <td>Franklin D. Roosevelt</td>\n",
              "      <td>1942</td>\n",
              "      <td>1444365</td>\n",
              "      <td>1364631</td>\n",
              "      <td>2808996</td>\n",
              "      <td>1.058</td>\n",
              "      <td>1940</td>\n",
              "      <td>40s</td>\n",
              "    </tr>\n",
              "    <tr>\n",
              "      <th>3</th>\n",
              "      <td>Franklin D. Roosevelt</td>\n",
              "      <td>1943</td>\n",
              "      <td>1508959</td>\n",
              "      <td>1427901</td>\n",
              "      <td>2936860</td>\n",
              "      <td>1.057</td>\n",
              "      <td>1940</td>\n",
              "      <td>40s</td>\n",
              "    </tr>\n",
              "    <tr>\n",
              "      <th>4</th>\n",
              "      <td>Franklin D. Roosevelt</td>\n",
              "      <td>1944</td>\n",
              "      <td>1435301</td>\n",
              "      <td>1359499</td>\n",
              "      <td>2794800</td>\n",
              "      <td>1.056</td>\n",
              "      <td>1940</td>\n",
              "      <td>40s</td>\n",
              "    </tr>\n",
              "    <tr>\n",
              "      <th>...</th>\n",
              "      <td>...</td>\n",
              "      <td>...</td>\n",
              "      <td>...</td>\n",
              "      <td>...</td>\n",
              "      <td>...</td>\n",
              "      <td>...</td>\n",
              "      <td>...</td>\n",
              "      <td>...</td>\n",
              "    </tr>\n",
              "    <tr>\n",
              "      <th>69</th>\n",
              "      <td>Barack Obama</td>\n",
              "      <td>2009</td>\n",
              "      <td>2113739</td>\n",
              "      <td>2016926</td>\n",
              "      <td>4130665</td>\n",
              "      <td>1.048</td>\n",
              "      <td>2000</td>\n",
              "      <td>00s</td>\n",
              "    </tr>\n",
              "    <tr>\n",
              "      <th>70</th>\n",
              "      <td>Barack Obama</td>\n",
              "      <td>2010</td>\n",
              "      <td>2046561</td>\n",
              "      <td>1952825</td>\n",
              "      <td>3999386</td>\n",
              "      <td>1.048</td>\n",
              "      <td>2010</td>\n",
              "      <td>10s</td>\n",
              "    </tr>\n",
              "    <tr>\n",
              "      <th>71</th>\n",
              "      <td>Barack Obama</td>\n",
              "      <td>2011</td>\n",
              "      <td>2024068</td>\n",
              "      <td>1929522</td>\n",
              "      <td>3953590</td>\n",
              "      <td>1.049</td>\n",
              "      <td>2010</td>\n",
              "      <td>10s</td>\n",
              "    </tr>\n",
              "    <tr>\n",
              "      <th>72</th>\n",
              "      <td>Barack Obama</td>\n",
              "      <td>2012</td>\n",
              "      <td>2021800</td>\n",
              "      <td>1931041</td>\n",
              "      <td>3952841</td>\n",
              "      <td>1.047</td>\n",
              "      <td>2010</td>\n",
              "      <td>10s</td>\n",
              "    </tr>\n",
              "    <tr>\n",
              "      <th>73</th>\n",
              "      <td>Barack Obama</td>\n",
              "      <td>2013</td>\n",
              "      <td>2013108</td>\n",
              "      <td>1919073</td>\n",
              "      <td>3932181</td>\n",
              "      <td>1.049</td>\n",
              "      <td>2010</td>\n",
              "      <td>10s</td>\n",
              "    </tr>\n",
              "  </tbody>\n",
              "</table>\n",
              "<p>74 rows × 8 columns</p>\n",
              "</div>"
            ],
            "text/plain": [
              "            head_of_state  year     boys    girls    total  boy_to_girl_ratio  \\\n",
              "0   Franklin D. Roosevelt  1940  1211684  1148715  2360399              1.055   \n",
              "1   Franklin D. Roosevelt  1941  1289734  1223693  2513427              1.054   \n",
              "2   Franklin D. Roosevelt  1942  1444365  1364631  2808996              1.058   \n",
              "3   Franklin D. Roosevelt  1943  1508959  1427901  2936860              1.057   \n",
              "4   Franklin D. Roosevelt  1944  1435301  1359499  2794800              1.056   \n",
              "..                    ...   ...      ...      ...      ...                ...   \n",
              "69           Barack Obama  2009  2113739  2016926  4130665              1.048   \n",
              "70           Barack Obama  2010  2046561  1952825  3999386              1.048   \n",
              "71           Barack Obama  2011  2024068  1929522  3953590              1.049   \n",
              "72           Barack Obama  2012  2021800  1931041  3952841              1.047   \n",
              "73           Barack Obama  2013  2013108  1919073  3932181              1.049   \n",
              "\n",
              "    decade new_decade  \n",
              "0     1940        40s  \n",
              "1     1940        40s  \n",
              "2     1940        40s  \n",
              "3     1940        40s  \n",
              "4     1940        40s  \n",
              "..     ...        ...  \n",
              "69    2000        00s  \n",
              "70    2010        10s  \n",
              "71    2010        10s  \n",
              "72    2010        10s  \n",
              "73    2010        10s  \n",
              "\n",
              "[74 rows x 8 columns]"
            ]
          },
          "execution_count": 17,
          "metadata": {},
          "output_type": "execute_result"
        }
      ],
      "source": [
        "data"
      ]
    },
    {
      "cell_type": "code",
      "execution_count": null,
      "id": "a4f6d4d9",
      "metadata": {
        "id": "a4f6d4d9"
      },
      "outputs": [],
      "source": [
        "new_data = data.groupby('new_decade')['total'].mean()"
      ]
    },
    {
      "cell_type": "code",
      "execution_count": null,
      "id": "ffd7fb55",
      "metadata": {
        "id": "ffd7fb55",
        "outputId": "1ca2c33c-7b59-43c0-e2cc-c808cb745451"
      },
      "outputs": [
        {
          "data": {
            "text/plain": [
              "new_decade\n",
              "00s    4140697.1\n",
              "10s    3959499.5\n",
              "40s    3023314.7\n",
              "50s    3998524.4\n",
              "60s    3880840.9\n",
              "70s    3330898.5\n",
              "80s    3750707.7\n",
              "90s    3986008.7\n",
              "Name: total, dtype: float64"
            ]
          },
          "execution_count": 19,
          "metadata": {},
          "output_type": "execute_result"
        }
      ],
      "source": [
        "new_data"
      ]
    },
    {
      "cell_type": "markdown",
      "id": "a9da3f66",
      "metadata": {
        "id": "a9da3f66"
      },
      "source": [
        "# Create a line plot to show the number of boys and girls born over time.\n"
      ]
    },
    {
      "cell_type": "code",
      "execution_count": null,
      "id": "5059936c",
      "metadata": {
        "id": "5059936c",
        "outputId": "089aaceb-294d-4b32-e5fd-befbb3a500b0"
      },
      "outputs": [
        {
          "data": {
            "image/png": "[encoded data removed]",
            "text/plain": [
              "<Figure size 864x432 with 1 Axes>"
            ]
          },
          "metadata": {
            "needs_background": "light"
          },
          "output_type": "display_data"
        }
      ],
      "source": [
        "plt.figure(figsize=(12,6))\n",
        "plt.plot(data['year'],data['boys'], marker ='o', label = 'boys')\n",
        "plt.plot(data['year'],data['girls'], marker ='o', label = 'girls')\n",
        "plt.title(\"he number of boys and girls born over time.\")\n",
        "plt.xlabel(\"year\")\n",
        "plt.ylabel(\"count\")\n",
        "plt.legend(loc=\"lower right\")\n",
        "plt.show()"
      ]
    },
    {
      "cell_type": "markdown",
      "id": "a9a2bc7d",
      "metadata": {
        "id": "a9a2bc7d"
      },
      "source": [
        "# Create a bar chart of the number of total children born for every head of state, sorted by the president’s term.\n"
      ]
    },
    {
      "cell_type": "code",
      "execution_count": null,
      "id": "f9c9261c",
      "metadata": {
        "id": "f9c9261c"
      },
      "outputs": [],
      "source": [
        "new_data = data.groupby('head_of_state').agg({'year':'min','total':'sum'}).sort_values('year')"
      ]
    },
    {
      "cell_type": "code",
      "execution_count": null,
      "id": "53c5fd23",
      "metadata": {
        "id": "53c5fd23",
        "outputId": "4ac56cbc-adfc-4f35-b322-d7369d76f719"
      },
      "outputs": [
        {
          "data": {
            "text/html": [
              "<div>\n",
              "<style scoped>\n",
              "    .dataframe tbody tr th:only-of-type {\n",
              "        vertical-align: middle;\n",
              "    }\n",
              "\n",
              "    .dataframe tbody tr th {\n",
              "        vertical-align: top;\n",
              "    }\n",
              "\n",
              "    .dataframe thead th {\n",
              "        text-align: right;\n",
              "    }\n",
              "</style>\n",
              "<table border=\"1\" class=\"dataframe\">\n",
              "  <thead>\n",
              "    <tr style=\"text-align: right;\">\n",
              "      <th></th>\n",
              "      <th>year</th>\n",
              "      <th>total</th>\n",
              "    </tr>\n",
              "    <tr>\n",
              "      <th>head_of_state</th>\n",
              "      <th></th>\n",
              "      <th></th>\n",
              "    </tr>\n",
              "  </thead>\n",
              "  <tbody>\n",
              "    <tr>\n",
              "      <th>Franklin D. Roosevelt</th>\n",
              "      <td>1940</td>\n",
              "      <td>13414482</td>\n",
              "    </tr>\n",
              "    <tr>\n",
              "      <th>Harry S. Truman</th>\n",
              "      <td>1945</td>\n",
              "      <td>27970650</td>\n",
              "    </tr>\n",
              "    <tr>\n",
              "      <th>Dwight D. Eisenhower</th>\n",
              "      <td>1953</td>\n",
              "      <td>33091109</td>\n",
              "    </tr>\n",
              "    <tr>\n",
              "      <th>John F. Kennedy</th>\n",
              "      <td>1961</td>\n",
              "      <td>12533708</td>\n",
              "    </tr>\n",
              "    <tr>\n",
              "      <th>Lyndon B. Johnson</th>\n",
              "      <td>1964</td>\n",
              "      <td>18416645</td>\n",
              "    </tr>\n",
              "    <tr>\n",
              "      <th>Richard Nixon</th>\n",
              "      <td>1969</td>\n",
              "      <td>20442896</td>\n",
              "    </tr>\n",
              "    <tr>\n",
              "      <th>Gerald Ford</th>\n",
              "      <td>1975</td>\n",
              "      <td>6311986</td>\n",
              "    </tr>\n",
              "    <tr>\n",
              "      <th>Jimmy Carter</th>\n",
              "      <td>1977</td>\n",
              "      <td>13766567</td>\n",
              "    </tr>\n",
              "    <tr>\n",
              "      <th>Ronald Reagan</th>\n",
              "      <td>1981</td>\n",
              "      <td>29853861</td>\n",
              "    </tr>\n",
              "    <tr>\n",
              "      <th>George H. W. Bush</th>\n",
              "      <td>1989</td>\n",
              "      <td>16375091</td>\n",
              "    </tr>\n",
              "    <tr>\n",
              "      <th>Bill Clinton</th>\n",
              "      <td>1993</td>\n",
              "      <td>31584768</td>\n",
              "    </tr>\n",
              "    <tr>\n",
              "      <th>George W. Bush</th>\n",
              "      <td>2001</td>\n",
              "      <td>33217492</td>\n",
              "    </tr>\n",
              "    <tr>\n",
              "      <th>Barack Obama</th>\n",
              "      <td>2009</td>\n",
              "      <td>19968663</td>\n",
              "    </tr>\n",
              "  </tbody>\n",
              "</table>\n",
              "</div>"
            ],
            "text/plain": [
              "                       year     total\n",
              "head_of_state                        \n",
              "Franklin D. Roosevelt  1940  13414482\n",
              "Harry S. Truman        1945  27970650\n",
              "Dwight D. Eisenhower   1953  33091109\n",
              "John F. Kennedy        1961  12533708\n",
              "Lyndon B. Johnson      1964  18416645\n",
              "Richard Nixon          1969  20442896\n",
              "Gerald Ford            1975   6311986\n",
              "Jimmy Carter           1977  13766567\n",
              "Ronald Reagan          1981  29853861\n",
              "George H. W. Bush      1989  16375091\n",
              "Bill Clinton           1993  31584768\n",
              "George W. Bush         2001  33217492\n",
              "Barack Obama           2009  19968663"
            ]
          },
          "execution_count": 28,
          "metadata": {},
          "output_type": "execute_result"
        }
      ],
      "source": [
        "new_data"
      ]
    },
    {
      "cell_type": "code",
      "execution_count": null,
      "id": "b5bd0d82",
      "metadata": {
        "id": "b5bd0d82",
        "outputId": "1a0e1386-28c1-4bb0-a90a-d30164c89c80"
      },
      "outputs": [
        {
          "data": {
            "image/png": "[encoded data removed]",
            "text/plain": [
              "<Figure size 864x432 with 1 Axes>"
            ]
          },
          "metadata": {
            "needs_background": "light"
          },
          "output_type": "display_data"
        }
      ],
      "source": [
        "plt.figure(figsize=(12,6))\n",
        "\n",
        "plt.bar(x=new_data.index, height=new_data['total'])\n",
        "plt.title(\"number of total children born for every head of state\")\n",
        "plt.xlabel(\"head of state\")\n",
        "plt.xticks(rotation = 90)\n",
        "plt.ylabel(\"total count\")\n",
        "plt.show()"
      ]
    },
    {
      "cell_type": "markdown",
      "id": "3be05734",
      "metadata": {
        "id": "3be05734"
      },
      "source": [
        "# Update the bar chart from question 4 to a vertical bar chart sorted by highest number of children born to lowest. \n"
      ]
    },
    {
      "cell_type": "code",
      "execution_count": null,
      "id": "62ef3682",
      "metadata": {
        "id": "62ef3682"
      },
      "outputs": [],
      "source": [
        "new_data = new_data.sort_values('total',ascending=False)"
      ]
    },
    {
      "cell_type": "code",
      "execution_count": null,
      "id": "47fd4da6",
      "metadata": {
        "id": "47fd4da6",
        "outputId": "8c5864a4-d586-4477-ff20-0e7bb9610596"
      },
      "outputs": [
        {
          "data": {
            "text/html": [
              "<div>\n",
              "<style scoped>\n",
              "    .dataframe tbody tr th:only-of-type {\n",
              "        vertical-align: middle;\n",
              "    }\n",
              "\n",
              "    .dataframe tbody tr th {\n",
              "        vertical-align: top;\n",
              "    }\n",
              "\n",
              "    .dataframe thead th {\n",
              "        text-align: right;\n",
              "    }\n",
              "</style>\n",
              "<table border=\"1\" class=\"dataframe\">\n",
              "  <thead>\n",
              "    <tr style=\"text-align: right;\">\n",
              "      <th></th>\n",
              "      <th>year</th>\n",
              "      <th>total</th>\n",
              "    </tr>\n",
              "    <tr>\n",
              "      <th>head_of_state</th>\n",
              "      <th></th>\n",
              "      <th></th>\n",
              "    </tr>\n",
              "  </thead>\n",
              "  <tbody>\n",
              "    <tr>\n",
              "      <th>George W. Bush</th>\n",
              "      <td>2001</td>\n",
              "      <td>33217492</td>\n",
              "    </tr>\n",
              "    <tr>\n",
              "      <th>Dwight D. Eisenhower</th>\n",
              "      <td>1953</td>\n",
              "      <td>33091109</td>\n",
              "    </tr>\n",
              "    <tr>\n",
              "      <th>Bill Clinton</th>\n",
              "      <td>1993</td>\n",
              "      <td>31584768</td>\n",
              "    </tr>\n",
              "    <tr>\n",
              "      <th>Ronald Reagan</th>\n",
              "      <td>1981</td>\n",
              "      <td>29853861</td>\n",
              "    </tr>\n",
              "    <tr>\n",
              "      <th>Harry S. Truman</th>\n",
              "      <td>1945</td>\n",
              "      <td>27970650</td>\n",
              "    </tr>\n",
              "    <tr>\n",
              "      <th>Richard Nixon</th>\n",
              "      <td>1969</td>\n",
              "      <td>20442896</td>\n",
              "    </tr>\n",
              "    <tr>\n",
              "      <th>Barack Obama</th>\n",
              "      <td>2009</td>\n",
              "      <td>19968663</td>\n",
              "    </tr>\n",
              "    <tr>\n",
              "      <th>Lyndon B. Johnson</th>\n",
              "      <td>1964</td>\n",
              "      <td>18416645</td>\n",
              "    </tr>\n",
              "    <tr>\n",
              "      <th>George H. W. Bush</th>\n",
              "      <td>1989</td>\n",
              "      <td>16375091</td>\n",
              "    </tr>\n",
              "    <tr>\n",
              "      <th>Jimmy Carter</th>\n",
              "      <td>1977</td>\n",
              "      <td>13766567</td>\n",
              "    </tr>\n",
              "    <tr>\n",
              "      <th>Franklin D. Roosevelt</th>\n",
              "      <td>1940</td>\n",
              "      <td>13414482</td>\n",
              "    </tr>\n",
              "    <tr>\n",
              "      <th>John F. Kennedy</th>\n",
              "      <td>1961</td>\n",
              "      <td>12533708</td>\n",
              "    </tr>\n",
              "    <tr>\n",
              "      <th>Gerald Ford</th>\n",
              "      <td>1975</td>\n",
              "      <td>6311986</td>\n",
              "    </tr>\n",
              "  </tbody>\n",
              "</table>\n",
              "</div>"
            ],
            "text/plain": [
              "                       year     total\n",
              "head_of_state                        \n",
              "George W. Bush         2001  33217492\n",
              "Dwight D. Eisenhower   1953  33091109\n",
              "Bill Clinton           1993  31584768\n",
              "Ronald Reagan          1981  29853861\n",
              "Harry S. Truman        1945  27970650\n",
              "Richard Nixon          1969  20442896\n",
              "Barack Obama           2009  19968663\n",
              "Lyndon B. Johnson      1964  18416645\n",
              "George H. W. Bush      1989  16375091\n",
              "Jimmy Carter           1977  13766567\n",
              "Franklin D. Roosevelt  1940  13414482\n",
              "John F. Kennedy        1961  12533708\n",
              "Gerald Ford            1975   6311986"
            ]
          },
          "execution_count": 38,
          "metadata": {},
          "output_type": "execute_result"
        }
      ],
      "source": [
        "new_data"
      ]
    },
    {
      "cell_type": "code",
      "execution_count": null,
      "id": "cde63848",
      "metadata": {
        "id": "cde63848",
        "outputId": "103271dd-eb3c-465b-ac1c-ca43deb9050f"
      },
      "outputs": [
        {
          "data": {
            "text/plain": [
              "<Figure size 864x432 with 0 Axes>"
            ]
          },
          "metadata": {},
          "output_type": "display_data"
        },
        {
          "data": {
            "image/png": "[encoded data removed]",
            "text/plain": [
              "<Figure size 432x288 with 1 Axes>"
            ]
          },
          "metadata": {
            "needs_background": "light"
          },
          "output_type": "display_data"
        }
      ],
      "source": [
        "plt.figure(figsize=(12,6))\n",
        "\n",
        "#new_data.plot(kind='bar')\n",
        "plt.plot()\n",
        "plt.title(\"number of total children born for every head of state\")\n",
        "plt.xlabel(\"head of state\")\n",
        "plt.xticks(rotation = 90)\n",
        "plt.ylabel(\"total count\")\n",
        "plt.show()"
      ]
    },
    {
      "cell_type": "markdown",
      "id": "1f0c9439",
      "metadata": {
        "id": "1f0c9439"
      },
      "source": [
        "# Under which President was the average ratio of boys born the highest?\n"
      ]
    },
    {
      "cell_type": "code",
      "execution_count": null,
      "id": "b6c891f2",
      "metadata": {
        "id": "b6c891f2",
        "outputId": "eab832ca-8cf0-4e59-e454-9934167b17b7"
      },
      "outputs": [
        {
          "data": {
            "text/plain": [
              "head_of_state\n",
              "Franklin D. Roosevelt    1.056\n",
              "Name: boy_to_girl_ratio, dtype: float64"
            ]
          },
          "execution_count": 44,
          "metadata": {},
          "output_type": "execute_result"
        }
      ],
      "source": [
        "data.groupby('head_of_state').mean()['boy_to_girl_ratio'].sort_values(ascending=False).head(1)"
      ]
    },
    {
      "cell_type": "code",
      "execution_count": null,
      "id": "002bfac3",
      "metadata": {
        "id": "002bfac3"
      },
      "outputs": [],
      "source": []
    }
  ],
  "metadata": {
    "kernelspec": {
      "display_name": "Python 3 (ipykernel)",
      "language": "python",
      "name": "python3"
    },
    "language_info": {
      "codemirror_mode": {
        "name": "ipython",
        "version": 3
      },
      "file_extension": ".py",
      "mimetype": "text/x-python",
      "name": "python",
      "nbconvert_exporter": "python",
      "pygments_lexer": "ipython3",
      "version": "3.9.12"
    },
    "colab": {
      "provenance": [],
      "include_colab_link": true
    }
  },
  "nbformat": 4,
  "nbformat_minor": 5
}